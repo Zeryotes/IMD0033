{
 "cells": [
  {
   "cell_type": "markdown",
   "metadata": {},
   "source": [
    "# IMD0033 - Probabilidade\n",
    "\n",
    "## Métodos de Contagem I\n",
    "\n",
    "#### Exercício 1"
   ]
  },
  {
   "cell_type": "markdown",
   "metadata": {},
   "source": [
    "Calcule o número de elementos nos dois conjuntos abaixo:"
   ]
  },
  {
   "cell_type": "code",
   "execution_count": null,
   "metadata": {},
   "outputs": [],
   "source": [
    "A = {10,15,34,17,23,18,32,25,0,19,44,48,41,27,23,3,48,44,17,10,41,14,20,16,30,4,20,15,21,30,27,9,12,2,24,5,47,7,24,17}\n",
    "B = {47,38,5,6,12,15,32,25,48,26,11,6,28,38,42,19,0,36,13,43,12,31,13,37,27,48,2,27,16,12,37,38,48,40,30,40,35}"
   ]
  },
  {
   "cell_type": "markdown",
   "metadata": {},
   "source": [
    "#### Exercício 2"
   ]
  },
  {
   "cell_type": "markdown",
   "metadata": {},
   "source": [
    "Calcule quantos elementos estão presentes no intervalo entre 3259 a 23095:"
   ]
  },
  {
   "cell_type": "code",
   "execution_count": null,
   "metadata": {},
   "outputs": [],
   "source": []
  },
  {
   "cell_type": "markdown",
   "metadata": {},
   "source": [
    "#### Exercício 3"
   ]
  },
  {
   "cell_type": "markdown",
   "metadata": {},
   "source": [
    "a) Quantos números são múltiplos de 7 no intervalo de 1 a 1000?"
   ]
  },
  {
   "cell_type": "code",
   "execution_count": null,
   "metadata": {},
   "outputs": [],
   "source": []
  },
  {
   "cell_type": "markdown",
   "metadata": {},
   "source": [
    "b) Quantos números são múltiplos de 7 no intervalo de 547 a 1000?"
   ]
  },
  {
   "cell_type": "code",
   "execution_count": null,
   "metadata": {},
   "outputs": [],
   "source": []
  },
  {
   "cell_type": "markdown",
   "metadata": {},
   "source": [
    "c) Quantos números de 1 a 1000 não são múltiplos de 3 e 7?"
   ]
  },
  {
   "cell_type": "code",
   "execution_count": null,
   "metadata": {},
   "outputs": [],
   "source": []
  },
  {
   "cell_type": "markdown",
   "metadata": {},
   "source": [
    "#### Exercício 4\n",
    "\n",
    "Em uma sala de aula, 80% passaram na prova de Português, 85% passaram na prova de Matemática e 75% passaram nas duas provas.  Se o número de alunos que não passaram foi 40, qual é o número total de alunos?\n",
    "\n"
   ]
  },
  {
   "cell_type": "code",
   "execution_count": null,
   "metadata": {},
   "outputs": [],
   "source": []
  },
  {
   "cell_type": "markdown",
   "metadata": {},
   "source": [
    "#### Exercício 5\n",
    "\n",
    "a) Suponha que no Subway você tenha opções de escolher entre 4 pães, 5 carnes, 3 queijos, 4 vegetais, e 3 molhos. A partir disso, quantos sanduíches diferentes você consegue montar escolhendo apenas um item de cada categoria?"
   ]
  },
  {
   "cell_type": "code",
   "execution_count": null,
   "metadata": {},
   "outputs": [],
   "source": []
  },
  {
   "cell_type": "markdown",
   "metadata": {},
   "source": [
    "b) Se você gosta de apenas um tipo de queijo, quantos sanduíches diferentes você consegue montar?"
   ]
  },
  {
   "cell_type": "code",
   "execution_count": null,
   "metadata": {},
   "outputs": [],
   "source": []
  },
  {
   "cell_type": "markdown",
   "metadata": {},
   "source": [
    "#### Exercício 6\n",
    "\n",
    "Cada ano inicia em um dos 7 dias da semana (Domingo a Sábado) e cada ano pode ser bissexto ou não. Então quantos calendários diferentes podemos ter para o ano?"
   ]
  },
  {
   "cell_type": "code",
   "execution_count": null,
   "metadata": {},
   "outputs": [],
   "source": []
  },
  {
   "cell_type": "code",
   "execution_count": null,
   "metadata": {},
   "outputs": [],
   "source": []
  },
  {
   "cell_type": "code",
   "execution_count": null,
   "metadata": {},
   "outputs": [],
   "source": []
  },
  {
   "cell_type": "markdown",
   "metadata": {},
   "source": [
    "#### Resposta:\n",
    "\n",
    "1: 41\n",
    "\n",
    "2: 19837\n",
    "\n",
    "3a: 142\n",
    "3b: 64\n",
    "3c: 572\n",
    "\n",
    "4: 400\n",
    "\n",
    "5a: 720 5b: 240\n",
    "\n",
    "6: 14\n"
   ]
  },
  {
   "cell_type": "code",
   "execution_count": null,
   "metadata": {},
   "outputs": [],
   "source": []
  }
 ],
 "metadata": {
  "kernelspec": {
   "display_name": "Python 3",
   "language": "python",
   "name": "python3"
  },
  "language_info": {
   "codemirror_mode": {
    "name": "ipython",
    "version": 3
   },
   "file_extension": ".py",
   "mimetype": "text/x-python",
   "name": "python",
   "nbconvert_exporter": "python",
   "pygments_lexer": "ipython3",
   "version": "3.7.1"
  }
 },
 "nbformat": 4,
 "nbformat_minor": 2
}
