{
 "cells": [
  {
   "cell_type": "markdown",
   "metadata": {},
   "source": [
    "# IMD0033 - Probabilidade\n",
    "\n",
    "## Análise combinatória\n",
    "\n",
    "#### Exercício 1\n",
    "\n",
    "a) Crie uma função que retorne fatorial de um número. A função deve receber um número que se quer fatorar."
   ]
  },
  {
   "cell_type": "code",
   "execution_count": 6,
   "metadata": {},
   "outputs": [],
   "source": [
    "def fatorial(n):\n",
    "    result = 1;\n",
    "    if (n > 0):\n",
    "        for i in range(n):\n",
    "            result *= i+1\n",
    "    return result"
   ]
  },
  {
   "cell_type": "code",
   "execution_count": 7,
   "metadata": {},
   "outputs": [],
   "source": [
    "def factorial(n):\n",
    "    if n == 0:\n",
    "        return 1\n",
    "    else:\n",
    "        return n * factorial(n-1)"
   ]
  },
  {
   "cell_type": "markdown",
   "metadata": {},
   "source": [
    "b) Crie uma função que retorne o número de arranjos. A função deve receber um número que se quer fatorar (n) e o limite da fatoração (k)"
   ]
  },
  {
   "cell_type": "code",
   "execution_count": 41,
   "metadata": {},
   "outputs": [],
   "source": [
    "def arranjo(n, k):\n",
    "    return (fatorial(n)/fatorial(n-k))"
   ]
  },
  {
   "cell_type": "markdown",
   "metadata": {},
   "source": [
    "c) Implemente uma função que calcule o coeficiente binomial. Ela deve receber o número de elementos no conjunto (n) e o tamanho do subconjunto (k)."
   ]
  },
  {
   "cell_type": "code",
   "execution_count": 9,
   "metadata": {},
   "outputs": [],
   "source": [
    "def cb(n,k):\n",
    "    return arranjo(n,k)/fatorial(k)\n",
    "    "
   ]
  },
  {
   "cell_type": "markdown",
   "metadata": {},
   "source": [
    "## itertools para formar permutações e combinações\n",
    "\n",
    "Você pode utilizar o itertools para também gerar as permutações e combinações possíveis."
   ]
  },
  {
   "cell_type": "code",
   "execution_count": null,
   "metadata": {},
   "outputs": [],
   "source": [
    "import itertools\n",
    "\n",
    "# permutações\n",
    "print(list(itertools.permutations([1,2,3], 2)))"
   ]
  },
  {
   "cell_type": "code",
   "execution_count": 58,
   "metadata": {
    "scrolled": true
   },
   "outputs": [
    {
     "name": "stdout",
     "output_type": "stream",
     "text": [
      "[(1, 2), (1, 3), (2, 3)]\n"
     ]
    }
   ],
   "source": [
    "# combinações\n",
    "print(list(itertools.combinations([1,2,3], 2)))\n",
    "        "
   ]
  },
  {
   "cell_type": "markdown",
   "metadata": {},
   "source": [
    "#### Exercício 2\n",
    "\n",
    "Suponha que você quer enfileirar 5 crianças, 3 meninos e 2 meninas. Responda:\n",
    "\n",
    "a) Quantas maneiras diferentes podemos ordenar as crianças? (Resposta: 120)"
   ]
  },
  {
   "cell_type": "code",
   "execution_count": 9,
   "metadata": {},
   "outputs": [
    {
     "name": "stdout",
     "output_type": "stream",
     "text": [
      "120\n"
     ]
    }
   ],
   "source": [
    "print(fatorial(5))"
   ]
  },
  {
   "cell_type": "markdown",
   "metadata": {},
   "source": [
    "b) Quantas maneiras diferentes podemos ordenar as crianças alternando entre meninos e meninas? (Resposta: 12)"
   ]
  },
  {
   "cell_type": "code",
   "execution_count": 10,
   "metadata": {},
   "outputs": [
    {
     "name": "stdout",
     "output_type": "stream",
     "text": [
      "12\n"
     ]
    }
   ],
   "source": [
    "print(fatorial(3)*fatorial(2))"
   ]
  },
  {
   "cell_type": "markdown",
   "metadata": {},
   "source": [
    "c) Quantas maneiras diferentes podemos ordenar as crianças de forma que os meninos fiquem juntos e meninas fiquem juntas? (Resposta: 24)"
   ]
  },
  {
   "cell_type": "code",
   "execution_count": 11,
   "metadata": {},
   "outputs": [
    {
     "name": "stdout",
     "output_type": "stream",
     "text": [
      "24\n"
     ]
    }
   ],
   "source": [
    "print(2*fatorial(3)*fatorial(2))"
   ]
  },
  {
   "cell_type": "markdown",
   "metadata": {},
   "source": [
    "d) Quantas maneiras diferentes podemos ordenar as crianças sem considerar a orientação (direita, esquerda)? (Resposta: 60)"
   ]
  },
  {
   "cell_type": "code",
   "execution_count": 42,
   "metadata": {},
   "outputs": [
    {
     "name": "stdout",
     "output_type": "stream",
     "text": [
      "60.0\n"
     ]
    }
   ],
   "source": [
    "print(fatorial(5)/2)"
   ]
  },
  {
   "cell_type": "markdown",
   "metadata": {},
   "source": [
    "#### Exercício 3\n",
    "\n",
    "Considere 5 pessoas que irão sentar em uma mesa redonda com cinco cadeiras fixas. Quantas maneiras diferentes podemos dispor as pessoas se:\n",
    "\n",
    "a) a rotação das pessoas importa no cálculo. (Resposta: 120)"
   ]
  },
  {
   "cell_type": "code",
   "execution_count": 14,
   "metadata": {},
   "outputs": [
    {
     "name": "stdout",
     "output_type": "stream",
     "text": [
      "120\n"
     ]
    }
   ],
   "source": [
    "print(fatorial(5))"
   ]
  },
  {
   "cell_type": "markdown",
   "metadata": {},
   "source": [
    "b) a rotação das pessoas não importa no cálculo. (Resposta: 24)"
   ]
  },
  {
   "cell_type": "code",
   "execution_count": 13,
   "metadata": {},
   "outputs": [
    {
     "name": "stdout",
     "output_type": "stream",
     "text": [
      "24.0\n"
     ]
    }
   ],
   "source": [
    "print(fatorial(5)/5)"
   ]
  },
  {
   "cell_type": "markdown",
   "metadata": {},
   "source": [
    "#### Exercício 4\n",
    "\n",
    "Suponhamos que você tenha 4 livros de programação, 5 livros de estatística e 6 livros de aprendizagem de máquina. Quantas formas diferentes você pode ordenar 2 livros de cada tópico, colocando sempre os livros de mesmo tópico lado a lado? (Resposta: 43200)"
   ]
  },
  {
   "cell_type": "code",
   "execution_count": 45,
   "metadata": {},
   "outputs": [
    {
     "name": "stdout",
     "output_type": "stream",
     "text": [
      "43200.0\n"
     ]
    }
   ],
   "source": [
    "print(fatorial(3)*arranjo(4,2)*arranjo(5,2)*arranjo(6,2))"
   ]
  },
  {
   "cell_type": "markdown",
   "metadata": {},
   "source": [
    "#### Exercício 5\n",
    "\n",
    "De quantas maneiras diferentes 5 carros (um BMW, um Chevy, um Fiat, um Honda e um Kia) pode se posicionar em um estacionamento com 8 vagas? (Resposta: 6720)"
   ]
  },
  {
   "cell_type": "code",
   "execution_count": 53,
   "metadata": {},
   "outputs": [
    {
     "name": "stdout",
     "output_type": "stream",
     "text": [
      "6720.0\n",
      "6720.0\n"
     ]
    }
   ],
   "source": [
    "print(cb(8,5)*fatorial(5))\n",
    "print(arranjo(8,5))"
   ]
  },
  {
   "attachments": {
    "image.png": {
     "image/png": "[encoded data removed]"
    }
   },
   "cell_type": "markdown",
   "metadata": {},
   "source": [
    "#### Exercício 6\n",
    "\n",
    "Quantos caminhos diferentes podemos percorrer do ponto A ao ponto B? Considere apenas duas direções: ir para cima ou ir para direita. (Resposta: 210)\n",
    "\n",
    "![image.png](attachment:image.png)\n"
   ]
  },
  {
   "cell_type": "code",
   "execution_count": 59,
   "metadata": {
    "scrolled": true
   },
   "outputs": [
    {
     "name": "stdout",
     "output_type": "stream",
     "text": [
      "210.0\n",
      "210.0\n"
     ]
    }
   ],
   "source": [
    "print(cb(10,6))\n",
    "print(cb(10,4))"
   ]
  },
  {
   "cell_type": "markdown",
   "metadata": {},
   "source": [
    "#### Exercício 7\n",
    "\n",
    "Quantas diagonais podemos formar em um dodecágono regular (polígono de 12 lados)? (Resposta: 54)"
   ]
  },
  {
   "cell_type": "code",
   "execution_count": 60,
   "metadata": {},
   "outputs": [
    {
     "data": {
      "text/plain": [
       "54.0"
      ]
     },
     "execution_count": 60,
     "metadata": {},
     "output_type": "execute_result"
    }
   ],
   "source": [
    "cb(12,2) - 12"
   ]
  },
  {
   "cell_type": "markdown",
   "metadata": {},
   "source": [
    "#### Exercício 8\n",
    "\n",
    "Um palíndromo é uma palavra que pode ser lido da mesma forma nas duas direções (exemplo: ARARA). Quantos palíndromos de 9 letras (não necessariamente com significado) podemos formar usando letras de A-Z (26 letras no total)? (Resposta: 11881376)"
   ]
  },
  {
   "cell_type": "code",
   "execution_count": 13,
   "metadata": {},
   "outputs": [
    {
     "data": {
      "text/plain": [
       "11881376"
      ]
     },
     "execution_count": 13,
     "metadata": {},
     "output_type": "execute_result"
    }
   ],
   "source": [
    "26**5"
   ]
  },
  {
   "cell_type": "markdown",
   "metadata": {},
   "source": [
    "#### Exercício 9\n",
    "\n",
    "De quantas formas possíveis podemos formar sequências de cinco letras utilizando apenas letras de A-H? Quantas delas possui letras distintas? (Respostas: 32768, 6720)"
   ]
  },
  {
   "cell_type": "code",
   "execution_count": 61,
   "metadata": {},
   "outputs": [
    {
     "name": "stdout",
     "output_type": "stream",
     "text": [
      "32768\n",
      "6720.0\n"
     ]
    }
   ],
   "source": [
    "print(8**5)\n",
    "print(arranjo(8,5))"
   ]
  },
  {
   "cell_type": "markdown",
   "metadata": {},
   "source": [
    "#### Exercício 10\n",
    "\n",
    "Queremos desenhar uma bandeira que possui 3 faixas horizontais. A cor da faixa do meio deve ser diferente das duas faixas. Quantas maneiras possíveis podemos desenhar esta bandeira considerando que as faixas podem ser da cor vermelha, verde, azul, amarela, preta e branca? (Resposta: 150)"
   ]
  },
  {
   "cell_type": "code",
   "execution_count": 62,
   "metadata": {},
   "outputs": [
    {
     "data": {
      "text/plain": [
       "150"
      ]
     },
     "execution_count": 62,
     "metadata": {},
     "output_type": "execute_result"
    }
   ],
   "source": [
    "6*5*5"
   ]
  },
  {
   "cell_type": "markdown",
   "metadata": {},
   "source": [
    "#### Exercício 11\n",
    "\n",
    "O departamento de ciência quer formar um comitê de físicos e matemáticos com 8 membros. Existem 15 matemáticos e 20 físicos que podem fazer parte deste comitê. De quantas maneiras este comitê pode ser formado? Quantas dessas maneiras existem mais matemáticos que físico, mas com pelo menos um físico? (Resposta: 4503070)"
   ]
  },
  {
   "cell_type": "code",
   "execution_count": 63,
   "metadata": {},
   "outputs": [
    {
     "name": "stdout",
     "output_type": "stream",
     "text": [
      "23535820.0\n",
      "4503070.0\n"
     ]
    }
   ],
   "source": [
    "# todas as combinações\n",
    "all = cb(35,8)\n",
    "print(all)\n",
    "\n",
    "# 1 físico e 7 matemáticos\n",
    "F1M7 = cb(20,1)*cb(15,7)\n",
    "# 2 físico e 6 matemáticos\n",
    "F2M6 = cb(20,2)*cb(15,6)\n",
    "# 3 físico e 5 matemáticos\n",
    "F3M5 = cb(20,3)*cb(15,5)\n",
    "print(F1M7 + F2M6 + F3M5)"
   ]
  },
  {
   "cell_type": "markdown",
   "metadata": {},
   "source": [
    "#### Exercício 12\n",
    "\n",
    "Quatro mulheres, Ana, Bet, Carol e Diana, e seis homens, Eric, Fred, Gil, Henry, Ian, e João, são amigos. Cada uma das mulheres querem se casar com um dos homens. De quantas maneiras isso pode ser possível? (Resposta: 360)"
   ]
  },
  {
   "cell_type": "code",
   "execution_count": 64,
   "metadata": {},
   "outputs": [
    {
     "data": {
      "text/plain": [
       "360.0"
      ]
     },
     "execution_count": 64,
     "metadata": {},
     "output_type": "execute_result"
    }
   ],
   "source": [
    "arranjo(6,4)"
   ]
  },
  {
   "cell_type": "markdown",
   "metadata": {},
   "source": [
    "#### Exercício 13\n",
    "\n",
    "Quantos subconjuntos de 5 elementos podemos formar do conjunto { 1, 2, 3,..., 10 } contém pelo menos um elemento ímpar? (Resposta: 251)"
   ]
  },
  {
   "cell_type": "code",
   "execution_count": 65,
   "metadata": {},
   "outputs": [
    {
     "data": {
      "text/plain": [
       "251.0"
      ]
     },
     "execution_count": 65,
     "metadata": {},
     "output_type": "execute_result"
    }
   ],
   "source": [
    "cb(10,5)-1"
   ]
  },
  {
   "cell_type": "markdown",
   "metadata": {},
   "source": [
    "#### Exercício 14\n",
    "\n",
    "Quantos anagramas podemos formar com a palavra PERSA? Quantos destes anagramas as vogais estão juntas? (Resposta: 120, 48)"
   ]
  },
  {
   "cell_type": "code",
   "execution_count": 66,
   "metadata": {},
   "outputs": [
    {
     "data": {
      "text/plain": [
       "48"
      ]
     },
     "execution_count": 66,
     "metadata": {},
     "output_type": "execute_result"
    }
   ],
   "source": [
    "fatorial(5)\n",
    "fatorial(2)*fatorial(3)*4"
   ]
  },
  {
   "cell_type": "markdown",
   "metadata": {},
   "source": [
    "#### Exercícios complementares\n",
    "\n",
    "Considere 5 pessoas que irão sentar em uma mesa com cinco cadeiras fixas. Quantas maneiras diferentes podemos dispor as pessoas se:\n",
    "\n",
    "a) a mesa é retangular e as pessoas ficarão dispostos lado a lado? (Resposta: 120)"
   ]
  },
  {
   "cell_type": "code",
   "execution_count": 14,
   "metadata": {},
   "outputs": [
    {
     "name": "stdout",
     "output_type": "stream",
     "text": [
      "120\n"
     ]
    }
   ],
   "source": [
    "print(fatorial(5))"
   ]
  },
  {
   "cell_type": "markdown",
   "metadata": {},
   "source": [
    "b) a mesa é redonda e a rotação das pessoas não importa no cálculo. (Resposta: 24)"
   ]
  },
  {
   "cell_type": "code",
   "execution_count": 13,
   "metadata": {},
   "outputs": [
    {
     "name": "stdout",
     "output_type": "stream",
     "text": [
      "24.0\n"
     ]
    }
   ],
   "source": [
    "print(fatorial(5)/5)"
   ]
  },
  {
   "cell_type": "markdown",
   "metadata": {},
   "source": [
    "Quantos anagramas podemos formar com a palavra NATAL? (Resposta: 60)"
   ]
  },
  {
   "cell_type": "code",
   "execution_count": 51,
   "metadata": {},
   "outputs": [
    {
     "data": {
      "text/plain": [
       "60.0"
      ]
     },
     "execution_count": 51,
     "metadata": {},
     "output_type": "execute_result"
    }
   ],
   "source": [
    "fatorial(5)/2"
   ]
  },
  {
   "cell_type": "code",
   "execution_count": null,
   "metadata": {},
   "outputs": [],
   "source": []
  }
 ],
 "metadata": {
  "kernelspec": {
   "display_name": "Python 3",
   "language": "python",
   "name": "python3"
  },
  "language_info": {
   "codemirror_mode": {
    "name": "ipython",
    "version": 3
   },
   "file_extension": ".py",
   "mimetype": "text/x-python",
   "name": "python",
   "nbconvert_exporter": "python",
   "pygments_lexer": "ipython3",
   "version": "3.7.1"
  }
 },
 "nbformat": 4,
 "nbformat_minor": 2
}
