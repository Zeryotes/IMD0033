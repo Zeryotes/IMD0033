{
 "cells": [
  {
   "cell_type": "markdown",
   "metadata": {},
   "source": [
    "# Estatística Descritiva\n",
    "\n",
    "## Medidas de dispersão\n",
    "\n",
    "Na aula passada foi visto que as medidas de tendência central são medidas que procuram caracterizar um conjunto de dados descrevendo, de forma numérica, aonde os dados se concentram. Estas medidas são largamente utilizadas na caracterização dos dados, no entanto, existem situações em que dois conjuntos de dados completamente diferentes possuem o mesmo valor numérico para cada uma das medidas de tendência central."
   ]
  },
  {
   "cell_type": "code",
   "execution_count": 2,
   "metadata": {},
   "outputs": [],
   "source": [
    "import matplotlib.pyplot as plt\n",
    "import numpy as np\n",
    "\n",
    "def mediana (listNum):\n",
    "    listNum = sorted(listNum)\n",
    "    lenList = len(listNum)\n",
    "    if (lenList % 2 == 0):\n",
    "        mediana = (listNum[int((lenList/2)-1)] + listNum[int(lenList/2)])/2\n",
    "    else:\n",
    "        mediana = listNum[int((lenList - 1)/2)]\n",
    "    return mediana\n",
    "\n",
    "def moda (listNum):\n",
    "    valor = {}\n",
    "    maxCount = 0\n",
    "    moda = []\n",
    "    for i in listNum:\n",
    "        if i not in valor:\n",
    "            valor[i] = 1\n",
    "        else:\n",
    "            valor[i] += 1\n",
    "\n",
    "        if (maxCount < valor[i]):\n",
    "            maxCount = valor[i]\n",
    "            moda = [i]\n",
    "        elif (maxCount == valor[i]):\n",
    "            moda.append(i)\n",
    "    moda = sorted(moda)\n",
    "    return moda\n",
    "\n",
    "def medArit (listNum):\n",
    "    lenList = len(listNum)\n",
    "    soma = 0\n",
    "    for i in listNum:\n",
    "        soma += i\n",
    "    return soma/lenList\n"
   ]
  },
  {
   "cell_type": "code",
   "execution_count": 3,
   "metadata": {},
   "outputs": [
    {
     "data": {
      "image/png": "[encoded data removed]",
      "text/plain": [
       "<Figure size 432x288 with 1 Axes>"
      ]
     },
     "metadata": {},
     "output_type": "display_data"
    },
    {
     "data": {
      "image/png": "[encoded data removed]",
      "text/plain": [
       "<Figure size 432x288 with 1 Axes>"
      ]
     },
     "metadata": {},
     "output_type": "display_data"
    }
   ],
   "source": [
    "data1= [54,61,60,71,64,49,62,54,62,65,64,31,62,60,47,65,55,58,56,63,70,53,55,64,43,51,74,53,41,58,57,50,74,65,80,79,66,65,46,53,54,62,47,75,70,61,59,44,64,64,65,53,78,70,69,57,55,71,78,51,54,60,50,67,69,69,48,60,41,53,65,53,55,71,56,51,68,59,81,69,55,72,53,66,49,66,55,60,50,37,58,69,58,62,70,51,55,58,60,69]\n",
    "data2 = [56,64,70,56,58,61,62,67,69,63,59,61,57,60,55,63,60,65,58,61,51,56,67,57,60,68,59,61,62,67,58,60,61,57,63,64,62,62,68,62,63,59,51,58,55,58,46,62,69,67,67,65,50,62,55,66,52,67,55,62,60,75,56,59,67,57,62,60,58,65,52,69,66,65,56,61,56,62,60,54,54,64,61,61,54,57,59,60,60,57,62,52,62,57,51,57,51,62,61,58]\n",
    "bins = np.arange(0,110,5)\n",
    "plt.hist(data1, bins)\n",
    "plt.yticks(np.arange(0,41,5))\n",
    "plt.show()\n",
    "plt.hist(data2, bins)\n",
    "plt.show()"
   ]
  },
  {
   "cell_type": "code",
   "execution_count": 4,
   "metadata": {},
   "outputs": [
    {
     "name": "stdout",
     "output_type": "stream",
     "text": [
      "Data 1\n",
      "média aritmética: 59.79\n",
      "mediana: 60.00\n",
      "moda: 53,55\n"
     ]
    }
   ],
   "source": [
    "print(\"Data 1\")\n",
    "print(\"média aritmética: %.2f\" % (medArit(data1)))\n",
    "print(\"mediana: %.2f\" % (mediana(data1)))\n",
    "print(\"moda: %s\" % (\",\".join(str(x) for x in moda(data1))))"
   ]
  },
  {
   "cell_type": "code",
   "execution_count": 5,
   "metadata": {},
   "outputs": [
    {
     "name": "stdout",
     "output_type": "stream",
     "text": [
      "Data 2\n",
      "média aritmética: 60.19\n",
      "mediana: 60.00\n",
      "moda: 62\n"
     ]
    }
   ],
   "source": [
    "print(\"Data 2\")\n",
    "print(\"média aritmética: %.2f\" % (medArit(data2)))\n",
    "print(\"mediana: %.2f\" % (mediana(data2)))\n",
    "print(\"moda: %s\" % (\",\".join(str(x) for x in moda(data2))))"
   ]
  },
  {
   "cell_type": "markdown",
   "metadata": {},
   "source": [
    "### Desvio entre Quartis\n",
    "\n",
    "Amplitude entre quartis corresponde a média entre o Q1 e o Q3. É uma medida de dispersão mais robusta que a amplitude, já que ele descarta da análise os 25% maiores e os 25% menores dados.\n",
    "\n",
    "#### Exercício 1\n",
    "Monte uma função que recebe uma lista de números e retorne o desvio entre quartis. Calcule o desvio entre quartis dos dados contidos nas variáveis data1 e data2. <i>(Resposta: data1: 6.5, data2: 3.0)</i>"
   ]
  },
  {
   "cell_type": "code",
   "execution_count": 28,
   "metadata": {
    "scrolled": true
   },
   "outputs": [
    {
     "name": "stdout",
     "output_type": "stream",
     "text": [
      "6.5\n",
      "3.0\n"
     ]
    }
   ],
   "source": [
    "def deq(numList):\n",
    "    numList = sorted(numList)\n",
    "    lenList = len(numList)\n",
    "    if (lenList % 2 == 0):\n",
    "        minorList = numList[0:int(lenList/2)]\n",
    "        majorList = numList[int(lenList/2):lenList]\n",
    "    else:\n",
    "        minorList = numList[0:int(lenList/2)]\n",
    "        majorList = numList[int((lenList/2)+1):lenList]\n",
    "    \n",
    "    q1 = mediana(minorList)\n",
    "    q3 = mediana(majorList)\n",
    "    return (q3 -q1)/2\n",
    "\n",
    "print(deq(data1))\n",
    "print(deq(data2))"
   ]
  },
  {
   "cell_type": "markdown",
   "metadata": {},
   "source": [
    "### Gerando um gráfico boxplot com matplotlib.pyplot\n",
    "Mais detalhes em:\n",
    "\n",
    "https://matplotlib.org/api/_as_gen/matplotlib.pyplot.boxplot.html\n",
    "\n",
    "https://matplotlib.org/examples/pylab_examples/boxplot_demo.html"
   ]
  },
  {
   "cell_type": "code",
   "execution_count": 29,
   "metadata": {},
   "outputs": [
    {
     "data": {
      "image/png": "[encoded data removed]",
      "text/plain": [
       "<Figure size 432x288 with 1 Axes>"
      ]
     },
     "metadata": {},
     "output_type": "display_data"
    }
   ],
   "source": [
    "plt.boxplot([data1, data2])\n",
    "plt.yticks(range(25,85,2))\n",
    "plt.grid()\n",
    "plt.show()"
   ]
  },
  {
   "cell_type": "markdown",
   "metadata": {},
   "source": [
    "### Outliers\n",
    "\n",
    "O que são os pontos abaixo e acima dos traços da mínima e da máxima que apareceram no boxplot na célula anterior?\n",
    "\n",
    "Estes pontos, que também fazem parte do conjunto de dados são denominados outliers, que representam aqueles dados extremos, que se encontram distantes do restante dos dados. \n",
    "\n",
    "Em muitos boxplots, os traços do mínimo e do máximo não são necessariamente o mínimo e o máximo dos dados. O matplotlib.pyplot, neste caso, calcula a partir dos dados IQR e das posições do valor do Q1 e do Q3 para determinar o limite do boxplot.\n",
    "\n",
    "Para o limite inferior, utiliza-se a fórmula: Q1 - 1.5 \\* IQR\n",
    "\n",
    "Para o limite superior, utiliza-se a fórmula: Q3 + 1.5 \\* IQR\n",
    "\n",
    "Os traços do mínimo e do máximo, neste caso, representam os primeiros ou os últimos dados que estejam dentro dos limites calculados pelas fórmulas anteriores.\n",
    "\n",
    "#### Exercício 2\n",
    "\n",
    "Crie uma função que retorne o IQR. Depois, determine o IQR para os dados em data1 e data2. <i>(Resposta: IQR de data1: 13, IQR de data2: 6)</i>"
   ]
  },
  {
   "cell_type": "code",
   "execution_count": 11,
   "metadata": {},
   "outputs": [
    {
     "name": "stdout",
     "output_type": "stream",
     "text": [
      "13.0\n",
      "6.0\n"
     ]
    }
   ],
   "source": [
    "def iqr(numList):\n",
    "    numList = sorted(numList)\n",
    "    lenList = len(numList)\n",
    "    if (lenList % 2 == 0):\n",
    "        minorList = numList[0:int(lenList/2)]\n",
    "        majorList = numList[int(lenList/2):lenList]\n",
    "    else:\n",
    "        minorList = numList[0:int(lenList/2)]\n",
    "        majorList = numList[int((lenList/2)+1):lenList]\n",
    "    \n",
    "    q1 = mediana(minorList)\n",
    "    q3 = mediana(majorList)\n",
    "    return (q3 -q1)\n",
    "\n",
    "print(iqr(data1))\n",
    "print(iqr(data2))"
   ]
  },
  {
   "cell_type": "markdown",
   "metadata": {},
   "source": [
    "Para dados1, o limite inferior seria: \n",
    "\n",
    "Q1 - 1.5 \\* IQR = 53 - 1.5 \\* 13 = 33.5\n",
    "\n",
    "O valor mínimo em dados1 é 31 (representado com um ponto), e o primeiro valor no conjunto de dados que é superior a 33.5 é o 37, onde encontramos exatamente o traço do limite inferior.\n",
    "\n",
    "No caso do limite superior de dados1:\n",
    "\n",
    "Q3 + 1.5 \\* IQR = 66 - 1.5 \\* IQR = 85.5\n",
    "\n",
    "Como o valor máximo em dados1, que é 81, é inferior a 85.5, o limite superior fica no 81."
   ]
  },
  {
   "cell_type": "markdown",
   "metadata": {},
   "source": [
    "### Desvio em relação à média\n",
    "\n",
    "Uma das formas interessantes de descrever os dados de acordo com a dispersão é calculando a diferença entre os pontos e a média. Esta diferença é chamada simplesmente de **desvio**. Uma conta intuitiva seria calcular a média desse desvio.\n",
    "\n",
    "#### Exercício 3\n",
    "\n",
    "Calcule a média dos desvios dos conjuntos de dados presentes nas variáveis data1 e data2."
   ]
  },
  {
   "cell_type": "code",
   "execution_count": 17,
   "metadata": {},
   "outputs": [
    {
     "name": "stdout",
     "output_type": "stream",
     "text": [
      "0\n",
      "0\n"
     ]
    }
   ],
   "source": [
    "# coloque o seu código aqui\n",
    "dados1np = np.array(data1)\n",
    "meanDados1 = dados1np.mean()\n",
    "desvio1 = dados1np - meanDados1\n",
    "print(int(desvio1.mean()))\n",
    "\n",
    "dados2np = np.array(data2)\n",
    "meanDados2 = dados2np.mean()\n",
    "desvio2 = dados2np - meanDados2\n",
    "print(int(desvio2.mean()))"
   ]
  },
  {
   "cell_type": "markdown",
   "metadata": {},
   "source": [
    "A partir do exercício anterior, logo chegamos a conclusão de que isso não é um procedimento interessante já que a somatória dos desvios é sempre 0 (ou próximo dele).\n",
    "\n",
    "Então o que podemos fazer para tomar proveito dos valores de desvio?\n",
    "\n",
    "### Desvio absoluto\n",
    "\n",
    "Uma das formas de contornar isso é transformando o valor do desvio em números absolutos. Assim, os desvios sempre terão valores positivos, possibilitando que e a média do desvio absoluto seja maior que zero e dependente dos dados.\n",
    "\n",
    "#### Exercício 4\n",
    "\n",
    "Calcule a média do desvio absoluto dos conjuntos de valores paresentes em data1 e data2."
   ]
  },
  {
   "cell_type": "code",
   "execution_count": 19,
   "metadata": {},
   "outputs": [
    {
     "name": "stdout",
     "output_type": "stream",
     "text": [
      "7.7383999999999995\n",
      "3.9737999999999998\n"
     ]
    }
   ],
   "source": [
    "# coloque o seu código aqui\n",
    "dados1np = np.array(data1)\n",
    "meanDados1 = dados1np.mean()\n",
    "desvio1 = dados1np - meanDados1\n",
    "desvio1 = abs(desvio1)\n",
    "print(desvio1.mean())\n",
    "\n",
    "dados2np = np.array(data2)\n",
    "meanDados2 = dados2np.mean()\n",
    "desvio2 = dados2np - meanDados2\n",
    "desvio2 = abs(desvio2)\n",
    "print(desvio2.mean())"
   ]
  },
  {
   "cell_type": "markdown",
   "metadata": {},
   "source": [
    "### Variância\n",
    "\n",
    "Uma segunda forma de contornar o problema da somatória dos desvios seria elevando cada um dos desvios ao quadrado. Esta operação também resulta sempre em números positivos, permitindo que a sua média seja maior que zero e dependente de dados. A média dos desvios ao quadrado também é conhecida como variância e é largamente utilizado em diferentes áreas da estatística.\n",
    "\n",
    "#### Exercício 5\n",
    "\n",
    "Calcule a média do quadrado do desvio (variância) dos conjuntos de dados em data1 e data2."
   ]
  },
  {
   "cell_type": "code",
   "execution_count": 20,
   "metadata": {},
   "outputs": [
    {
     "name": "stdout",
     "output_type": "stream",
     "text": [
      "92.52590000000001\n",
      "25.7339\n"
     ]
    }
   ],
   "source": [
    "# coloque o seu código aqui\n",
    "dados1np = np.array(data1)\n",
    "meanDados1 = dados1np.mean()\n",
    "desvio1 = dados1np - meanDados1\n",
    "desvio1 = desvio1**2\n",
    "print(desvio1.mean())\n",
    "\n",
    "dados2np = np.array(data2)\n",
    "meanDados2 = dados2np.mean()\n",
    "desvio2 = dados2np - meanDados2\n",
    "desvio2 = desvio2**2\n",
    "print(desvio2.mean())"
   ]
  },
  {
   "cell_type": "markdown",
   "metadata": {},
   "source": [
    "### Desvio padrão\n",
    "\n",
    "Quando lidamos com a variância, estamos lidando com um valor que possui duas dimensões, já que sempre estamos elevando os valores dos desvios ao quadrado. Por isso, em muitos casos é interessante linearizar a variância, e podemos fazer isso calculando a sua raiz quadrada. A raiz quadrada da variância é conhecida como desvio padrão.\n",
    "\n",
    "#### Exercício 6\n",
    "\n",
    "Calcule o desvio padrão dos conjuntos de dados em data1 e data2."
   ]
  },
  {
   "cell_type": "code",
   "execution_count": 30,
   "metadata": {},
   "outputs": [
    {
     "name": "stdout",
     "output_type": "stream",
     "text": [
      "9.619038413479801\n",
      "5.072859154362557\n"
     ]
    }
   ],
   "source": [
    "# coloque o seu código aqui\n",
    "dados1np = np.array(data1)\n",
    "meanDados1 = dados1np.mean()\n",
    "desvio1 = dados1np - meanDados1\n",
    "desvio1 = desvio1**2\n",
    "print(desvio1.mean()**0.5)\n",
    "\n",
    "dados2np = np.array(data2)\n",
    "meanDados2 = dados2np.mean()\n",
    "desvio2 = dados2np - meanDados2\n",
    "desvio2 = desvio2**2\n",
    "print(desvio2.mean()**0.5)"
   ]
  },
  {
   "cell_type": "markdown",
   "metadata": {},
   "source": [
    "#### Exercício 7\n",
    "\n",
    "Um treinador de basquete está na dúvida entre três jogadores (A, B, C) para a sua escalação. Tomando nota das últimas pontuações realizadas por cada um destes jogadores, qual o jogador o treinador deveria escalar? Considere os números de pontos e a constância dos jogadores como critérios importantes para a escolha. "
   ]
  },
  {
   "cell_type": "code",
   "execution_count": 27,
   "metadata": {},
   "outputs": [
    {
     "name": "stdout",
     "output_type": "stream",
     "text": [
      "jogador A: média 24.214; sd 3.098\n",
      "jogador B média 26.643; sd 6.498\n",
      "jogador C: média 24.286; sd 0.589\n"
     ]
    }
   ],
   "source": [
    "A = [25,24,24,24,28,26,27,26,22,18,30,24,21,20]\n",
    "B = [36,21,33,20,34,28,23,34,28,28,23,26,11,28]\n",
    "C = [25,25,23,24,25,24,25,25,24,24,24,24,24,24]\n",
    "\n",
    "# coloque o seu código aqui\n",
    "dadosA = np.array(A)\n",
    "dadosB = np.array(B)\n",
    "dadosC = np.array(C)\n",
    "print(\"jogador A: média %.3f; sd %.3f\" % (dadosA.mean(), dadosA.std()))\n",
    "print(\"jogador B: média %.3f; sd %.3f\" % (dadosB.mean(), dadosB.std()))\n",
    "print(\"jogador C: média %.3f; sd %.3f\" % (dadosC.mean(), dadosC.std()))"
   ]
  },
  {
   "cell_type": "markdown",
   "metadata": {
    "collapsed": true
   },
   "source": [
    "#### Exercício 8\n",
    "\n",
    "Um estudante tirou notas cujo desvio padrão é zero. O que podemos dizer sobre as notas deste estudante?\n"
   ]
  },
  {
   "cell_type": "markdown",
   "metadata": {},
   "source": [
    "*Resposta*: O aluno tirou as mesmas notas em todas as provas realizadas."
   ]
  },
  {
   "cell_type": "markdown",
   "metadata": {
    "collapsed": true
   },
   "source": [
    "## Coeficiente de variação\n",
    "\n",
    "O coeficiente de variação (CV) é uma medida relativa de dispersão. Ela corresponde a razão entre o desvio padrão e a média. Podemos dizer, por exemplo, que se CV = 0.15 (15%), o desvio padrão corresponde a 15% da média.\n",
    "\n",
    "O CV é particularmente usado quando você quer comparar dados de duas grandezas distintas ou de diferentes medidas. Por exemplo, podemos querer comparar dois sistemas de avaliação que possuem esquema de pontuação diferente. Se a nota das pessoas que fizeram o teste A for 25% de CV e no teste B for 12% de CV, então a variação é maior no teste A.\n",
    "\n",
    "#### Exercício 9\n",
    "\n",
    "Calcule o CV das notas de quem fez a prova no TOEFL e no IELTS. A média e o desvio padrão das notas da prova do TOEFL foi de  83.6 e 20.3, respectivamente. Já a média e o desvio padrão das notas da prova do IELTS foi de 6.6 e 0.8, respectivamente."
   ]
  },
  {
   "cell_type": "code",
   "execution_count": 32,
   "metadata": {},
   "outputs": [
    {
     "name": "stdout",
     "output_type": "stream",
     "text": [
      "0.24282296650717705\n"
     ]
    }
   ],
   "source": [
    "cvT = 20.3/83.6\n",
    "print(cvT)"
   ]
  },
  {
   "cell_type": "code",
   "execution_count": 33,
   "metadata": {},
   "outputs": [
    {
     "name": "stdout",
     "output_type": "stream",
     "text": [
      "0.12121212121212123\n"
     ]
    }
   ],
   "source": [
    "cvI = 0.8/6.6\n",
    "print(cvI)"
   ]
  },
  {
   "cell_type": "code",
   "execution_count": null,
   "metadata": {},
   "outputs": [],
   "source": []
  }
 ],
 "metadata": {
  "kernelspec": {
   "display_name": "Python 3",
   "language": "python",
   "name": "python3"
  },
  "language_info": {
   "codemirror_mode": {
    "name": "ipython",
    "version": 3
   },
   "file_extension": ".py",
   "mimetype": "text/x-python",
   "name": "python",
   "nbconvert_exporter": "python",
   "pygments_lexer": "ipython3",
   "version": "3.6.5"
  }
 },
 "nbformat": 4,
 "nbformat_minor": 2
}
