{
 "cells": [
  {
   "cell_type": "markdown",
   "metadata": {},
   "source": [
    "# Introdução à Python"
   ]
  },
  {
   "cell_type": "markdown",
   "metadata": {},
   "source": [
    "## If statements\n",
    "\n",
    "Um bloco de código que é executado caso a condição estabelecida seja verdadeira.\n",
    "\n",
    "### Logical operators\n",
    "\n",
    "```\n",
    "==  # equal\n",
    "!=  # not equal\n",
    "<   # greater than\n",
    "<=  # greater than or equal\n",
    ">   # minor than\n",
    ">=  # minor than or equal\n",
    "and # and rule\n",
    "or  # or rule\n",
    "```"
   ]
  },
  {
   "cell_type": "code",
   "execution_count": null,
   "metadata": {},
   "outputs": [],
   "source": [
    "age = 17\n",
    "if ((age >= 18) and (age <= 70)):\n",
    "    # (18 <= age <= 70) also works\n",
    "    # execute if condition1 is true\n",
    "    print('you must vote')\n",
    "elif (age >= 16):\n",
    "    # execute if condition1 is false\n",
    "    # and condition2 is true\n",
    "    print('you may vote')\n",
    "else:\n",
    "    # execute if condition1 and\n",
    "    # condition 2 is false\n",
    "    print('you can\\'t vote yet')"
   ]
  },
  {
   "cell_type": "markdown",
   "metadata": {},
   "source": [
    "## Functions\n",
    "\n",
    "Um bloco de código que é executado quando chamado."
   ]
  },
  {
   "cell_type": "code",
   "execution_count": 3,
   "metadata": {
    "scrolled": true
   },
   "outputs": [
    {
     "name": "stdout",
     "output_type": "stream",
     "text": [
      "yes, you must vote\n"
     ]
    }
   ],
   "source": [
    "age = 25\n",
    "def shouldIVote(input):\n",
    "    age = input\n",
    "    if ((age >= 18) and (age <= 70)):\n",
    "        result = 'yes, you must vote'\n",
    "    elif (age >= 16):\n",
    "        result = 'yes, you may vote'\n",
    "    else:\n",
    "        result = 'no, you can\\'t vote yet'\n",
    "    return result\n",
    "\n",
    "print(shouldIVote(age))"
   ]
  },
  {
   "cell_type": "markdown",
   "metadata": {},
   "source": [
    "### Exercício\n",
    "\n",
    "Escreva uma função que calcule a idade de um cachorro correspondente ao ano do cachorro. Para cachorros que tenha menos de 2 anos, 1 ano do cachorro corresponde a 10,5 anos humanos. Para cachorros acima de 2 anos, cada ano do cachorro corresponde a 4 anos humanos."
   ]
  },
  {
   "cell_type": "code",
   "execution_count": 62,
   "metadata": {},
   "outputs": [
    {
     "name": "stdout",
     "output_type": "stream",
     "text": [
      "A idade do cachorro é 5.25\n"
     ]
    }
   ],
   "source": [
    "h_age = 0.5\n",
    "\n",
    "def dogAge(h_age):\n",
    "    if h_age < 0:\n",
    "        return(\"Age must be positive number.\")\n",
    "    elif h_age <= 2:\n",
    "        d_age = h_age * 10.5\n",
    "    else:\n",
    "        d_age = 21 + (h_age - 2)*4\n",
    "    return d_age\n",
    "\n",
    "print(\"A idade do cachorro é\", dogAge(h_age))"
   ]
  },
  {
   "cell_type": "markdown",
   "metadata": {},
   "source": [
    "## For loops\n",
    "\n",
    "Um bloco de código que executa até o término de uma lista."
   ]
  },
  {
   "cell_type": "code",
   "execution_count": 7,
   "metadata": {},
   "outputs": [
    {
     "name": "stdout",
     "output_type": "stream",
     "text": [
      "0  1  2  3  4  5  6  7  8  9  \n",
      "apple\n",
      "banana\n",
      "mango\n"
     ]
    }
   ],
   "source": [
    "# for loops\n",
    "fruits = ['apple', 'banana', 'mango']\n",
    "for y in fruits:\n",
    "    print(y) # prints all elements "
   ]
  },
  {
   "cell_type": "code",
   "execution_count": 9,
   "metadata": {},
   "outputs": [
    {
     "name": "stdout",
     "output_type": "stream",
     "text": [
      "0  1  2  3  4  5  6  7  8  9  "
     ]
    }
   ],
   "source": [
    "# for loops with range()\n",
    "for i in range(0,10):\n",
    "    print(i, ' ', end='') # prints from 1 to 9"
   ]
  },
  {
   "cell_type": "code",
   "execution_count": 8,
   "metadata": {},
   "outputs": [
    {
     "name": "stdout",
     "output_type": "stream",
     "text": [
      "0  2  4  6  8  "
     ]
    }
   ],
   "source": [
    "# continue\n",
    "for i in range(0,10):\n",
    "    if(i % 2 == 1):\n",
    "        continue\n",
    "    print(i, ' ', end='') # prints from 1 to 9"
   ]
  },
  {
   "cell_type": "code",
   "execution_count": 10,
   "metadata": {},
   "outputs": [
    {
     "name": "stdout",
     "output_type": "stream",
     "text": [
      "0  1  2  3  4  "
     ]
    }
   ],
   "source": [
    "# break\n",
    "for i in range(0,10):\n",
    "    if(i == 5):\n",
    "        break\n",
    "    print(i, ' ', end='') # prints from 1 to 9"
   ]
  },
  {
   "cell_type": "markdown",
   "metadata": {},
   "source": [
    "### Exercício\n",
    "\n",
    "A variável \"idades\" é uma lista que contém idades de n pessoas de uma população. Verifique quantas pessoas dentro desta amostra que devem votar."
   ]
  },
  {
   "cell_type": "code",
   "execution_count": 66,
   "metadata": {},
   "outputs": [
    {
     "name": "stdout",
     "output_type": "stream",
     "text": [
      "61\n"
     ]
    }
   ],
   "source": [
    "idades = [75,41,91,10,80,38,49,71,5,51,37,72,49,61,16,91,88,1,79,13,40,57,6,70,57,18,17,42,23,12,42,97,59,41,90,18,80,51,51,69,79,16,20,57,29,96,25,28,58,51,69,97,55,50,27,8,69,76,60,38,48,73,45,50,77,23,65,53,41,14,68,93,54,31,25,54,75,70,11,6,78,15,47,96,94,70,40,48,5,55,70,89,70,59,25,18,20,56,88,41]\n",
    "\n",
    "count = 0;\n",
    "for i in range(0,len(idades)):\n",
    "    if(shouldIVote(idades[i]) == \"yes, you must vote\"):\n",
    "        count += 1\n",
    "print(count)"
   ]
  },
  {
   "cell_type": "markdown",
   "metadata": {},
   "source": [
    "## While loop\n",
    "\n",
    "Um bloco de código que é executado enquanto a condição estabelecida seja verdadeira."
   ]
  },
  {
   "cell_type": "code",
   "execution_count": 11,
   "metadata": {},
   "outputs": [
    {
     "name": "stdout",
     "output_type": "stream",
     "text": [
      "75  41  91  10  80  38  49  71  5  51  37  72  49  61  16  91  88  1  79  13  40  57  6  70  57  18  17  42  23  12  42  97  59  41  90  18  80  51  51  69  79  16  20  57  29  96  25  28  58  51  69  97  55  50  27  8  69  76  60  38  48  73  45  50  77  23  65  53  41  14  68  93  54  31  25  54  75  70  11  6  78  15  47  96  94  70  40  48  5  55  70  89  70  59  25  18  20  56  88  41  "
     ]
    }
   ],
   "source": [
    "# while loop\n",
    "import random\n",
    "i = 0\n",
    "\n",
    "# while loop\n",
    "while (i < 100):\n",
    "    randNum = random.randrange(0, 100) # random number(0-100)\n",
    "    print(randNum, ' ', end='')\n",
    "    i += 1\n",
    "    "
   ]
  },
  {
   "cell_type": "code",
   "execution_count": 15,
   "metadata": {},
   "outputs": [
    {
     "name": "stdout",
     "output_type": "stream",
     "text": [
      "94  84  31  77  49  59  74  16  69  20  "
     ]
    }
   ],
   "source": [
    "# while loop 2\n",
    "i = 0\n",
    "while (i < 100):\n",
    "    randNum = random.randrange(0, 100) # random number(0-99)\n",
    "    print(randNum, ' ', end='')\n",
    "    if (randNum % 10 == 0): # exit if multiple of 10\n",
    "        break\n",
    "    i += 1"
   ]
  },
  {
   "cell_type": "markdown",
   "metadata": {},
   "source": [
    "### Exercício\n",
    "\n",
    "Gere 100 números randômicos de 0 a 2. Verifique quantos são divisíveis por 2."
   ]
  },
  {
   "cell_type": "code",
   "execution_count": 72,
   "metadata": {},
   "outputs": [
    {
     "name": "stdout",
     "output_type": "stream",
     "text": [
      "64\n"
     ]
    }
   ],
   "source": [
    "i = 0\n",
    "div = 0\n",
    "while (i < 100):\n",
    "    x = random.randrange(0, 3) # random number(0-100)\n",
    "    if (x % 2 == 0):\n",
    "        div += 1\n",
    "    i += 1\n",
    "print(div)"
   ]
  },
  {
   "cell_type": "markdown",
   "metadata": {},
   "source": [
    "Gere um número randômico de 0 a 2 e um segundo número randômico de 0 a 2. Compare se os dois números gerados são iguais. Repita este procedimento 1000 vezes. Quantas vezes os dois números foram iguais?"
   ]
  },
  {
   "cell_type": "code",
   "execution_count": 42,
   "metadata": {},
   "outputs": [
    {
     "name": "stdout",
     "output_type": "stream",
     "text": [
      "320\n"
     ]
    }
   ],
   "source": [
    "i = 0\n",
    "igual = 0\n",
    "while (i < 1000):\n",
    "    x = random.randrange(0, 3) # random number(0-100)\n",
    "    y = random.randrange(0, 3) # random number(0-100)\n",
    "    if (x == y):\n",
    "        igual += 1\n",
    "    i += 1\n",
    "print(igual)"
   ]
  },
  {
   "cell_type": "markdown",
   "metadata": {},
   "source": [
    "Escreva um programa que gera uma sequência de Fibonacci de 0 a 50. (resultado esperado: 0,1,1,2,3,5,8,13,21,34)"
   ]
  },
  {
   "cell_type": "code",
   "execution_count": 73,
   "metadata": {},
   "outputs": [
    {
     "name": "stdout",
     "output_type": "stream",
     "text": [
      "0\n",
      "1\n",
      "1\n",
      "2\n",
      "3\n",
      "5\n",
      "8\n",
      "13\n",
      "21\n",
      "34\n"
     ]
    }
   ],
   "source": [
    "x,y = 0,1\n",
    "print(x)\n",
    "while(y < 50):\n",
    "    print(y)\n",
    "    x,y= y,x+y"
   ]
  },
  {
   "cell_type": "markdown",
   "metadata": {},
   "source": [
    "## Open file\n",
    "\n",
    "Para abrir um arquivo, utilize a função open()."
   ]
  },
  {
   "cell_type": "code",
   "execution_count": 17,
   "metadata": {
    "scrolled": true
   },
   "outputs": [],
   "source": [
    "# open file\n",
    "f = open(\"teste.csv\", \"r\")"
   ]
  },
  {
   "cell_type": "markdown",
   "metadata": {},
   "source": [
    "### Read file\n",
    "\n",
    "Existem duas formas de ler o arquivo que foi aberto:\n",
    "\n",
    "read() - lê o arquivo inteiro.\n",
    "\n",
    "readline() - lê o arquivo linha por linha."
   ]
  },
  {
   "cell_type": "code",
   "execution_count": 44,
   "metadata": {},
   "outputs": [
    {
     "name": "stdout",
     "output_type": "stream",
     "text": [
      "Agig00006,AG,16,213536,213567\n",
      "Agig00008,CT,11,218445,218466\n",
      "Agig00009,TG,13,241556,241581\n",
      "Agig00010,TG,13,243863,243888\n",
      "Agig00012,TG,20,266766,266805\n",
      "Agig00013,TG,13,270437,270462\n",
      "Agig00014,GT,14,270520,270547\n",
      "Agig00016,TG,13,287839,287864\n",
      "\n"
     ]
    }
   ],
   "source": [
    "# read entire file\n",
    "data = f.read()\n",
    "\n",
    "# prints the entire data\n",
    "print(data)"
   ]
  },
  {
   "cell_type": "code",
   "execution_count": 51,
   "metadata": {},
   "outputs": [
    {
     "name": "stdout",
     "output_type": "stream",
     "text": [
      "Agig00006,AG,16,213536,213567\n",
      "Agig00008,CT,11,218445,218466\n",
      "Agig00009,TG,13,241556,241581\n",
      "Agig00010,TG,13,243863,243888\n",
      "Agig00012,TG,20,266766,266805\n",
      "9\n"
     ]
    }
   ],
   "source": [
    "# splits data based on '\\n'\n",
    "rows = data.split('\\n')\n",
    "\n",
    "# prints the first five rows\n",
    "for row in range(0,5):\n",
    "    print(rows[row])"
   ]
  },
  {
   "cell_type": "code",
   "execution_count": 23,
   "metadata": {},
   "outputs": [
    {
     "name": "stdout",
     "output_type": "stream",
     "text": [
      "Locus,Motif,Repeats,Start,End\n",
      "\n"
     ]
    }
   ],
   "source": [
    "# read file\n",
    "f = open(\"teste.csv\", \"r\")\n",
    "\n",
    "# pick the first line\n",
    "line = f.readline()\n",
    "\n",
    "# prints the first line\n",
    "print(line)"
   ]
  },
  {
   "cell_type": "code",
   "execution_count": 31,
   "metadata": {},
   "outputs": [
    {
     "name": "stdout",
     "output_type": "stream",
     "text": [
      "Agig00010,TG,13,243863,243888\n",
      "\n"
     ]
    }
   ],
   "source": [
    "# pick the second line and so on...\n",
    "line = f.readline()\n",
    "\n",
    "# prints the second line and so on...\n",
    "print(line)"
   ]
  },
  {
   "cell_type": "code",
   "execution_count": 32,
   "metadata": {
    "scrolled": true
   },
   "outputs": [
    {
     "name": "stdout",
     "output_type": "stream",
     "text": [
      "Locus,Motif,Repeats,Start,End\n",
      "\n",
      "Agig00001,TG,15,4256,4285\n",
      "\n",
      "Agig00003,AT,16,88398,88429\n",
      "\n",
      "Agig00004,TA,13,194936,194961\n",
      "\n",
      "Agig00005,AT,19,213498,213535\n",
      "\n"
     ]
    }
   ],
   "source": [
    "# read file\n",
    "f = open(\"teste.csv\", \"r\")\n",
    "\n",
    "\n",
    "# prints the first five rows\n",
    "for row in range(0,5):\n",
    "    line = f.readline()\n",
    "    print(line)"
   ]
  },
  {
   "cell_type": "markdown",
   "metadata": {},
   "source": [
    "### Exercício\n",
    "\n",
    "Abra o arquivo wdbc.data e verifique:\n",
    "\n",
    "a) Quantas linhas o arquivo possui? Utilize a função readline()."
   ]
  },
  {
   "cell_type": "code",
   "execution_count": 77,
   "metadata": {},
   "outputs": [
    {
     "name": "stdout",
     "output_type": "stream",
     "text": [
      "13\n"
     ]
    }
   ],
   "source": [
    "f = open(\"wdbc.data\", \"r\")\n",
    "\n",
    "count = 0\n",
    "line = f.readline()\n",
    "while(line):\n",
    "    count += 1\n",
    "    line = f.readline()\n",
    "\n",
    "print(count)"
   ]
  },
  {
   "cell_type": "markdown",
   "metadata": {},
   "source": [
    "b) Quantas colunas o arquivo possui? Considere que as colunas estejam delimitadas por \",\"."
   ]
  },
  {
   "cell_type": "code",
   "execution_count": 85,
   "metadata": {},
   "outputs": [
    {
     "name": "stdout",
     "output_type": "stream",
     "text": [
      "32\n"
     ]
    }
   ],
   "source": [
    "f = open(\"wdbc.data\", \"r\")\n",
    "\n",
    "count = 0\n",
    "line = f.readline()\n",
    "col = line.split(\",\")\n",
    "print(len(col))"
   ]
  },
  {
   "cell_type": "markdown",
   "metadata": {},
   "source": [
    "c) Quantas categorias distintas estão presentes na segunda coluna?"
   ]
  },
  {
   "cell_type": "code",
   "execution_count": 86,
   "metadata": {},
   "outputs": [
    {
     "name": "stdout",
     "output_type": "stream",
     "text": [
      "{'M': 1, 'B': 1}\n"
     ]
    }
   ],
   "source": [
    "f = open(\"wdbc.data\", \"r\")\n",
    "\n",
    "dict = {}\n",
    "line = f.readline()\n",
    "while(line):\n",
    "    col = line.split(\",\")\n",
    "    dict[col[1]] = 1\n",
    "    line = f.readline()\n",
    "\n",
    "print(dict)"
   ]
  },
  {
   "cell_type": "markdown",
   "metadata": {},
   "source": [
    "d) Qual o número de observações encontrados para cada categoria da segunda coluna?"
   ]
  },
  {
   "cell_type": "code",
   "execution_count": 87,
   "metadata": {},
   "outputs": [
    {
     "name": "stdout",
     "output_type": "stream",
     "text": [
      "{'M': 212, 'B': 357}\n"
     ]
    }
   ],
   "source": [
    "f = open(\"wdbc.data\", \"r\")\n",
    "\n",
    "dict = {}\n",
    "line = f.readline()\n",
    "while(line):\n",
    "    col = line.split(\",\")\n",
    "    if(col[1] not in dict):\n",
    "        dict[col[1]] = 0\n",
    "    dict[col[1]] += 1\n",
    "    line = f.readline()\n",
    "\n",
    "print(dict)"
   ]
  },
  {
   "cell_type": "code",
   "execution_count": null,
   "metadata": {},
   "outputs": [],
   "source": []
  }
 ],
 "metadata": {
  "kernelspec": {
   "display_name": "Python 3",
   "language": "python",
   "name": "python3"
  },
  "language_info": {
   "codemirror_mode": {
    "name": "ipython",
    "version": 3
   },
   "file_extension": ".py",
   "mimetype": "text/x-python",
   "name": "python",
   "nbconvert_exporter": "python",
   "pygments_lexer": "ipython3",
   "version": "3.6.5"
  }
 },
 "nbformat": 4,
 "nbformat_minor": 2
}
