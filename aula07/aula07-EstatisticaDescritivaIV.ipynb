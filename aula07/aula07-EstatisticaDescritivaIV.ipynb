{
 "cells": [
  {
   "cell_type": "markdown",
   "metadata": {
    "collapsed": true
   },
   "source": [
    "# Estatística Descritiva\n",
    "\n",
    "## Normalização dos dados e Z-score\n",
    "\n",
    "A normalização dos dados utilizando o Z-score é uma forma padronizar a distribuição normal de forma que a média e o desvio padrão se torne 0 e 1, respectivamente. Esta nova distribuição normal é denominada de distribuição normal padrão. Através da distribuição normal padrão e os valores tabelados da área sobre curva em diferentes valores do Z-score, podemos estimar a porcentagem de dados que está acima ou abaixo de um determinado valor, ou mesmo entre um intervalo de dois valores.\n"
   ]
  },
  {
   "cell_type": "code",
   "execution_count": null,
   "metadata": {},
   "outputs": [],
   "source": [
    "import numpy as np\n",
    "import matplotlib.pyplot as plt"
   ]
  },
  {
   "cell_type": "code",
   "execution_count": null,
   "metadata": {},
   "outputs": [],
   "source": [
    "def medArit (listNum):\n",
    "    lenList = len(listNum)\n",
    "    soma = 0\n",
    "    for i in listNum:\n",
    "        soma += i\n",
    "    return soma/lenList\n",
    "\n",
    "# implemente uma função que calcule o desvio padrão de um número\n",
    "def sd (listNum):\n",
    "    "
   ]
  },
  {
   "cell_type": "markdown",
   "metadata": {},
   "source": [
    "Abaixo encontra-se o primeiro conjunto de dados mostrado no slide da aula."
   ]
  },
  {
   "cell_type": "code",
   "execution_count": null,
   "metadata": {},
   "outputs": [],
   "source": [
    "data1 = np.array([175,161,208,105,141,202,172,251,230,212,181,196,196,187,175,149,188,218,181,176,189,121,181,244,138,180,163,196,227,162,116,247,226,194,231,219,180,149,235,184,197,156,214,149,171,218,184,216,196,146,232,205,197,192,248,199,208,230,155,140,162,182,216,251,264,222,181,234,172,170,168,258,237,143,151,247,271,153,221,197,197,133,210,205,168,195,183,204,181,219,168,226,146,201,261,252,183,160,166,192,203,180,134,172,212,224,175,210,201,197,195,207,122,180,205,173,274,156,184,220,197,191,170,221,202,226,188,164,194,304,221,226,206,152,128,235,176,189,185,236,93,247,257,189,171,225,137,205,174,198,143,199,236,251,176,202,157,131,162,103,158,199,206,248,192,219,186,221,179,125,133,220,169,207,136,190,220,124,190,185,224,163,286,172,152,193,204,166,220,182,192,231,195,154,213,185,239,234,242,243])\n",
    "bins = np.linspace(data1.min(),data1.max(),20)\n",
    "plt.hist(data1, bins, rwidth=0.9)\n",
    "plt.show()"
   ]
  },
  {
   "cell_type": "markdown",
   "metadata": {},
   "source": [
    "#### Exercício 1\n",
    "\n",
    "Desenvolva uma função que transforme os dados utilizando a fórmula do z-score.\n",
    "\n",
    "Lembrando que z = (x - μ)/σ"
   ]
  },
  {
   "cell_type": "code",
   "execution_count": null,
   "metadata": {},
   "outputs": [],
   "source": [
    "def zscore (listNum):\n",
    "    "
   ]
  },
  {
   "cell_type": "markdown",
   "metadata": {},
   "source": [
    "#### Exercício 2\n",
    "Transforme todos os valores em data1 em z-score e calcule a média e o desvio padrão do conjunto de dados transformados"
   ]
  },
  {
   "cell_type": "code",
   "execution_count": null,
   "metadata": {},
   "outputs": [],
   "source": [
    "data1Z = # armazene os dados transformados nesta variável\n",
    "\n",
    "binsZ = np.linspace(np.array(data1Z).min(),np.array(data1Z).max(),20)\n",
    "plt.hist(data1Z, binsZ, rwidth=0.9)\n",
    "plt.show()"
   ]
  },
  {
   "cell_type": "markdown",
   "metadata": {},
   "source": [
    "#### Exercício 3\n",
    "\n",
    "Faça os mesmos procedimentos no segundo conjunto de dados, e verifique a média e o desvio padrão de seus valores transformados em z-score."
   ]
  },
  {
   "cell_type": "code",
   "execution_count": null,
   "metadata": {},
   "outputs": [],
   "source": [
    "data2 = np.array([69,677,196,394,477,244,415,202,190,-454,-32,598,352,867,478,184,392,756,247,-41,502,-62,126,455,286,496,240,-77,331,-24,-92,-90,87,341,1.343,31,-32,427,52,146,374,237,217,-338,-92,214,545,576,587,173,294,537,818,488,397,-222,-60,538,752,518,579,-15,102,666,148,727,176,696,-315,320,663,-19,-60,516,837,598,832,-131,692,650,665,348,538,747,-206,173,736,478,475,491,140,-47,385,613,267,579,495,74,352,199,313,584,338,793,-6,-91,295,317,940,484,499,169,609,276,253,749,588,376,954,291,354,518,540,751,552,901,427,842,368,462,571,27,207,46,296,653,314,705,141,365,-31,345,182,257,-32,604,-98,445,391,145,261,-460,610,108,350,-36,489,298,332,427,267,78,439,245,421,426,58,434,308,374,523,-396,-201,-389,429,141,201,464,968,179,257,689,127,219,15,486,643,627,267,84,318,-241,14,796,118,-113,734,-191,270,102])\n",
    "bins2 = np.linspace(data2.min(),data2.max(),20)\n",
    "\n",
    "plt.hist(data2, bins2, rwidth=0.9)\n",
    "plt.show()"
   ]
  },
  {
   "cell_type": "code",
   "execution_count": null,
   "metadata": {},
   "outputs": [],
   "source": [
    "data2Z = # armazene os dados transformados nesta variável\n",
    "\n",
    "binsZ = np.linspace(np.array(data2Z).min(),np.array(data2Z).max(),20)\n",
    "plt.hist(data2Z, bins2Z, rwidth=0.9)\n",
    "plt.show()\n",
    "\n",
    "# calcule a média e o desvio padrão dos dados transformados\n"
   ]
  },
  {
   "cell_type": "markdown",
   "metadata": {},
   "source": [
    "#### Exercício 4\n",
    "\n",
    "Faça os mesmos procedimentos no terceiro conjunto de dados, e verifique a média e o desvio padrão de seus valores transformados em z-score."
   ]
  },
  {
   "cell_type": "code",
   "execution_count": null,
   "metadata": {},
   "outputs": [],
   "source": [
    "data3 = np.concatenate([data1,data1+1000])\n",
    "bins = np.linspace(data3.min(),data3.max(),20)\n",
    "\n",
    "plt.hist(data3, bins, rwidth=0.9)\n",
    "plt.show()"
   ]
  },
  {
   "cell_type": "code",
   "execution_count": null,
   "metadata": {},
   "outputs": [],
   "source": [
    "data3Z = # armazene os dados transformados nesta variável\n",
    "\n",
    "binsZ = np.linspace(np.array(data3Z).min(),np.array(data3Z).max(),20)\n",
    "plt.hist(data3Z, bins3Z, rwidth=0.9)\n",
    "plt.show()\n",
    "\n",
    "# calcule a média e o desvio padrão dos dados transformados\n"
   ]
  },
  {
   "cell_type": "markdown",
   "metadata": {},
   "source": [
    "#### Exercício 5\n",
    "\n",
    "Após uma prova de vestibular feita por 500 candidatos, observou-se que as notas possuem uma distribuição normal e que a média das notas foi 60 e o seu desvio padrão 15. Estes candidatos estavam disputando 50 vagas. O que dizer daquele candidato que tirou 80? \n",
    "\n",
    "Consulte a tabela Z [aqui](http://www.z-table.com)."
   ]
  },
  {
   "cell_type": "code",
   "execution_count": null,
   "metadata": {},
   "outputs": [],
   "source": []
  },
  {
   "cell_type": "markdown",
   "metadata": {
    "collapsed": true
   },
   "source": [
    "#### Exercício 6\n",
    "Em relação às estatísticas da prova de vestibular do exercício 4, qual será que foi a nota do candidato que conquistou a última vaga? (<i>Resposta: 79.2</i>)"
   ]
  },
  {
   "cell_type": "code",
   "execution_count": null,
   "metadata": {},
   "outputs": [],
   "source": []
  },
  {
   "cell_type": "markdown",
   "metadata": {},
   "source": [
    "#### Exercício 7\n",
    "\n",
    "Considerando novamente os dados estatísticos da prova de vestibular do exercício 4, quantos alunos obtiveram uma nota entre 55 e 65? (<i>Resposta: aproximadamente 129 alunos</i>)"
   ]
  },
  {
   "cell_type": "code",
   "execution_count": null,
   "metadata": {},
   "outputs": [],
   "source": []
  },
  {
   "cell_type": "markdown",
   "metadata": {
    "collapsed": true
   },
   "source": [
    "### Teste de normalidade\n",
    "\n",
    "Um dos testes estatísticos mais utilizados para testar se um determinado dado segue uma distribuição normal é o <b>Teste de Shapiro-Wilk</b>. Neste teste, verificamos duas hipóteses, a hipótese de que os dados seguem uma distribuição normal (hipótese nula) e a hipótese de que os dados não seguem uma distribuição normal (hipótese alternativa).\n",
    "\n",
    "A função <b>stats.shapiro()</b> do pacote <b>scipy</b> retorna dois valores, o valor W e um p-valor. Para verificar se os seus dados seguem uma distribuição normal, basta verificar se o p-valor está acima de 0.05."
   ]
  },
  {
   "cell_type": "code",
   "execution_count": null,
   "metadata": {},
   "outputs": [],
   "source": [
    "from scipy import stats\n",
    "\n",
    "stats.shapiro(data1)"
   ]
  },
  {
   "cell_type": "markdown",
   "metadata": {},
   "source": [
    "#### Exercício\n",
    "\n",
    "Verifique se os dados em data2 e data3 seguem uma distribuição normal."
   ]
  },
  {
   "cell_type": "code",
   "execution_count": null,
   "metadata": {},
   "outputs": [],
   "source": []
  },
  {
   "cell_type": "code",
   "execution_count": null,
   "metadata": {},
   "outputs": [],
   "source": []
  },
  {
   "cell_type": "code",
   "execution_count": null,
   "metadata": {},
   "outputs": [],
   "source": []
  }
 ],
 "metadata": {
  "kernelspec": {
   "display_name": "Python 3",
   "language": "python",
   "name": "python3"
  },
  "language_info": {
   "codemirror_mode": {
    "name": "ipython",
    "version": 3
   },
   "file_extension": ".py",
   "mimetype": "text/x-python",
   "name": "python",
   "nbconvert_exporter": "python",
   "pygments_lexer": "ipython3",
   "version": "3.6.5"
  }
 },
 "nbformat": 4,
 "nbformat_minor": 2
}
