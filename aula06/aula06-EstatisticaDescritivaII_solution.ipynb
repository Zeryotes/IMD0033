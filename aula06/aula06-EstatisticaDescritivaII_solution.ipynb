{
 "cells": [
  {
   "cell_type": "markdown",
   "metadata": {},
   "source": [
    "# Estatística Descritiva II\n",
    "\n",
    "## Medidas de Tendência Central\n",
    "\n",
    "As medidas de tendência central, como o nome diz, são medidas que tentam descrever aonde se encontra o valor central dos dados. É interessante ter esta descrição do valor central dos dados, já que dados que possuem uma distribuição comumente encontrado (normal, binomial, poisson, etc) tendem a terem seus pontos mais concentrados no centro. Nesta aula descreveremos as principais medidas de tendência central utilizadas."
   ]
  },
  {
   "cell_type": "code",
   "execution_count": 1,
   "metadata": {
    "collapsed": true
   },
   "outputs": [],
   "source": [
    "import numpy as np\n",
    "import matplotlib.pyplot as plt"
   ]
  },
  {
   "cell_type": "markdown",
   "metadata": {},
   "source": [
    "### Mediana\n",
    "A mediana é o elemento que se encontra no meio de uma lista ordenada. O seu valor divide os dados em duas partes, onde metade é maior que a mediana e a outra metade menor.\n",
    "\n",
    "Se o número de elementos em uma lista ordenada for ímpar, a mediana será o elemento na posição (n - 1)/2, onde n é o número de elementos e considerando que a primeira posição seja 0.\n",
    "\n",
    "Se o número de elementos em uma lista ordenada for par, a mediana será a média aritmética dos elementos na posição (n/2)-1 e n/2, onde n é o número de elementos e considerando que a primeira posição seja 0.\n",
    "\n",
    "#### Exercício 1:\n",
    "Crie uma função em Python que receba uma lista de número e encontre a sua mediana"
   ]
  },
  {
   "cell_type": "code",
   "execution_count": 2,
   "metadata": {},
   "outputs": [
    {
     "name": "stdout",
     "output_type": "stream",
     "text": [
      "1.5\n"
     ]
    }
   ],
   "source": [
    "def mediana (listNum):\n",
    "    listNum = sorted(listNum)\n",
    "    lenList = len(listNum)\n",
    "    if (lenList % 2 == 0):\n",
    "        mediana = (listNum[int((lenList/2)-1)] + listNum[int(lenList/2)])/2\n",
    "    else:\n",
    "        mediana = listNum[int((lenList - 1)/2)]\n",
    "    return mediana\n",
    "lista = [1,2,3,3,1,1]\n",
    "print(mediana(lista))"
   ]
  },
  {
   "cell_type": "markdown",
   "metadata": {},
   "source": [
    "### Moda\n",
    "A moda é uma medida que indica o valor mais frequente nos dados.\n",
    "\n",
    "#### Exercício 2:\n",
    "Crie uma função em Python que receba uma lista de número e encontre a moda."
   ]
  },
  {
   "cell_type": "code",
   "execution_count": 3,
   "metadata": {},
   "outputs": [
    {
     "name": "stdout",
     "output_type": "stream",
     "text": [
      "[1, 3]\n"
     ]
    }
   ],
   "source": [
    "def moda (listNum):\n",
    "    valor = {}\n",
    "    maxCount = 0\n",
    "    moda = []\n",
    "    for i in listNum:\n",
    "        if i not in valor:\n",
    "            valor[i] = 1\n",
    "        else:\n",
    "            valor[i] += 1\n",
    "\n",
    "        if (maxCount < valor[i]):\n",
    "            maxCount = valor[i]\n",
    "            moda = [i]\n",
    "        elif (maxCount == valor[i]):\n",
    "            moda.append(i)\n",
    "    moda = sorted(moda)\n",
    "    return moda\n",
    "\n",
    "lista = [1,2,3,3,1]\n",
    "print(moda(lista))"
   ]
  },
  {
   "cell_type": "markdown",
   "metadata": {},
   "source": [
    "### Média aritmética\n",
    "A média aritmética é uma importante medida de centralidade. Quando calculamos a média, é como se estivéssemos querendo obter um número que, caso somado o número de vezes correspondente ao número de elementos, teremos o mesmo valor da somatória dos elementos. "
   ]
  },
  {
   "cell_type": "code",
   "execution_count": 4,
   "metadata": {},
   "outputs": [
    {
     "name": "stdout",
     "output_type": "stream",
     "text": [
      "2.0\n"
     ]
    }
   ],
   "source": [
    "def medArit (listNum):\n",
    "    lenList = len(listNum)\n",
    "    soma = 0\n",
    "    for i in listNum:\n",
    "        soma += i\n",
    "    return soma/lenList\n",
    "\n",
    "lista = [1,2,3,3,1,3,1]\n",
    "print(medArit(lista))"
   ]
  },
  {
   "cell_type": "markdown",
   "metadata": {},
   "source": [
    "#### Exercício 3\n",
    "\n",
    "Dada as listas abaixo, gere um histograma de cada uma delas e verifique as distribuição dos dados."
   ]
  },
  {
   "cell_type": "code",
   "execution_count": 5,
   "metadata": {},
   "outputs": [
    {
     "data": {
      "image/png": "[encoded data removed]",
      "text/plain": [
       "<Figure size 432x288 with 1 Axes>"
      ]
     },
     "metadata": {},
     "output_type": "display_data"
    },
    {
     "data": {
      "image/png": "[encoded data removed]",
      "text/plain": [
       "<Figure size 432x288 with 1 Axes>"
      ]
     },
     "metadata": {},
     "output_type": "display_data"
    },
    {
     "data": {
      "image/png": "[encoded data removed]",
      "text/plain": [
       "<Figure size 432x288 with 1 Axes>"
      ]
     },
     "metadata": {},
     "output_type": "display_data"
    }
   ],
   "source": [
    "A = [9,4,14,11,10,10,8,12,5,11,11,9,9,7,10,9,9,10,9,10,6,8,6,8,10,9,12,6,10,10,7,11,8,10,8,8,10,8,14,10,7,6,9,11,11,7,14,12,13,9,7,10,9,7,6,14,8,10,12,12,9,12,8,13,6,9,11,10,11,7,9,11,6,10,10,11,8,8,8,9,10,7,7,6,9,12,10,10,13,8,12,9,6,10,7,10,11,12,11,6]\n",
    "B = [1,2,2,13,15,3,4,2,4,10,2,3,4,1,3,6,3,3,5,2,3,2,1,5,64,11,4,6,36,11,8,2,1,3,5,21,2,1,12,4,9,1,1,6,3,3,7,3,2,4,2,3,1,2,1,2,1,5,2,3,1,1,3,3,6,2,6,7,4,2,4,25,2,4,4,4,5,2,9,4,1,15,2,3,6,25,3,7,2,11,1,5,1,5,5,4,4,8,2,5]\n",
    "C = [1,2,2,13,15,3,4,2,4,10,2,3,4,1,3,6,3,3,5,2,3,2,1,5,64,11,4,6,36,11,8,2,1,3,5,21,2,1,12,4,9,1,1,6,3,3,7,3,2,4,2,3,1,2,1,2,1,5,2,3,1,1,3,3,6,2,6,7,4,2,4,25,2,4,4,4,5,2,9,4,1,15,2,3,6,25,3,7,2,11,1,5,1,5,5,4,4,8,2,5,100]\n",
    "\n",
    "bins=np.arange(1,20)\n",
    "dataA = plt\n",
    "dataA.hist(A,bins,rwidth=0.9)\n",
    "dataA.show()\n",
    "\n",
    "bins=np.arange(1,101)\n",
    "dataB = plt\n",
    "dataB.hist(B,bins,rwidth=0.9)\n",
    "dataB.show()\n",
    "dataC = plt\n",
    "dataC.hist(C,bins,rwidth=0.9)\n",
    "dataC.show()"
   ]
  },
  {
   "cell_type": "markdown",
   "metadata": {},
   "source": [
    "#### Exercício 4\n",
    "\n",
    "Agora, calcule a moda, mediana e média aritmética de cada uma delas e compare os seus resultados. O que podemos dizer a respeito de cada uma das medidas?"
   ]
  },
  {
   "cell_type": "code",
   "execution_count": 6,
   "metadata": {},
   "outputs": [
    {
     "name": "stdout",
     "output_type": "stream",
     "text": [
      "média de A: 9.32\n",
      "mediana de A: 9.00\n",
      "moda de A: 10\n",
      "\n",
      "média de B: 5.64\n",
      "mediana de B: 3.00\n",
      "moda de B: 2\n",
      "\n",
      "média de C: 6.57\n",
      "mediana de C: 3.00\n",
      "moda de c: 2\n"
     ]
    }
   ],
   "source": [
    "print(\"média de A: %.2f\" % (medArit(A)))\n",
    "print(\"mediana de A: %.2f\" % (mediana(A)))\n",
    "print(\"moda de A: %s\" % (\",\".join(str(x) for x in moda(A))))\n",
    "print()\n",
    "print(\"média de B: %.2f\" % (medArit(B)))\n",
    "print(\"mediana de B: %.2f\" % (mediana(B)))\n",
    "print(\"moda de B: %s\" % (\",\".join(str(x) for x in moda(B))))\n",
    "print()\n",
    "print(\"média de C: %.2f\" % (medArit(C)))\n",
    "print(\"mediana de C: %.2f\" % (mediana(C)))\n",
    "print(\"moda de c: %s\" % (\",\".join(str(x) for x in moda(C))))\n"
   ]
  },
  {
   "cell_type": "markdown",
   "metadata": {},
   "source": [
    "### Média ponderada\n",
    "\n",
    "#### Exercício 5\n",
    "Crie uma função que recebe duas listas (valor e peso) e calcule a média ponderada."
   ]
  },
  {
   "cell_type": "code",
   "execution_count": 7,
   "metadata": {},
   "outputs": [
    {
     "name": "stdout",
     "output_type": "stream",
     "text": [
      "9.571428571428571\n"
     ]
    }
   ],
   "source": [
    "def medPon (numList, peso):\n",
    "    soma = 0;\n",
    "    somaPeso = 0;\n",
    "    for i in range(0, len(numList)):\n",
    "        soma += numList[i]*peso[i]\n",
    "        somaPeso += peso[i]\n",
    "    pon = soma/somaPeso\n",
    "    return pon\n",
    "\n",
    "testeList = [8,9,10]\n",
    "testePeso = [1,1,5]\n",
    "print(medPon(testeList, testePeso))"
   ]
  },
  {
   "cell_type": "markdown",
   "metadata": {},
   "source": [
    "#### Exercício 6\n",
    "Uma classe de 30 estudantes realizaram uma prova. 26 estudantes compareceram e tiveram uma média de 65%. O restante dos alunos que não compareceram, fizeram a prova depois, e tiveram uma média de 77%. Qual foi a média da classe?"
   ]
  },
  {
   "cell_type": "code",
   "execution_count": 8,
   "metadata": {},
   "outputs": [
    {
     "name": "stdout",
     "output_type": "stream",
     "text": [
      "66.6\n"
     ]
    }
   ],
   "source": [
    "nota = [65,77]\n",
    "peso = [26,4]\n",
    "print(medPon(nota,peso))"
   ]
  },
  {
   "cell_type": "markdown",
   "metadata": {},
   "source": [
    "### Média geométrica\n",
    "\n",
    "A média geométrica é utilizada em dados que possuem uma relação multiplicativa. Em um conjunto de n dados, a média geométrica define-se como a raiz n-ésima da multiplicação desses dados.\n",
    "\n",
    "#### Exercício 7\n",
    "\n",
    "Crie uma função que calcule a média geométrica de uma lista de números\n"
   ]
  },
  {
   "cell_type": "code",
   "execution_count": 9,
   "metadata": {
    "collapsed": true
   },
   "outputs": [],
   "source": [
    "def medGeo (numList):\n",
    "    produtoria = 1\n",
    "    n = len(numList)\n",
    "    for i in numList:\n",
    "        produtoria *= i\n",
    "    geo = produtoria**(1/n)\n",
    "    return geo"
   ]
  },
  {
   "cell_type": "markdown",
   "metadata": {},
   "source": [
    "#### Exercício 8\n",
    "Suponhamos que você tenha R$100.000,00 que, aplicado durante 5 anos, sofreu os seguintes rendimentos anuais: 1%, 9%, 6%, 2%, 15%. Qual foi o rendimento médio?\n"
   ]
  },
  {
   "cell_type": "code",
   "execution_count": 10,
   "metadata": {},
   "outputs": [
    {
     "name": "stdout",
     "output_type": "stream",
     "text": [
      "0.04384327654865775\n"
     ]
    }
   ],
   "source": [
    "taxa = [0.01,0.09,0.06,0.02,0.15]\n",
    "print(medGeo(taxa))"
   ]
  },
  {
   "cell_type": "markdown",
   "metadata": {},
   "source": [
    "### Média harmônica\n",
    "\n",
    "A média harmônica de um conjunto de n dados é obtida dividindo a quantidade de dados pela soma dos inversos dos dados."
   ]
  },
  {
   "cell_type": "code",
   "execution_count": 11,
   "metadata": {
    "collapsed": true
   },
   "outputs": [],
   "source": [
    "def medHar (numList):\n",
    "    invsoma = 0\n",
    "    n = len(numList)\n",
    "    for i in numList:\n",
    "        invsoma += 1/i\n",
    "    har = n/invsoma\n",
    "    return har"
   ]
  },
  {
   "cell_type": "markdown",
   "metadata": {},
   "source": [
    "#### Exercício 9\n",
    "Considere que você saiu de casa e veio para o IMD a uma velocidade de 40km/h e voltou para casa a uma velocidade de 60km/h. Qual foi a velocidade média neste trajeto?"
   ]
  },
  {
   "cell_type": "code",
   "execution_count": 12,
   "metadata": {},
   "outputs": [
    {
     "name": "stdout",
     "output_type": "stream",
     "text": [
      "47.99999999999999\n"
     ]
    }
   ],
   "source": [
    "velocidade = [40,60]\n",
    "print(medHar(velocidade))"
   ]
  },
  {
   "cell_type": "code",
   "execution_count": null,
   "metadata": {
    "collapsed": true
   },
   "outputs": [],
   "source": []
  }
 ],
 "metadata": {
  "kernelspec": {
   "display_name": "Python 3",
   "language": "python",
   "name": "python3"
  },
  "language_info": {
   "codemirror_mode": {
    "name": "ipython",
    "version": 3
   },
   "file_extension": ".py",
   "mimetype": "text/x-python",
   "name": "python",
   "nbconvert_exporter": "python",
   "pygments_lexer": "ipython3",
   "version": "3.6.1"
  }
 },
 "nbformat": 4,
 "nbformat_minor": 2
}
