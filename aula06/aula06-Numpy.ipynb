{
 "cells": [
  {
   "cell_type": "markdown",
   "metadata": {},
   "source": [
    "# Numpy\n",
    "Numpy é um pacote do Python utilizado nas análises de computação científica. As listas geradas utilizando o Numpy conferem um alto performance nas análises de um grande volume de dados e também flexibilidade para manipular matematicamente os dados.\n",
    "\n",
    "Mais informações sobre este pacote pode ser encontrado em https://docs.scipy.org/doc/numpy/user/quickstart.html.\n",
    "\n",
    "## Instalação\n",
    "O pacote Numpy vem junto com a distribuição [Anaconda](anaconda.org). Se você não tem o Anaconda instalado, pode instalar o Numpy utilizando o pip:\n",
    "\n",
    "``` \n",
    "python -m pip install --user numpy\n",
    "```\n",
    "\n",
    "## Utilizando o Numpy"
   ]
  },
  {
   "cell_type": "code",
   "execution_count": null,
   "metadata": {},
   "outputs": [],
   "source": [
    "import numpy as np"
   ]
  },
  {
   "cell_type": "markdown",
   "metadata": {},
   "source": [
    "## Criando uma lista"
   ]
  },
  {
   "cell_type": "code",
   "execution_count": null,
   "metadata": {},
   "outputs": [],
   "source": [
    "# Criando uma lista com uma dimensão (eixo)\n",
    "x = np.array([1,2,3])\n",
    "print(x)"
   ]
  },
  {
   "cell_type": "code",
   "execution_count": null,
   "metadata": {},
   "outputs": [],
   "source": [
    "# Criando uma lista com duas dimensões (eixos)\n",
    "x2 = np.array([[1,2,3],\n",
    "               [4,5,6]])\n",
    "print(x2)"
   ]
  },
  {
   "cell_type": "code",
   "execution_count": null,
   "metadata": {},
   "outputs": [],
   "source": [
    "# Erro comum ao criar uma lista do numpy\n",
    "x_err = np.array(1,2,3)\n",
    "print(x_err)"
   ]
  },
  {
   "cell_type": "code",
   "execution_count": null,
   "metadata": {},
   "outputs": [],
   "source": [
    "# criando listas de sequências de números\n",
    "print(np.arange( 10, 30, 5 ))"
   ]
  },
  {
   "cell_type": "code",
   "execution_count": null,
   "metadata": {},
   "outputs": [],
   "source": [
    "# criando uma lista de números distribuídos em um determinado intervalo\n",
    "print(np.linspace(0,10,101))"
   ]
  },
  {
   "cell_type": "markdown",
   "metadata": {},
   "source": [
    "## Acessando os elementos"
   ]
  },
  {
   "cell_type": "code",
   "execution_count": null,
   "metadata": {},
   "outputs": [],
   "source": [
    "# acessando os elementos\n",
    "x = np.array([1,2,3])\n",
    "print(x[0], x[1], x[2])"
   ]
  },
  {
   "cell_type": "markdown",
   "metadata": {},
   "source": [
    "## Acessando elementos em listas multidimensionais"
   ]
  },
  {
   "cell_type": "code",
   "execution_count": null,
   "metadata": {},
   "outputs": [],
   "source": [
    "# acessando um elemento\n",
    "x2 = np.array([[1,2,3],\n",
    "               [4,5,6]])\n",
    "print(x2[1][2])"
   ]
  },
  {
   "cell_type": "code",
   "execution_count": null,
   "metadata": {},
   "outputs": [],
   "source": [
    "# acessando uma linha inteira\n",
    "print(x2[1])"
   ]
  },
  {
   "cell_type": "code",
   "execution_count": null,
   "metadata": {},
   "outputs": [],
   "source": [
    "# acessando uma coluna inteira\n",
    "print(x2[:,1])"
   ]
  },
  {
   "cell_type": "markdown",
   "metadata": {},
   "source": [
    "## Atributos"
   ]
  },
  {
   "cell_type": "code",
   "execution_count": null,
   "metadata": {},
   "outputs": [],
   "source": [
    "# número de dimensões\n",
    "print(x2.ndim)"
   ]
  },
  {
   "cell_type": "code",
   "execution_count": null,
   "metadata": {},
   "outputs": [],
   "source": [
    "# formato\n",
    "print(x2.shape)"
   ]
  },
  {
   "cell_type": "code",
   "execution_count": null,
   "metadata": {},
   "outputs": [],
   "source": [
    "# tamanho\n",
    "print(x2.size)"
   ]
  },
  {
   "cell_type": "code",
   "execution_count": null,
   "metadata": {},
   "outputs": [],
   "source": [
    "# tipo dos dados\n",
    "print(x2.dtype)"
   ]
  },
  {
   "cell_type": "markdown",
   "metadata": {},
   "source": [
    "## Funções agregadas"
   ]
  },
  {
   "cell_type": "code",
   "execution_count": null,
   "metadata": {},
   "outputs": [],
   "source": [
    "x2 = np.array([[1,2,3],\n",
    "               [4,5,6]])\n",
    "# soma\n",
    "x2.sum()"
   ]
  },
  {
   "cell_type": "code",
   "execution_count": null,
   "metadata": {},
   "outputs": [],
   "source": [
    "# média\n",
    "x2.mean()"
   ]
  },
  {
   "cell_type": "code",
   "execution_count": null,
   "metadata": {},
   "outputs": [],
   "source": [
    "# valor máximo\n",
    "x2.max()"
   ]
  },
  {
   "cell_type": "code",
   "execution_count": null,
   "metadata": {},
   "outputs": [],
   "source": [
    "# valor mínimo\n",
    "x2.min()"
   ]
  },
  {
   "cell_type": "markdown",
   "metadata": {},
   "source": [
    "### Q. Como calcular a soma de uma linha?"
   ]
  },
  {
   "cell_type": "code",
   "execution_count": null,
   "metadata": {},
   "outputs": [],
   "source": [
    "# Escreva o seu código aqui:\n"
   ]
  },
  {
   "cell_type": "markdown",
   "metadata": {},
   "source": [
    "### Q. Como calcular a soma de uma coluna?"
   ]
  },
  {
   "cell_type": "code",
   "execution_count": null,
   "metadata": {},
   "outputs": [],
   "source": [
    "# Escreva o seu código aqui:\n",
    "x2[:,1].sum()"
   ]
  },
  {
   "cell_type": "code",
   "execution_count": null,
   "metadata": {},
   "outputs": [],
   "source": [
    "# soma do primeiro eixo (todas as colunas separadamente)\n",
    "x2.sum(axis=0)"
   ]
  },
  {
   "cell_type": "code",
   "execution_count": null,
   "metadata": {},
   "outputs": [],
   "source": [
    "# soma do segundo eixo (todas as linhas separadamente)\n",
    "x2.sum(axis=1)"
   ]
  },
  {
   "cell_type": "markdown",
   "metadata": {},
   "source": [
    "## Operações básicas"
   ]
  },
  {
   "cell_type": "code",
   "execution_count": null,
   "metadata": {},
   "outputs": [],
   "source": [
    "a = np.array( [20,30,40,50] )\n",
    "b = np.arange( 4 )\n",
    "print(a)\n",
    "print(b)"
   ]
  },
  {
   "cell_type": "code",
   "execution_count": null,
   "metadata": {},
   "outputs": [],
   "source": [
    "# Realizar operações matemáticas (\"+\",\"-\", \"*\", \"/\", \"**\", \"%\", \"//\")\n",
    "print(a-b)"
   ]
  },
  {
   "cell_type": "code",
   "execution_count": null,
   "metadata": {},
   "outputs": [],
   "source": [
    "# o sinal de \"*\" não se refere ao produto de uma matriz.\n",
    "# ao invés disso usa-se \"@\" (Python 3.5+) ou a função .dot():\n",
    "A = np.array( [[1,1],\n",
    "               [0,1]] )\n",
    "B = np.array( [[2,0],\n",
    "              [3,4]] )\n",
    "\n",
    "print(A.dot(B))\n",
    "print(A @ B)"
   ]
  },
  {
   "cell_type": "code",
   "execution_count": null,
   "metadata": {},
   "outputs": [],
   "source": [
    "# Testar condição para cada elemento\n",
    "test = a<35\n",
    "print(test)"
   ]
  },
  {
   "cell_type": "markdown",
   "metadata": {},
   "source": [
    "### Q. Como eu poderia verificar quantos foram verdadeiros?"
   ]
  },
  {
   "cell_type": "code",
   "execution_count": null,
   "metadata": {},
   "outputs": [],
   "source": [
    "# Escreva o seu código aqui\n"
   ]
  },
  {
   "cell_type": "markdown",
   "metadata": {},
   "source": [
    "### Q. Como eu poderia verificar quantos foram falsos?"
   ]
  },
  {
   "cell_type": "code",
   "execution_count": null,
   "metadata": {},
   "outputs": [],
   "source": [
    "# Escreva o seu código aqui:\n"
   ]
  },
  {
   "cell_type": "markdown",
   "metadata": {},
   "source": [
    "### Q. Como eu poderia recuperar apenas aqueles valores que satisfazem a condição?"
   ]
  },
  {
   "cell_type": "code",
   "execution_count": null,
   "metadata": {},
   "outputs": [],
   "source": [
    "# Escreva o seu código aqui:\n"
   ]
  },
  {
   "cell_type": "markdown",
   "metadata": {},
   "source": [
    "## Acessando arquivos\n",
    "Acesse o site do [WHO](http://apps.who.int/gho/data/node.main.SDGPOP?lang=en) e baixe a tabela com os dados populacionais dos países no formato CSV e deixe-o no mesmo diretório onde este notebook se encontra.\n",
    "\n",
    "A tabela está organizada da seguinte forma:\n",
    "1. Nome do país\n",
    "2. População total (em milhares)\n",
    "3. População abaixo de 15 (%)\n",
    "4. População acima de 60 (%)\n",
    "5. Taxa de fertilidade (por mulher)\n",
    "\n",
    "Execute o código abaixo para formatar a tabela de forma a facilitar a análise e responda as questões logo abaixo."
   ]
  },
  {
   "cell_type": "code",
   "execution_count": null,
   "metadata": {},
   "outputs": [],
   "source": [
    "f = open(\"data.csv\", \"r\")    # ler o arquivo\n",
    "\n",
    "firstLine = f.readline()     # pega a primeira linha (1o cabeçalho)\n",
    "cells = firstLine.split(\",\") # \n",
    "ncol = len(cells)            # determina o número de colunas\n",
    "secondLine = f.readline()    # pega e descarta a linha seguinte (2o cabeçalho)\n",
    "\n",
    "country = []                 # armazena a ordem dos países\n",
    "data = np.empty((0,ncol))    # armazena os dados numéricos\n",
    "                             # 1o coluna: índice do país\n",
    "                             # 2o coluna: População total (em milhares)\n",
    "                             # 3o coluna: População abaixo de 15 (%)\n",
    "                             # 4o coluna: População acima de 60 (%)\n",
    "                             # 5o coluna: Taxa de fertilidade (por mulher)\n",
    "\n",
    "idx = 0                      # contador de linhas; ele determinará o índice\n",
    "\n",
    "# Formatar o arquivo\n",
    "for row in f:\n",
    "    \n",
    "    # pula linhas vazias\n",
    "    if not row.strip():  \n",
    "        continue\n",
    "    \n",
    "    row = row.strip() # retira a quebra de linha\n",
    "    \n",
    "    # retira caracteres indesejáveis\n",
    "    row = row.replace(\"\\\"\", \"\")  \n",
    "    row = row.replace(\" \", \"\")\n",
    "    \n",
    "    cells = row.split(\",\") # dividir a linha por \",\"\n",
    "    \n",
    "    # armazena o país em country e atribui um índice para cada um deles\n",
    "    country.append(cells[0]) \n",
    "    cells[0] = idx\n",
    "    idx += 1\n",
    "    \n",
    "    # transformar os valores númericos (a princípio string) em float\n",
    "    # dados faltantes considerado -1\n",
    "    for y in range(1,len(cells)):\n",
    "        if(cells[y]):\n",
    "            cells[y] = float(cells[y])\n",
    "        else:\n",
    "            cells[y] = -1\n",
    "    \n",
    "    # transformar lista numa lista do numpy e armazenar em data\n",
    "    ins = np.array([cells[0:]]) \n",
    "    data = np.append(data, ins, axis=0)\n",
    "\n",
    "print(country[0:5])\n",
    "print(data[0:5])\n"
   ]
  },
  {
   "cell_type": "markdown",
   "metadata": {},
   "source": [
    "### Q. Qual a média do tamanho da população dos países?"
   ]
  },
  {
   "cell_type": "code",
   "execution_count": null,
   "metadata": {},
   "outputs": [],
   "source": [
    "# Escreva o seu código aqui:\n"
   ]
  },
  {
   "cell_type": "markdown",
   "metadata": {},
   "source": [
    "### Q. Quais são os 10 países com maior porcentagem de população jovem?\n",
    "**dica**: usar lista ordenada pode te ajudar. Veja este [link](https://stackoverflow.com/a/2828121)"
   ]
  },
  {
   "cell_type": "code",
   "execution_count": null,
   "metadata": {},
   "outputs": [],
   "source": [
    "# Escreva o seu código aqui:\n"
   ]
  },
  {
   "cell_type": "markdown",
   "metadata": {},
   "source": [
    "### Q. Qual país tem a maior taxa de fertilidade?\n",
    "**dica**: veja a função [argmax()](https://docs.scipy.org/doc/numpy-1.14.0/reference/generated/numpy.argmax.html)"
   ]
  },
  {
   "cell_type": "code",
   "execution_count": null,
   "metadata": {},
   "outputs": [],
   "source": [
    "# Escreva o seu código aqui:\n"
   ]
  },
  {
   "cell_type": "markdown",
   "metadata": {},
   "source": [
    "### Q. Qual(is) país(es) possui(em) a menor taxa de fertilidade?\n",
    "**Obs1.**: Verifique se mais de um país possui a mesma taxa.\n",
    "\n",
    "**Obs2.**: Dados faltantes estão representados como -1"
   ]
  },
  {
   "cell_type": "code",
   "execution_count": null,
   "metadata": {},
   "outputs": [],
   "source": [
    "# Escreva o seu código aqui:\n"
   ]
  },
  {
   "cell_type": "markdown",
   "metadata": {},
   "source": [
    "## Resumo dos comandos do Numpy\n",
    "https://goo.gl/0eWPy6\n",
    "\n",
    "## Referências\n",
    "\n",
    "Scipy - página oficial dos criadores do Numpy: https://scipy.org/\n",
    "\n",
    "Tutorial do Numpy:http://cs231n.github.io/python-numpy-tutorial/#numpy\n",
    "\n",
    "WHO - World Health Organization: http://www.who.int/en/"
   ]
  }
 ],
 "metadata": {
  "kernelspec": {
   "display_name": "Python 3",
   "language": "python",
   "name": "python3"
  },
  "language_info": {
   "codemirror_mode": {
    "name": "ipython",
    "version": 3
   },
   "file_extension": ".py",
   "mimetype": "text/x-python",
   "name": "python",
   "nbconvert_exporter": "python",
   "pygments_lexer": "ipython3",
   "version": "3.6.5"
  }
 },
 "nbformat": 4,
 "nbformat_minor": 2
}
