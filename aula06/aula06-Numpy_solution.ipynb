{
 "cells": [
  {
   "cell_type": "markdown",
   "metadata": {},
   "source": [
    "# Numpy\n",
    "Numpy é um pacote do Python utilizado nas análises de computação científica. As listas geradas utilizando o Numpy conferem um alto performance nas análises de um grande volume de dados e também flexibilidade para manipular matematicamente os dados.\n",
    "\n",
    "Mais informações sobre este pacote pode ser encontrado em https://docs.scipy.org/doc/numpy/user/quickstart.html.\n",
    "\n",
    "## Instalação\n",
    "O pacote Numpy vem junto com a distribuição [Anaconda](anaconda.org). Se você não tem o Anaconda instalado, pode instalar o Numpy utilizando o pip:\n",
    "\n",
    "``` \n",
    "python -m pip install --user numpy\n",
    "```\n",
    "\n",
    "## Utilizando o Numpy"
   ]
  },
  {
   "cell_type": "code",
   "execution_count": 2,
   "metadata": {
    "collapsed": true
   },
   "outputs": [],
   "source": [
    "import numpy as np"
   ]
  },
  {
   "cell_type": "markdown",
   "metadata": {},
   "source": [
    "## Criando uma lista"
   ]
  },
  {
   "cell_type": "code",
   "execution_count": 3,
   "metadata": {},
   "outputs": [
    {
     "name": "stdout",
     "output_type": "stream",
     "text": [
      "[1 2 3]\n"
     ]
    }
   ],
   "source": [
    "# Criando uma lista com uma dimensão (eixo)\n",
    "x = np.array([1,2,3])\n",
    "print(x)"
   ]
  },
  {
   "cell_type": "code",
   "execution_count": 4,
   "metadata": {},
   "outputs": [
    {
     "name": "stdout",
     "output_type": "stream",
     "text": [
      "[[1 2 3]\n",
      " [4 5 6]]\n"
     ]
    }
   ],
   "source": [
    "# Criando uma lista com duas dimensões (eixos)\n",
    "x2 = np.array([[1,2,3],\n",
    "               [4,5,6]])\n",
    "print(x2)"
   ]
  },
  {
   "cell_type": "code",
   "execution_count": 5,
   "metadata": {},
   "outputs": [
    {
     "ename": "ValueError",
     "evalue": "only 2 non-keyword arguments accepted",
     "output_type": "error",
     "traceback": [
      "\u001b[1;31m---------------------------------------------------------------------------\u001b[0m",
      "\u001b[1;31mValueError\u001b[0m                                Traceback (most recent call last)",
      "\u001b[1;32m<ipython-input-5-c474e068a302>\u001b[0m in \u001b[0;36m<module>\u001b[1;34m()\u001b[0m\n\u001b[0;32m      1\u001b[0m \u001b[1;31m# Erro comum ao criar uma lista do numpy\u001b[0m\u001b[1;33m\u001b[0m\u001b[1;33m\u001b[0m\u001b[0m\n\u001b[1;32m----> 2\u001b[1;33m \u001b[0mx_err\u001b[0m \u001b[1;33m=\u001b[0m \u001b[0mnp\u001b[0m\u001b[1;33m.\u001b[0m\u001b[0marray\u001b[0m\u001b[1;33m(\u001b[0m\u001b[1;36m1\u001b[0m\u001b[1;33m,\u001b[0m\u001b[1;36m2\u001b[0m\u001b[1;33m,\u001b[0m\u001b[1;36m3\u001b[0m\u001b[1;33m)\u001b[0m\u001b[1;33m\u001b[0m\u001b[0m\n\u001b[0m\u001b[0;32m      3\u001b[0m \u001b[0mprint\u001b[0m\u001b[1;33m(\u001b[0m\u001b[0mx_err\u001b[0m\u001b[1;33m)\u001b[0m\u001b[1;33m\u001b[0m\u001b[0m\n",
      "\u001b[1;31mValueError\u001b[0m: only 2 non-keyword arguments accepted"
     ]
    }
   ],
   "source": [
    "# Erro comum ao criar uma lista do numpy\n",
    "x_err = np.array(1,2,3)\n",
    "print(x_err)"
   ]
  },
  {
   "cell_type": "code",
   "execution_count": 6,
   "metadata": {},
   "outputs": [
    {
     "name": "stdout",
     "output_type": "stream",
     "text": [
      "[10 15 20 25]\n"
     ]
    }
   ],
   "source": [
    "# criando listas de sequências de números\n",
    "print(np.arange( 10, 30, 5 ))"
   ]
  },
  {
   "cell_type": "code",
   "execution_count": 7,
   "metadata": {},
   "outputs": [
    {
     "name": "stdout",
     "output_type": "stream",
     "text": [
      "[ 0.   0.1  0.2  0.3  0.4  0.5  0.6  0.7  0.8  0.9  1.   1.1  1.2  1.3\n",
      "  1.4  1.5  1.6  1.7  1.8  1.9  2.   2.1  2.2  2.3  2.4  2.5  2.6  2.7\n",
      "  2.8  2.9  3.   3.1  3.2  3.3  3.4  3.5  3.6  3.7  3.8  3.9  4.   4.1\n",
      "  4.2  4.3  4.4  4.5  4.6  4.7  4.8  4.9  5.   5.1  5.2  5.3  5.4  5.5\n",
      "  5.6  5.7  5.8  5.9  6.   6.1  6.2  6.3  6.4  6.5  6.6  6.7  6.8  6.9\n",
      "  7.   7.1  7.2  7.3  7.4  7.5  7.6  7.7  7.8  7.9  8.   8.1  8.2  8.3\n",
      "  8.4  8.5  8.6  8.7  8.8  8.9  9.   9.1  9.2  9.3  9.4  9.5  9.6  9.7\n",
      "  9.8  9.9 10. ]\n"
     ]
    }
   ],
   "source": [
    "# criando uma lista de números distribuídos em um determinado intervalo\n",
    "print(np.linspace(0,10,101))"
   ]
  },
  {
   "cell_type": "markdown",
   "metadata": {},
   "source": [
    "## Acessando os elementos"
   ]
  },
  {
   "cell_type": "code",
   "execution_count": 8,
   "metadata": {},
   "outputs": [
    {
     "name": "stdout",
     "output_type": "stream",
     "text": [
      "1 2 3\n"
     ]
    }
   ],
   "source": [
    "# acessando os elementos\n",
    "x = np.array([1,2,3])\n",
    "print(x[0], x[1], x[2])"
   ]
  },
  {
   "cell_type": "markdown",
   "metadata": {},
   "source": [
    "## Acessando elementos em listas multidimensionais"
   ]
  },
  {
   "cell_type": "code",
   "execution_count": 9,
   "metadata": {},
   "outputs": [
    {
     "name": "stdout",
     "output_type": "stream",
     "text": [
      "6\n"
     ]
    }
   ],
   "source": [
    "# acessando um elemento\n",
    "x2 = np.array([[1,2,3],\n",
    "               [4,5,6]])\n",
    "print(x2[1][2])"
   ]
  },
  {
   "cell_type": "code",
   "execution_count": 10,
   "metadata": {},
   "outputs": [
    {
     "name": "stdout",
     "output_type": "stream",
     "text": [
      "[4 5 6]\n"
     ]
    }
   ],
   "source": [
    "# acessando uma linha inteira\n",
    "print(x2[1])"
   ]
  },
  {
   "cell_type": "code",
   "execution_count": 11,
   "metadata": {},
   "outputs": [
    {
     "name": "stdout",
     "output_type": "stream",
     "text": [
      "[2 5]\n"
     ]
    }
   ],
   "source": [
    "# acessando uma coluna inteira\n",
    "print(x2[:,1])"
   ]
  },
  {
   "cell_type": "markdown",
   "metadata": {},
   "source": [
    "## Atributos"
   ]
  },
  {
   "cell_type": "code",
   "execution_count": 12,
   "metadata": {},
   "outputs": [
    {
     "name": "stdout",
     "output_type": "stream",
     "text": [
      "2\n"
     ]
    }
   ],
   "source": [
    "# número de dimensões\n",
    "print(x2.ndim)"
   ]
  },
  {
   "cell_type": "code",
   "execution_count": 13,
   "metadata": {},
   "outputs": [
    {
     "name": "stdout",
     "output_type": "stream",
     "text": [
      "(2, 3)\n"
     ]
    }
   ],
   "source": [
    "# formato\n",
    "print(x2.shape)"
   ]
  },
  {
   "cell_type": "code",
   "execution_count": 14,
   "metadata": {},
   "outputs": [
    {
     "name": "stdout",
     "output_type": "stream",
     "text": [
      "6\n"
     ]
    }
   ],
   "source": [
    "# tamanho\n",
    "print(x2.size)"
   ]
  },
  {
   "cell_type": "code",
   "execution_count": 15,
   "metadata": {},
   "outputs": [
    {
     "name": "stdout",
     "output_type": "stream",
     "text": [
      "int32\n"
     ]
    }
   ],
   "source": [
    "# tipo dos dados\n",
    "print(x2.dtype)"
   ]
  },
  {
   "cell_type": "markdown",
   "metadata": {},
   "source": [
    "## Funções agregadas"
   ]
  },
  {
   "cell_type": "code",
   "execution_count": 20,
   "metadata": {},
   "outputs": [
    {
     "data": {
      "text/plain": [
       "9"
      ]
     },
     "execution_count": 20,
     "metadata": {},
     "output_type": "execute_result"
    }
   ],
   "source": [
    "x2 = np.array([[1,2,3],\n",
    "               [4,5,6]])\n",
    "# soma\n",
    "x2.sum()"
   ]
  },
  {
   "cell_type": "code",
   "execution_count": 17,
   "metadata": {},
   "outputs": [
    {
     "data": {
      "text/plain": [
       "3.5"
      ]
     },
     "execution_count": 17,
     "metadata": {},
     "output_type": "execute_result"
    }
   ],
   "source": [
    "# média\n",
    "x2.mean()"
   ]
  },
  {
   "cell_type": "code",
   "execution_count": 18,
   "metadata": {},
   "outputs": [
    {
     "data": {
      "text/plain": [
       "6"
      ]
     },
     "execution_count": 18,
     "metadata": {},
     "output_type": "execute_result"
    }
   ],
   "source": [
    "# valor máximo\n",
    "x2.max()"
   ]
  },
  {
   "cell_type": "code",
   "execution_count": 19,
   "metadata": {},
   "outputs": [
    {
     "data": {
      "text/plain": [
       "1"
      ]
     },
     "execution_count": 19,
     "metadata": {},
     "output_type": "execute_result"
    }
   ],
   "source": [
    "# valor mínimo\n",
    "x2.min()"
   ]
  },
  {
   "cell_type": "markdown",
   "metadata": {},
   "source": [
    "### Q. Como calcular a soma de uma linha?"
   ]
  },
  {
   "cell_type": "code",
   "execution_count": 21,
   "metadata": {},
   "outputs": [
    {
     "data": {
      "text/plain": [
       "6"
      ]
     },
     "execution_count": 21,
     "metadata": {},
     "output_type": "execute_result"
    }
   ],
   "source": [
    "# Escreva o seu código aqui:\n",
    "x2[0].sum() # calculando a soma da primeira linha"
   ]
  },
  {
   "cell_type": "markdown",
   "metadata": {},
   "source": [
    "### Q. Como calcular a soma de uma coluna?"
   ]
  },
  {
   "cell_type": "code",
   "execution_count": 22,
   "metadata": {},
   "outputs": [
    {
     "data": {
      "text/plain": [
       "7"
      ]
     },
     "execution_count": 22,
     "metadata": {},
     "output_type": "execute_result"
    }
   ],
   "source": [
    "# Escreva o seu código aqui:\n",
    "x2[:,1].sum() # calculando a soma da segunda coluna"
   ]
  },
  {
   "cell_type": "code",
   "execution_count": 23,
   "metadata": {},
   "outputs": [
    {
     "data": {
      "text/plain": [
       "array([5, 7, 9])"
      ]
     },
     "execution_count": 23,
     "metadata": {},
     "output_type": "execute_result"
    }
   ],
   "source": [
    "# soma do primeiro eixo (todas as colunas separadamente)\n",
    "x2.sum(axis=0)"
   ]
  },
  {
   "cell_type": "code",
   "execution_count": 24,
   "metadata": {},
   "outputs": [
    {
     "data": {
      "text/plain": [
       "array([ 6, 15])"
      ]
     },
     "execution_count": 24,
     "metadata": {},
     "output_type": "execute_result"
    }
   ],
   "source": [
    "# soma do segundo eixo (todas as linhas separadamente)\n",
    "x2.sum(axis=1)"
   ]
  },
  {
   "cell_type": "markdown",
   "metadata": {},
   "source": [
    "## Operações básicas"
   ]
  },
  {
   "cell_type": "code",
   "execution_count": 25,
   "metadata": {},
   "outputs": [
    {
     "name": "stdout",
     "output_type": "stream",
     "text": [
      "[20 30 40 50]\n",
      "[0 1 2 3]\n"
     ]
    }
   ],
   "source": [
    "a = np.array( [20,30,40,50] )\n",
    "b = np.arange( 4 )\n",
    "print(a)\n",
    "print(b)"
   ]
  },
  {
   "cell_type": "code",
   "execution_count": 26,
   "metadata": {},
   "outputs": [
    {
     "name": "stdout",
     "output_type": "stream",
     "text": [
      "[20 29 38 47]\n"
     ]
    }
   ],
   "source": [
    "# Realizar operações matemáticas (\"+\",\"-\", \"*\", \"/\", \"**\", \"%\", \"//\")\n",
    "print(a-b)"
   ]
  },
  {
   "cell_type": "code",
   "execution_count": 27,
   "metadata": {},
   "outputs": [
    {
     "name": "stdout",
     "output_type": "stream",
     "text": [
      "[[5 4]\n",
      " [3 4]]\n",
      "[[5 4]\n",
      " [3 4]]\n"
     ]
    }
   ],
   "source": [
    "# o sinal de \"*\" não se refere ao produto de uma matriz.\n",
    "# ao invés disso usa-se \"@\" (Python 3.5+) ou a função .dot():\n",
    "A = np.array( [[1,1],\n",
    "               [0,1]] )\n",
    "B = np.array( [[2,0],\n",
    "              [3,4]] )\n",
    "\n",
    "print(A.dot(B))\n",
    "print(A @ B)"
   ]
  },
  {
   "cell_type": "code",
   "execution_count": 28,
   "metadata": {},
   "outputs": [
    {
     "name": "stdout",
     "output_type": "stream",
     "text": [
      "[ True  True False False]\n"
     ]
    }
   ],
   "source": [
    "# Testar condição para cada elemento\n",
    "test = a<35\n",
    "print(test)"
   ]
  },
  {
   "cell_type": "markdown",
   "metadata": {},
   "source": [
    "### Q. Como eu poderia verificar quantos foram verdadeiros?"
   ]
  },
  {
   "cell_type": "code",
   "execution_count": null,
   "metadata": {
    "collapsed": true
   },
   "outputs": [],
   "source": [
    "# Escreva o seu código aqui\n",
    "test.sum()"
   ]
  },
  {
   "cell_type": "markdown",
   "metadata": {},
   "source": [
    "### Q. Como eu poderia verificar quantos foram falsos?"
   ]
  },
  {
   "cell_type": "code",
   "execution_count": 35,
   "metadata": {},
   "outputs": [
    {
     "data": {
      "text/plain": [
       "2"
      ]
     },
     "execution_count": 35,
     "metadata": {},
     "output_type": "execute_result"
    }
   ],
   "source": [
    "# Escreva o seu código aqui:\n",
    "test.size - test.sum()\n",
    "len(test) - test.sum()"
   ]
  },
  {
   "cell_type": "markdown",
   "metadata": {},
   "source": [
    "### Q. Como eu poderia recuperar apenas aqueles valores que satisfazem a condição?"
   ]
  },
  {
   "cell_type": "code",
   "execution_count": null,
   "metadata": {
    "collapsed": true
   },
   "outputs": [],
   "source": [
    "# Escreva o seu código aqui:\n",
    "print(a[a < 35])"
   ]
  },
  {
   "cell_type": "markdown",
   "metadata": {},
   "source": [
    "## Acessando arquivos\n",
    "Acesse o site do [WHO](http://apps.who.int/gho/data/node.main.SDGPOP?lang=en) e baixe a tabela com os dados populacionais dos países no formato CSV e deixe-o no mesmo diretório onde este notebook se encontra.\n",
    "\n",
    "A tabela está organizada da seguinte forma:\n",
    "1. Nome do país\n",
    "2. População total (em milhares)\n",
    "3. População abaixo de 15 (%)\n",
    "4. População acima de 60 (%)\n",
    "5. Taxa de fertilidade (por mulher)\n",
    "\n",
    "Execute o código abaixo para formatar a tabela de forma a facilitar a análise e responda as questões logo abaixo."
   ]
  },
  {
   "cell_type": "code",
   "execution_count": 91,
   "metadata": {},
   "outputs": [
    {
     "name": "stdout",
     "output_type": "stream",
     "text": [
      "PapuaNewGuinea\n",
      "[[ 3.4656e+04  4.3900e+01  4.1000e+00  4.6000e+00]\n",
      " [ 2.9260e+03  1.7700e+01  1.6000e+00  1.7000e+00]\n",
      " [ 4.0606e+04  2.9000e+01  1.0700e+01  2.8000e+00]\n",
      " [ 7.7000e+01  1.4800e+01  1.0000e-01 -1.0000e+00]\n",
      " [ 2.8813e+04  4.7000e+01  3.3000e+00  5.7000e+00]]\n"
     ]
    }
   ],
   "source": [
    "f = open(\"data.csv\", \"r\")    # ler o arquivo\n",
    "\n",
    "firstLine = f.readline()     # pega a primeira linha (1o cabeçalho)\n",
    "cells = firstLine.split(\",\") # \n",
    "ncol = len(cells)            # determina o número de colunas\n",
    "secondLine = f.readline()    # pega e descarta a linha seguinte (2o cabeçalho)\n",
    "\n",
    "country = []                 # armazena a ordem dos países\n",
    "data = np.empty((0,ncol-1))    # armazena os dados numéricos\n",
    "                             # 1o coluna: índice do país\n",
    "                             # 2o coluna: População total (em milhares)\n",
    "                             # 3o coluna: População abaixo de 15 (%)\n",
    "                             # 4o coluna: População acima de 60 (%)\n",
    "                             # 5o coluna: Taxa de fertilidade (por mulher)\n",
    "\n",
    "idx = 0                      # contador de linhas; ele determinará o índice\n",
    "\n",
    "# Formatar o arquivo\n",
    "for row in f:\n",
    "    \n",
    "    # pula linhas vazias\n",
    "    if not row.strip():  \n",
    "        continue\n",
    "    \n",
    "    row = row.strip() # retira a quebra de linha\n",
    "    \n",
    "    # retira caracteres indesejáveis\n",
    "    row = row.replace(\"\\\"\", \"\")  \n",
    "    row = row.replace(\" \", \"\")\n",
    "    \n",
    "    cells = row.split(\",\") # dividir a linha por \",\"\n",
    "    \n",
    "    # armazena o país em country e atribui um índice para cada um deles\n",
    "    country.append(cells[0]) \n",
    "    #cells[0] = idx\n",
    "    #idx += 1\n",
    "    \n",
    "    # transformar os valores númericos (a princípio string) em float\n",
    "    # dados faltantes considerado -1\n",
    "    for y in range(1,len(cells)):\n",
    "        if(cells[y]):\n",
    "            cells[y] = float(cells[y])\n",
    "        else:\n",
    "            cells[y] = -1\n",
    "    \n",
    "    # transformar lista numa lista do numpy e armazenar em data\n",
    "    #print(cells)\n",
    "    ins = np.array([cells[1:]]) \n",
    "    data = np.append(data, ins, axis=0)\n",
    "\n",
    "country = np.array(country)\n",
    "print(country[0:5])\n",
    "print(data[0:5])\n"
   ]
  },
  {
   "cell_type": "markdown",
   "metadata": {},
   "source": [
    "### Q. Qual a média do tamanho da população dos países?"
   ]
  },
  {
   "cell_type": "code",
   "execution_count": 72,
   "metadata": {},
   "outputs": [
    {
     "data": {
      "text/plain": [
       "38300.31443298969"
      ]
     },
     "execution_count": 72,
     "metadata": {},
     "output_type": "execute_result"
    }
   ],
   "source": [
    "# Escreva o seu código aqui:\n",
    "data[:,0].mean()"
   ]
  },
  {
   "cell_type": "markdown",
   "metadata": {},
   "source": [
    "### Q. Quais são os 10 países com maior porcentagem de população jovem?\n",
    "**dica**: usar lista ordenada pode te ajudar. Veja este [link](https://stackoverflow.com/a/2828121)"
   ]
  },
  {
   "cell_type": "code",
   "execution_count": 85,
   "metadata": {},
   "outputs": [
    {
     "name": "stdout",
     "output_type": "stream",
     "text": [
      "[192  26  64  47 159   4  33 105 180 124]\n",
      "['Zambia' 'BurkinaFaso' 'Gambia' 'DemocraticRepublicoftheCongo' 'Somalia'\n",
      " 'Angola' 'Chad' 'Mali' 'Uganda' 'Niger']\n"
     ]
    }
   ],
   "source": [
    "# Escreva o seu código aqui:\n",
    "sortedByCol2 = data[:,1].argsort()\n",
    "print(sortedByCol2[-10:])\n",
    "print(country[sortedByCol2[-10:]])\n"
   ]
  },
  {
   "cell_type": "markdown",
   "metadata": {},
   "source": [
    "### Q. Qual país tem a maior taxa de fertilidade?\n",
    "**dica**: veja a função [argmax()](https://docs.scipy.org/doc/numpy-1.14.0/reference/generated/numpy.argmax.html)"
   ]
  },
  {
   "cell_type": "code",
   "execution_count": null,
   "metadata": {
    "collapsed": true
   },
   "outputs": [],
   "source": [
    "# Escreva o seu código aqui:\n",
    "maxTFidx = data[:,3].argmax()\n",
    "print(country[maxTFidx])"
   ]
  },
  {
   "cell_type": "markdown",
   "metadata": {},
   "source": [
    "### Q. Qual(is) país(es) possui(em) a menor taxa de fertilidade?\n",
    "**Obs1.**: Verifique se mais de um país possui a mesma taxa.\n",
    "\n",
    "**Obs2.**: Dados faltantes estão representados como -1"
   ]
  },
  {
   "cell_type": "code",
   "execution_count": 97,
   "metadata": {},
   "outputs": [
    {
     "name": "stdout",
     "output_type": "stream",
     "text": [
      "PapuaNewGuinea\n",
      "Pakistan\n",
      "SaintLucia\n"
     ]
    }
   ],
   "source": [
    "# Escreva o seu código aqui:\n",
    "\n",
    "# guardar os dados da coluna 0 e 4\n",
    "subData = data[:,3]\n",
    "\n",
    "# eliminar as linhas com dados faltantes\n",
    "subData = subData[subData != -1]\n",
    "\n",
    "# obter os índices de subData ordenado pela 2a coluna\n",
    "sortedIdx = subData.argsort()\n",
    "\n",
    "# obter o valor mínimo da taxa de fertilidade\n",
    "minFert = subData[sortedIdx[0]]\n",
    "\n",
    "# imprimir os 10 países\n",
    "for i in sortedIdx:\n",
    "    if subData[i] == minFert:\n",
    "        print(country[int(i)])\n",
    "    else:\n",
    "        break\n"
   ]
  },
  {
   "cell_type": "markdown",
   "metadata": {},
   "source": [
    "## Resumo dos comandos do Numpy\n",
    "https://goo.gl/0eWPy6\n",
    "\n",
    "## Referências\n",
    "\n",
    "Scipy - página oficial dos criadores do Numpy: https://scipy.org/\n",
    "\n",
    "Tutorial do Numpy:http://cs231n.github.io/python-numpy-tutorial/#numpy\n",
    "\n",
    "WHO - World Health Organization: http://www.who.int/en/"
   ]
  }
 ],
 "metadata": {
  "kernelspec": {
   "display_name": "Python 3",
   "language": "python",
   "name": "python3"
  },
  "language_info": {
   "codemirror_mode": {
    "name": "ipython",
    "version": 3
   },
   "file_extension": ".py",
   "mimetype": "text/x-python",
   "name": "python",
   "nbconvert_exporter": "python",
   "pygments_lexer": "ipython3",
   "version": "3.6.1"
  }
 },
 "nbformat": 4,
 "nbformat_minor": 2
}
