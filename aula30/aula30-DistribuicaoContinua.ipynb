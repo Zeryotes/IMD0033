{
 "cells": [
  {
   "cell_type": "code",
   "execution_count": null,
   "metadata": {},
   "outputs": [],
   "source": [
    "import numpy as np\n",
    "import matplotlib.pyplot as plt\n",
    "import scipy.stats as stats"
   ]
  },
  {
   "cell_type": "code",
   "execution_count": null,
   "metadata": {
    "scrolled": true
   },
   "outputs": [],
   "source": [
    "# Teorema central do limite\n",
    "\n",
    "# simulação de dados\n",
    "\n",
    "exemplo = np.random.choice(np.arange(1, 7), size=1000, p=[0.35, 0, 0.15, 0.15, 0, 0.35])\n",
    "plt.hist(exemplo)\n",
    "plt.show()"
   ]
  },
  {
   "cell_type": "code",
   "execution_count": null,
   "metadata": {},
   "outputs": [],
   "source": [
    "# Simulando várias jogadas de dados\n",
    "sampleM = list()\n",
    "for i in range(1,1000):\n",
    "    rolls = np.random.choice(np.arange(1, 7), size=4, p=[0.35, 0, 0.15, 0.15, 0, 0.35])\n",
    "    sampleM.append(np.mean(rolls))\n"
   ]
  },
  {
   "cell_type": "code",
   "execution_count": null,
   "metadata": {},
   "outputs": [],
   "source": [
    "plt.hist(sampleM)\n",
    "plt.show()"
   ]
  },
  {
   "cell_type": "code",
   "execution_count": null,
   "metadata": {},
   "outputs": [],
   "source": [
    "print(\"mean : \", np.mean(sampleM))\n",
    "print(\"var  : \", np.var(sampleM))\n",
    "print(\"skew : \", stats.skew(sampleM))\n",
    "print(\"kurt : \", stats.kurtosis(sampleM))"
   ]
  },
  {
   "cell_type": "code",
   "execution_count": null,
   "metadata": {},
   "outputs": [],
   "source": []
  },
  {
   "cell_type": "code",
   "execution_count": null,
   "metadata": {},
   "outputs": [],
   "source": [
    "stats.probplot(sampleM, dist=\"norm\", plot=plt)\n",
    "plt.title(\"Normal Q-Q plot\")\n",
    "plt.show()"
   ]
  },
  {
   "cell_type": "code",
   "execution_count": null,
   "metadata": {},
   "outputs": [],
   "source": [
    "# Teste de Shapiro-Wilk\n",
    "stat, p = stats.shapiro(sampleM)\n",
    "print('Statistics=%.3f, p=%.3f' % (stat, p))"
   ]
  },
  {
   "cell_type": "code",
   "execution_count": null,
   "metadata": {},
   "outputs": [],
   "source": [
    "# Teste de D'Agostino K^2\n",
    "stat, p = stats.normaltest(sampleM)\n",
    "print('Statistics=%.3f, p=%.3f' % (stat, p))"
   ]
  }
 ],
 "metadata": {
  "kernelspec": {
   "display_name": "Python 3",
   "language": "python",
   "name": "python3"
  },
  "language_info": {
   "codemirror_mode": {
    "name": "ipython",
    "version": 3
   },
   "file_extension": ".py",
   "mimetype": "text/x-python",
   "name": "python",
   "nbconvert_exporter": "python",
   "pygments_lexer": "ipython3",
   "version": "3.6.5"
  }
 },
 "nbformat": 4,
 "nbformat_minor": 2
}
