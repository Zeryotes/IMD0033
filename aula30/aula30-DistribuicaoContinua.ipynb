{
 "cells": [
  {
   "cell_type": "code",
   "execution_count": null,
   "metadata": {},
   "outputs": [],
   "source": [
    "import numpy as np\n",
    "import matplotlib.pyplot as plt\n",
    "import scipy.stats as stats"
   ]
  },
  {
   "cell_type": "code",
   "execution_count": null,
   "metadata": {},
   "outputs": [],
   "source": [
    "# Teorema central do limite\n",
    "\n",
    "# simulação de dados\n",
    "rolls = np.random.randint(1, 7, 50)"
   ]
  },
  {
   "cell_type": "code",
   "execution_count": null,
   "metadata": {},
   "outputs": [],
   "source": [
    "# Simulando várias jogadas de dados\n",
    "sampleM = list()\n",
    "for i in range(1,1000):\n",
    "    rolls = np.random.randint(1, 7, 50)\n",
    "    sampleM.append(np.mean(rolls))\n"
   ]
  },
  {
   "cell_type": "code",
   "execution_count": null,
   "metadata": {},
   "outputs": [],
   "source": [
    "plt.hist(sampleM)\n",
    "plt.show()"
   ]
  },
  {
   "cell_type": "code",
   "execution_count": null,
   "metadata": {},
   "outputs": [],
   "source": [
    "stats.probplot(sampleM, dist=\"norm\", plot=plt)\n",
    "plt.title(\"Normal Q-Q plot\")\n",
    "plt.show()"
   ]
  },
  {
   "cell_type": "code",
   "execution_count": null,
   "metadata": {},
   "outputs": [],
   "source": [
    "# Teste de Shapiro-Wilk\n",
    "stat, p = stats.shapiro(sampleM)\n",
    "print('Statistics=%.3f, p=%.3f' % (stat, p))"
   ]
  },
  {
   "cell_type": "code",
   "execution_count": null,
   "metadata": {},
   "outputs": [],
   "source": [
    "# Teste de D'Agostino K^2\n",
    "stat, p = stats.normaltest(sampleM)\n",
    "print('Statistics=%.3f, p=%.3f' % (stat, p))"
   ]
  },
  {
   "cell_type": "code",
   "execution_count": null,
   "metadata": {},
   "outputs": [],
   "source": [
    "# Exercício\n",
    "\n",
    "# Abaixo temos dados de uma população que segue uma distribuição estranha:\n",
    "strange = np.append(np.random.beta(1,10,1000),np.random.beta(10,1,1000))\n",
    "plt.hist(strange)\n",
    "plt.show()\n",
    "# Será que se eu amostrar várias vezes, para cada amostragem eu calcular a média amostral e \n",
    "# realizar a distribuição da média, ele vai seguir uma distribuição normal?\n",
    "\n",
    "# Faça um experimento de simulação que verifique isso. \n",
    "\n",
    "# O que acontece se variarmos o tamanho da amostra em relação ao número de amostragens necessária \n",
    "# para que a distribuição da média atinja uma distribuição normal?"
   ]
  },
  {
   "cell_type": "code",
   "execution_count": null,
   "metadata": {},
   "outputs": [],
   "source": []
  },
  {
   "cell_type": "code",
   "execution_count": null,
   "metadata": {},
   "outputs": [],
   "source": []
  },
  {
   "cell_type": "code",
   "execution_count": null,
   "metadata": {},
   "outputs": [],
   "source": []
  }
 ],
 "metadata": {
  "kernelspec": {
   "display_name": "Python 3",
   "language": "python",
   "name": "python3"
  },
  "language_info": {
   "codemirror_mode": {
    "name": "ipython",
    "version": 3
   },
   "file_extension": ".py",
   "mimetype": "text/x-python",
   "name": "python",
   "nbconvert_exporter": "python",
   "pygments_lexer": "ipython3",
   "version": "3.6.5"
  }
 },
 "nbformat": 4,
 "nbformat_minor": 2
}
