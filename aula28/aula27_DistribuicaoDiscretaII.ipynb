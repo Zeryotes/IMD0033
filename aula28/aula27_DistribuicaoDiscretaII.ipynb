{
 "cells": [
  {
   "cell_type": "code",
   "execution_count": null,
   "metadata": {},
   "outputs": [],
   "source": [
    "import numpy as np\n",
    "import matplotlib.pyplot as plt\n"
   ]
  },
  {
   "cell_type": "code",
   "execution_count": null,
   "metadata": {},
   "outputs": [],
   "source": [
    "def perm(n): # calcula o número de permutações do conjunto n\n",
    "    result = 1;\n",
    "    if (n > 0):\n",
    "        for i in range(n):\n",
    "            result *= i+1\n",
    "    return result\n",
    "\n",
    "def arranjo(n, k): # calcula o número de arranjos do conjunto n de tamanho k\n",
    "    return (perm(n)/perm(n-k))\n",
    "\n",
    "def cb(n,k):  # calcula o número de combinações do conjunto n de tamanho k\n",
    "    return arranjo(n,k)/perm(k)\n"
   ]
  },
  {
   "cell_type": "markdown",
   "metadata": {},
   "source": [
    "### Exercício\n",
    "Crie uma função em python que use a binomial para gerar a probabilidade de k sucessos acontecerem em n tentativas, dado que a probabilidade de um sucesso seja p."
   ]
  },
  {
   "cell_type": "code",
   "execution_count": null,
   "metadata": {},
   "outputs": [],
   "source": []
  },
  {
   "cell_type": "markdown",
   "metadata": {},
   "source": [
    "### Exercício\n",
    "\n",
    "Uma moeda é jogada 10 vezes. Calcule a probabilidade de 7 caras ocorrerem.\n"
   ]
  },
  {
   "cell_type": "code",
   "execution_count": null,
   "metadata": {},
   "outputs": [],
   "source": []
  },
  {
   "cell_type": "markdown",
   "metadata": {},
   "source": [
    "### Exercício\n",
    "\n",
    "Um dado é jogado 5 vezes. Calcule a probabilidade de 3 seis ocorrerem."
   ]
  },
  {
   "cell_type": "code",
   "execution_count": null,
   "metadata": {},
   "outputs": [],
   "source": []
  },
  {
   "cell_type": "markdown",
   "metadata": {},
   "source": [
    "### Exercício\n",
    "Crie um gráfico que mostre as probabilidades de k sucessos acontecerem sendo que k = {0,1, ..., n}. Considere n = 100 e p = 1/6."
   ]
  },
  {
   "cell_type": "code",
   "execution_count": null,
   "metadata": {},
   "outputs": [],
   "source": []
  },
  {
   "cell_type": "markdown",
   "metadata": {},
   "source": [
    "### Exercício\n",
    "\n",
    "Uma indústria produz 200 itens, onde cada um possui probabilidade de 1% de ser defeituoso. Calcule a probabilidade de três desses itens serem defeituosos."
   ]
  },
  {
   "cell_type": "code",
   "execution_count": null,
   "metadata": {},
   "outputs": [],
   "source": []
  },
  {
   "cell_type": "markdown",
   "metadata": {},
   "source": [
    "### Exercício\n",
    "\n",
    "Uma indústria produz 200 itens, onde cada um possui probabilidade de 1% de ser defeituoso. Calcule a probabilidade de encontrar pelo menos um defeituoso.\n"
   ]
  },
  {
   "cell_type": "code",
   "execution_count": null,
   "metadata": {},
   "outputs": [],
   "source": []
  },
  {
   "cell_type": "markdown",
   "metadata": {},
   "source": [
    "### Exercício\n",
    "\n",
    "Uma indústria produz 2000000 itens, onde cada um possui probabilidade de 0,001% de ser defeituoso. Calcule a probabilidade de três desses itens serem defeituosos."
   ]
  },
  {
   "cell_type": "code",
   "execution_count": null,
   "metadata": {},
   "outputs": [],
   "source": []
  },
  {
   "cell_type": "markdown",
   "metadata": {},
   "source": [
    "### Exercício\n",
    "Crie uma função em python que use o poisson para gerar a probabilidade de k sucessos acontecerem em n tentativas, dado que a probabilidade de um sucesso seja p."
   ]
  },
  {
   "cell_type": "code",
   "execution_count": null,
   "metadata": {},
   "outputs": [],
   "source": []
  },
  {
   "cell_type": "markdown",
   "metadata": {},
   "source": [
    "### Exercício\n",
    "\n",
    "Uma indústria produz 2000000 itens, onde cada um possui probabilidade de 0,001% de ser defeituoso. Calcule a probabilidade de três desses itens serem defeituosos."
   ]
  },
  {
   "cell_type": "code",
   "execution_count": null,
   "metadata": {},
   "outputs": [],
   "source": []
  },
  {
   "cell_type": "markdown",
   "metadata": {},
   "source": [
    "### Exercício\n",
    "\n",
    "Crie um gráfico que te forneça as probabilidades de k sucessos, variando o k de 0 a 100 e considerando os mesmos valores de n e p do exercício passado."
   ]
  },
  {
   "cell_type": "code",
   "execution_count": null,
   "metadata": {},
   "outputs": [],
   "source": []
  },
  {
   "cell_type": "code",
   "execution_count": null,
   "metadata": {},
   "outputs": [],
   "source": []
  },
  {
   "cell_type": "code",
   "execution_count": null,
   "metadata": {},
   "outputs": [],
   "source": []
  },
  {
   "cell_type": "markdown",
   "metadata": {},
   "source": [
    "### Exercício\n",
    "\n",
    "Em experimentos de jogadas repetidas de moedas, qual a probabilidade da terceira moeda ser a primeira cara?"
   ]
  },
  {
   "cell_type": "code",
   "execution_count": null,
   "metadata": {},
   "outputs": [],
   "source": []
  },
  {
   "cell_type": "markdown",
   "metadata": {},
   "source": [
    "### Exercício\n",
    "Crie uma função em python que use a geométrica para gerar a probabilidade de sucesso depois de n tentativas, dado que a probabilidade de um sucesso seja p e resolva o exercício anterior."
   ]
  },
  {
   "cell_type": "code",
   "execution_count": null,
   "metadata": {},
   "outputs": [],
   "source": []
  },
  {
   "cell_type": "markdown",
   "metadata": {},
   "source": [
    "### Exercício\n",
    "\n",
    "Crie um gráfico que te forneça as probabilidades do primeiro sucesso acontecer depois de (n-1) tentativas. Varie o n de 0 a 10 e considere o mesmo valor de p do exercício passado."
   ]
  },
  {
   "cell_type": "code",
   "execution_count": null,
   "metadata": {},
   "outputs": [],
   "source": []
  },
  {
   "cell_type": "markdown",
   "metadata": {},
   "source": [
    "### Exercício\n",
    "\n",
    "Qual a esperança e a variância para o enunciado do exercício anterior?"
   ]
  },
  {
   "cell_type": "code",
   "execution_count": null,
   "metadata": {},
   "outputs": [],
   "source": [
    "# esperança\n"
   ]
  },
  {
   "cell_type": "code",
   "execution_count": null,
   "metadata": {},
   "outputs": [],
   "source": [
    "# variância\n"
   ]
  },
  {
   "cell_type": "markdown",
   "metadata": {},
   "source": [
    "### Exercício\n",
    "\n",
    "Se depois de 10 jogadas de moeda não ocorreu nenhum cara, qual a probabilidade da 12a moeda ser cara? Ou seja, P(X = 12 | X > 10)"
   ]
  },
  {
   "cell_type": "code",
   "execution_count": null,
   "metadata": {},
   "outputs": [],
   "source": []
  },
  {
   "cell_type": "code",
   "execution_count": null,
   "metadata": {},
   "outputs": [],
   "source": []
  }
 ],
 "metadata": {
  "kernelspec": {
   "display_name": "Python 3",
   "language": "python",
   "name": "python3"
  },
  "language_info": {
   "codemirror_mode": {
    "name": "ipython",
    "version": 3
   },
   "file_extension": ".py",
   "mimetype": "text/x-python",
   "name": "python",
   "nbconvert_exporter": "python",
   "pygments_lexer": "ipython3",
   "version": "3.6.5"
  }
 },
 "nbformat": 4,
 "nbformat_minor": 2
}
