{
 "cells": [
  {
   "cell_type": "markdown",
   "metadata": {},
   "source": [
    "# Introdução a Python\n",
    "\n",
    "Neste notebook te ajudará a adquirir noções da linguagem Python."
   ]
  },
  {
   "cell_type": "markdown",
   "metadata": {},
   "source": [
    "### Hello World\n",
    "\n",
    "Para imprimir textos, basta usar a função print()"
   ]
  },
  {
   "cell_type": "code",
   "execution_count": null,
   "metadata": {},
   "outputs": [],
   "source": [
    "print(\"Hello World\")"
   ]
  },
  {
   "cell_type": "markdown",
   "metadata": {},
   "source": [
    "### Comentários\n",
    "\n",
    "Linhas que iniciam com # são comentários. No Jupyter Notebook não ocorre, mas você pode comentar múltiplas linhas colocando elas entre '''."
   ]
  },
  {
   "cell_type": "code",
   "execution_count": null,
   "metadata": {},
   "outputs": [],
   "source": [
    "# Isto é um comentário\n"
   ]
  },
  {
   "cell_type": "markdown",
   "metadata": {},
   "source": [
    "## Objetos em Python e seus tipos\n",
    "\n",
    "Tudo em Python é um **objeto** e todo objeto em Python é de um **tipo**. Alguns dos tipos básicos são:\n",
    "\n",
    "- **`int`** (inteiro)\n",
    "  - `10`\n",
    "  - `-3`\n",
    "- **`float`** (float)\n",
    "  - `7.41`\n",
    "  - `-0.006`\n",
    "- **`str`** (string; sequência de caracteres entre aspas simples, dupla ou tripla)\n",
    "  - `'this is a string using single quotes'`\n",
    "  - `\"this is a string using double quotes\"`\n",
    "  - `'''this is a triple quoted string using single quotes'''`\n",
    "  - `\"\"\"this is a triple quoted string using double quotes\"\"\"`\n",
    "- **`bool`** (boolean; valor binário que recebe true ou false)\n",
    "  - `True`\n",
    "  - `False`\n",
    "- **`NoneType`** (um tipo especial que representa ausência de valor)\n",
    "  - `None`\n",
    " \n",
    "Use a função type() para verificar os tipos de cada objeto citado acima:"
   ]
  },
  {
   "cell_type": "code",
   "execution_count": null,
   "metadata": {},
   "outputs": [],
   "source": [
    "type(None)"
   ]
  },
  {
   "cell_type": "markdown",
   "metadata": {},
   "source": [
    "## Variáveis em Python\n",
    "\n",
    "Em Python, uma **variável** é um nome que você especifica no seu código que mapeia um **objeto** particular ou um valor.\n",
    "\n",
    "Definindo uma variável, nós podemos nos referir a coisas por nome que faz sentido para nós. \n",
    "\n",
    "Os nomes de variáveis só podem conter letras, underscores (`_`) ou números (não pode haver espaços, traços ou outros caracteres). Além disso, o nome de uma variável deve começar com uma letra ou underscore.\n",
    "\n",
    "A atribuição de um objeto a uma variável se dá pelo sinal de \"=\".\n",
    "\n",
    "### Exercício\n",
    "\n",
    "Crie uma variável que receberá o seu nome, e uma outra variável que receberá a sua idade."
   ]
  },
  {
   "cell_type": "code",
   "execution_count": null,
   "metadata": {},
   "outputs": [],
   "source": [
    "nome = \"meu nome\"\n"
   ]
  },
  {
   "cell_type": "markdown",
   "metadata": {},
   "source": [
    "## Operações básicas\n",
    "\n",
    "No Python, existem diferentes tipos de  **operadores** que operam em diferentes valores. Alguns dos operadores básicos incluem:\n",
    "\n",
    "- Operadores aritméticos\n",
    "  - **`+`** (adição)\n",
    "  - **`-`** (subtração)\n",
    "  - **`*`** (multiplicação)\n",
    "  - **`/`** (divisão)\n",
    "  - **`%`** (módulo)\n",
    "  - __`**`__ (expoente)\n",
    "- Operadores de atribuição\n",
    "  - **`=`** (atribuir um valor)\n",
    "  - **`+=`** (adiciona e re-atribui; incrementar)\n",
    "  - **`-=`** (retira e re-atribui; decrementar)\n",
    "  - **`*=`** (multiplica e re-atribui)\n",
    "- Operadores de comparação (retorna `True` ou `False`)\n",
    "  - **`==`** (igual a)\n",
    "  - **`!=`** (não igual a)\n",
    "  - **`<`** (menor que)\n",
    "  - **`<=`** (menor ou igual que)\n",
    "  - **`>`** (maior que)\n",
    "  - **`>=`** (maior ou igual a)\n",
    "\n",
    "Quando múltiplos operadores são utilizados em uma expressão única, o **operador precedente** determina quais partes da expressão são avaliados em qual ordem. Operadores com precedência alta são avaliados primeiro. Operadores com a mesma precedência são avaliados da esquerda para direita.\n",
    "\n",
    "- `()` parêntenses, for grouping\n",
    "- `**` expoente\n",
    "- `*`, `/` multiplicação e divisão\n",
    "- `+`, `-` adição e subtração\n",
    "- `==`, `!=`, `<`, `<=`, `>`, `>=` comparações"
   ]
  },
  {
   "cell_type": "code",
   "execution_count": null,
   "metadata": {},
   "outputs": [],
   "source": [
    "# Atribuindo alguns valores a algumas variáveis\n",
    "num1 = 10\n",
    "num2 = -3\n",
    "num3 = 7.41\n",
    "num4 = -.6\n",
    "num5 = 7\n",
    "num6 = 3\n",
    "num7 = 11.11"
   ]
  },
  {
   "cell_type": "code",
   "execution_count": null,
   "metadata": {},
   "outputs": [],
   "source": [
    "# Adição\n",
    "num1 + num2"
   ]
  },
  {
   "cell_type": "code",
   "execution_count": null,
   "metadata": {},
   "outputs": [],
   "source": [
    "# Subtração\n",
    "num2 - num3"
   ]
  },
  {
   "cell_type": "code",
   "execution_count": null,
   "metadata": {},
   "outputs": [],
   "source": [
    "# Multiplicação\n",
    "num3 * num4"
   ]
  },
  {
   "cell_type": "code",
   "execution_count": null,
   "metadata": {},
   "outputs": [],
   "source": [
    "# Divisão\n",
    "num4 / num5"
   ]
  },
  {
   "cell_type": "code",
   "execution_count": null,
   "metadata": {},
   "outputs": [],
   "source": [
    "# Módulo\n",
    "num5 % num6"
   ]
  },
  {
   "cell_type": "code",
   "execution_count": null,
   "metadata": {},
   "outputs": [],
   "source": [
    "# Expoente\n",
    "num5 ** num6"
   ]
  },
  {
   "cell_type": "code",
   "execution_count": null,
   "metadata": {},
   "outputs": [],
   "source": [
    "# Incrementar variável existente\n",
    "num7 += 4\n",
    "num7"
   ]
  },
  {
   "cell_type": "code",
   "execution_count": null,
   "metadata": {},
   "outputs": [],
   "source": [
    "# Decrementar variável existente\n",
    "num6 -= 2\n",
    "num6"
   ]
  },
  {
   "cell_type": "code",
   "execution_count": null,
   "metadata": {},
   "outputs": [],
   "source": [
    "# Multiplicar e re-atribuir\n",
    "num3 *= 5\n",
    "num3"
   ]
  },
  {
   "cell_type": "code",
   "execution_count": null,
   "metadata": {},
   "outputs": [],
   "source": [
    "# Atribuir o resultado de uma expressão a uma variável\n",
    "num8 = num1 + num2 * num3\n",
    "num8"
   ]
  },
  {
   "cell_type": "code",
   "execution_count": null,
   "metadata": {},
   "outputs": [],
   "source": [
    "# As duas expressões abaixo são iguais entre eles?\n",
    "num1 + num2 == num5"
   ]
  },
  {
   "cell_type": "code",
   "execution_count": null,
   "metadata": {},
   "outputs": [],
   "source": [
    "# As duas expressões abaixo são diferentes entre eles?\n",
    "num3 != num4"
   ]
  },
  {
   "cell_type": "code",
   "execution_count": null,
   "metadata": {},
   "outputs": [],
   "source": [
    "# A primeira expressão é menor que a segunda expressão?\n",
    "num5 < num6"
   ]
  },
  {
   "cell_type": "code",
   "execution_count": null,
   "metadata": {},
   "outputs": [],
   "source": [
    "# Esta expressão é verdadeira?\n",
    "5 > 3 > 1"
   ]
  },
  {
   "cell_type": "code",
   "execution_count": null,
   "metadata": {},
   "outputs": [],
   "source": [
    "# Esta expressão é verdadeira?\n",
    "5 > 3 < 4 == 3 + 1"
   ]
  },
  {
   "cell_type": "code",
   "execution_count": null,
   "metadata": {},
   "outputs": [],
   "source": [
    "# Atribuir strings a algumas variáveis\n",
    "simple_string1 = 'an example'\n",
    "simple_string2 = \"oranges \""
   ]
  },
  {
   "cell_type": "code",
   "execution_count": null,
   "metadata": {},
   "outputs": [],
   "source": [
    "# Adição ou concatenação\n",
    "simple_string1 + ' of using the + operator'"
   ]
  },
  {
   "cell_type": "code",
   "execution_count": null,
   "metadata": {},
   "outputs": [],
   "source": [
    "# Note que a variável não foi modificado\n",
    "simple_string1"
   ]
  },
  {
   "cell_type": "code",
   "execution_count": null,
   "metadata": {},
   "outputs": [],
   "source": [
    "# Multiplicação\n",
    "simple_string2 * 4"
   ]
  },
  {
   "cell_type": "code",
   "execution_count": null,
   "metadata": {},
   "outputs": [],
   "source": [
    "# Este string não foi modificado\n",
    "simple_string2"
   ]
  },
  {
   "cell_type": "code",
   "execution_count": null,
   "metadata": {},
   "outputs": [],
   "source": [
    "# Estas duas expressões são iguais entre elas?\n",
    "simple_string1 == simple_string2"
   ]
  },
  {
   "cell_type": "code",
   "execution_count": null,
   "metadata": {},
   "outputs": [],
   "source": [
    "# Estas duas expressões são iguais entre elas?\n",
    "simple_string1 == 'an example'"
   ]
  },
  {
   "cell_type": "code",
   "execution_count": null,
   "metadata": {},
   "outputs": [],
   "source": [
    "# Adicionar (concatenar) e re-atribuir\n",
    "simple_string1 += ' that re-assigned the original string'\n",
    "simple_string1"
   ]
  },
  {
   "cell_type": "code",
   "execution_count": null,
   "metadata": {},
   "outputs": [],
   "source": [
    "# Multiplicar e re-atribuir\n",
    "simple_string2 *= 3\n",
    "simple_string2"
   ]
  },
  {
   "cell_type": "code",
   "execution_count": null,
   "metadata": {},
   "outputs": [],
   "source": [
    "# Nota: Operadores de subtração, divisão, e de decremento não se aplica a strings."
   ]
  },
  {
   "cell_type": "markdown",
   "metadata": {},
   "source": [
    "### Exercício\n",
    "\n",
    "Escreva um código em Python que resolva uma expressão de segundo grau utilizando o teorema de Bhascara. Tente resolver esta função: x<sup>2</sup> + 12x – 13 = 0"
   ]
  },
  {
   "cell_type": "code",
   "execution_count": null,
   "metadata": {},
   "outputs": [],
   "source": []
  },
  {
   "cell_type": "markdown",
   "metadata": {},
   "source": [
    "Escreva um código em Python que consiga determinar se um número em uma variável é par ou ímpar."
   ]
  },
  {
   "cell_type": "code",
   "execution_count": null,
   "metadata": {},
   "outputs": [],
   "source": []
  },
  {
   "cell_type": "markdown",
   "metadata": {},
   "source": [
    "## Contêiners básicos\n",
    "\n",
    "> Nota: objetos **mutáveis** são aqueles que podem ser modificados após a sua criação e os objetos **imutáveis** não.\n",
    "\n",
    "Contêiners são objetos que podem ser usados para agrupar outros objetos. Os tipos básicos de contêiners incluem:\n",
    "\n",
    "- **`str`** (string: imutável; indexado por inteiros; cada item é armazenado na ordem que foi adicionado)\n",
    "- **`list`** (lista: mutável; indexado por inteiros; cada item é armazenado na ordem que foi adicionado)\n",
    "  - `[3, 5, 6, 3, 'dog', 'cat', False]`\n",
    "- **`tuple`** (tupla: imutável; indexado por inteiros; cada item é armazenado na ordem que foi adicionado)\n",
    "  - `(3, 5, 6, 3, 'dog', 'cat', False)`\n",
    "- **`set`** (conjunto: mutável; não indexado; os itens NÃO são armazenados na ordem que foi adicionado; pode apenas conter objetos imutáveis; não contém objetos duplicados)\n",
    "  - `{3, 5, 6, 3, 'dog', 'cat', False}`\n",
    "- **`dict`** (dicionário: mutável; os pares chave-valor são indexados por chaves imutáveis; os itens NÃO são armazenados na ordem que foram adicionados)\n",
    "  - `{'name': 'Jane', 'age': 23, 'fav_foods': ['pizza', 'fruit', 'fish']}`\n",
    "\n",
    "Quando criar uma variável lista, tupla ou conjunto, utilize vírgulas (,) para separar os itens individuais. \n",
    "\n",
    "Quando criar um dicionário, utilize dois-pontos (:) para separar chaves dos valores e vírgulas (,) para separar os pares chave-valor.\n",
    "\n",
    "Strings, listas, e tuplas são todos do **tipo sequência** e podem utilizar os operadores `+`, `*`, `+=`, e `*=`."
   ]
  },
  {
   "cell_type": "code",
   "execution_count": null,
   "metadata": {},
   "outputs": [],
   "source": [
    "# Atribuindo alguns contêiners para diferentes variáveis\n",
    "list1 = [3, 5, 6, 3, 'dog', 'cat', False]\n",
    "tuple1 = (3, 5, 6, 3, 'dog', 'cat', False)\n",
    "set1 = {3, 5, 6, 3, 'dog', 'cat', False}\n",
    "dict1 = {'name': 'Jane', 'age': 23, 'fav_foods': ['pizza', 'fruit', 'fish']}"
   ]
  },
  {
   "cell_type": "code",
   "execution_count": null,
   "metadata": {},
   "outputs": [],
   "source": [
    "# Itens na lista são armazenados na ordem que foram adicionados.\n",
    "list1"
   ]
  },
  {
   "cell_type": "code",
   "execution_count": null,
   "metadata": {},
   "outputs": [],
   "source": [
    "# Itens na tupla são armazenados na ordem que foram adicionados.\n",
    "tuple1"
   ]
  },
  {
   "cell_type": "code",
   "execution_count": null,
   "metadata": {},
   "outputs": [],
   "source": [
    "# Itens no conjunto NÃO são armazenados na ordem que foram adicionados.\n",
    "# Também note que o valor 3 aparece apenas uma vez neste conjunto.\n",
    "set1"
   ]
  },
  {
   "cell_type": "code",
   "execution_count": null,
   "metadata": {},
   "outputs": [],
   "source": [
    "# Itens no dicionário NÃO são armazenados na ordem que foram adicionados.\n",
    "dict1"
   ]
  },
  {
   "cell_type": "code",
   "execution_count": null,
   "metadata": {},
   "outputs": [],
   "source": [
    "# Adicionar e re-atribuir\n",
    "list1 += [5, 'grapes']\n",
    "list1"
   ]
  },
  {
   "cell_type": "code",
   "execution_count": null,
   "metadata": {},
   "outputs": [],
   "source": [
    "# Adicionar e reatribuir\n",
    "tuple1 += (5, 'grapes')\n",
    "tuple1"
   ]
  },
  {
   "cell_type": "code",
   "execution_count": null,
   "metadata": {},
   "outputs": [],
   "source": [
    "# Multiplicar\n",
    "[1, 2, 3, 4] * 2"
   ]
  },
  {
   "cell_type": "code",
   "execution_count": null,
   "metadata": {},
   "outputs": [],
   "source": [
    "# Multiplicar\n",
    "(1, 2, 3, 4) * 3"
   ]
  },
  {
   "cell_type": "markdown",
   "metadata": {},
   "source": [
    "## Acessando os dados nos contêiners\n",
    "\n",
    "Para strings, listas, tuplas e dicionários, podemos usar a **notação subscrita** (colchetes) para acessar dados em um índice.\n",
    "\n",
    "- strings, listas, and tuplas são indexadas por inteiros, **sendo o 0** o primeiro item:\n",
    "  - Estes tipos de sequência também suportam acessar um intervalo de itens, conhecido como **slicing**;\n",
    "  - utilize a **indexação negativa** para começar pelo último item da sequência\n",
    "- dicionários são indexados por chaves.\n",
    "\n",
    "> Nota: conjuntos não são indexados, portanto nós não podemos usar a notação subscrita para acessar os seus elementos."
   ]
  },
  {
   "cell_type": "code",
   "execution_count": null,
   "metadata": {},
   "outputs": [],
   "source": [
    "# Acessar o primeiro elemento da sequência\n",
    "list1[0]"
   ]
  },
  {
   "cell_type": "code",
   "execution_count": null,
   "metadata": {},
   "outputs": [],
   "source": [
    "# Acessar o último elemento da sequência\n",
    "tuple1[-1]"
   ]
  },
  {
   "cell_type": "code",
   "execution_count": null,
   "metadata": {},
   "outputs": [],
   "source": [
    "# Acessar um intervalo de intens na sequência\n",
    "simple_string1[3:8]"
   ]
  },
  {
   "cell_type": "code",
   "execution_count": null,
   "metadata": {},
   "outputs": [],
   "source": [
    "# Acessar um intervalo de intens na sequência\n",
    "tuple1[:-3]"
   ]
  },
  {
   "cell_type": "code",
   "execution_count": null,
   "metadata": {},
   "outputs": [],
   "source": [
    "# Acessar um intervalo de intens na sequência\n",
    "list1[4:]"
   ]
  },
  {
   "cell_type": "code",
   "execution_count": null,
   "metadata": {},
   "outputs": [],
   "source": [
    "# Acessar itens em um dicionário\n",
    "dict1['name']"
   ]
  },
  {
   "cell_type": "code",
   "execution_count": null,
   "metadata": {
    "scrolled": true
   },
   "outputs": [],
   "source": [
    "# Acessar um elemento de uma sequência em um dicionário\n",
    "dict1['fav_foods'][2]"
   ]
  },
  {
   "cell_type": "markdown",
   "metadata": {},
   "source": [
    "### Exercício\n",
    "\n",
    "Escreva um código em Python que armazene a sequência reversa da lista abaixo:"
   ]
  },
  {
   "cell_type": "code",
   "execution_count": 3,
   "metadata": {},
   "outputs": [
    {
     "data": {
      "text/plain": [
       "[5, 10, 15, 20]"
      ]
     },
     "execution_count": 3,
     "metadata": {},
     "output_type": "execute_result"
    }
   ],
   "source": [
    "a = [5, 10, 15, 20, 25]\n",
    "a[:-1]"
   ]
  },
  {
   "cell_type": "code",
   "execution_count": null,
   "metadata": {},
   "outputs": [],
   "source": []
  },
  {
   "cell_type": "code",
   "execution_count": null,
   "metadata": {},
   "outputs": [],
   "source": []
  }
 ],
 "metadata": {
  "kernelspec": {
   "display_name": "Python 3",
   "language": "python",
   "name": "python3"
  },
  "language_info": {
   "codemirror_mode": {
    "name": "ipython",
    "version": 3
   },
   "file_extension": ".py",
   "mimetype": "text/x-python",
   "name": "python",
   "nbconvert_exporter": "python",
   "pygments_lexer": "ipython3",
   "version": "3.6.5"
  }
 },
 "nbformat": 4,
 "nbformat_minor": 2
}
