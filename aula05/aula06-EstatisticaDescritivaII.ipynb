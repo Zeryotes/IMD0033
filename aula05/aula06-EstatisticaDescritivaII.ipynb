{
 "cells": [
  {
   "cell_type": "markdown",
   "metadata": {},
   "source": [
    "# Estatística Descritiva II\n",
    "\n",
    "## Medidas de Tendência Central\n",
    "\n",
    "As medidas de tendência central, como o nome diz, são medidas que tentam descrever aonde se encontra o valor central dos dados. É interessante ter esta descrição do valor central dos dados, já que dados que possuem uma distribuição comumente encontrado (normal, binomial, poisson, etc) tendem a terem seus pontos mais concentrados no centro. Nesta aula descreveremos as principais medidas de tendência central utilizadas."
   ]
  },
  {
   "cell_type": "code",
   "execution_count": null,
   "metadata": {},
   "outputs": [],
   "source": [
    "import numpy as np\n",
    "import matplotlib.pyplot as plt"
   ]
  },
  {
   "cell_type": "markdown",
   "metadata": {},
   "source": [
    "### Mediana\n",
    "A mediana é o elemento que se encontra no meio de uma lista ordenada. O seu valor divide os dados em duas partes, onde metade é maior que a mediana e a outra metade menor.\n",
    "\n",
    "Se o número de elementos em uma lista ordenada for ímpar, a mediana será o elemento na posição (n - 1)/2, onde n é o número de elementos e considerando que a primeira posição seja 0.\n",
    "\n",
    "Se o número de elementos em uma lista ordenada for par, a mediana será a média aritmética dos elementos na posição (n/2)-1 e n/2, onde n é o número de elementos e considerando que a primeira posição seja 0.\n",
    "\n",
    "#### Exercício 1:\n",
    "Crie uma função em Python que receba uma lista de número e encontre a sua mediana"
   ]
  },
  {
   "cell_type": "code",
   "execution_count": null,
   "metadata": {},
   "outputs": [],
   "source": [
    "def mediana (listNum):\n",
    "    # escreva seu código aqui\n",
    "    \n",
    "    return mediana\n",
    "\n",
    "lista = [5,1,2,3,4,6]\n",
    "print(mediana(lista))"
   ]
  },
  {
   "cell_type": "markdown",
   "metadata": {},
   "source": [
    "### Moda\n",
    "A moda é uma medida que indica o valor mais frequente nos dados.\n",
    "\n",
    "#### Exercício 2:\n",
    "Crie uma função em Python que receba uma lista de número e encontre a moda."
   ]
  },
  {
   "cell_type": "code",
   "execution_count": null,
   "metadata": {},
   "outputs": [],
   "source": [
    "def moda(listNum):\n",
    "    # escreva seu código aqui\n",
    "    listModa = []\n",
    "    \n",
    "    return listModa\n",
    "\n",
    "lista = [1,1,1,1,1,2,2,2,2,5,3,2,5]\n",
    "print(moda(lista))"
   ]
  },
  {
   "cell_type": "markdown",
   "metadata": {},
   "source": [
    "### Média aritmética\n",
    "A média aritmética é uma importante medida de centralidade. Quando calculamos a média, é como se estivéssemos querendo obter um número que, caso somado o número de vezes correspondente ao número de elementos, teremos o mesmo valor da somatória dos elementos. "
   ]
  },
  {
   "cell_type": "code",
   "execution_count": null,
   "metadata": {},
   "outputs": [],
   "source": [
    "def medArit (listNum):\n",
    "    # escreva seu código aqui\n",
    "    \n",
    "    return media\n",
    "\n",
    "lista = [1,2,3,3,1,3,1]\n",
    "print(medArit(lista))"
   ]
  },
  {
   "cell_type": "markdown",
   "metadata": {},
   "source": [
    "#### Exercício 3\n",
    "\n",
    "Dada as listas abaixo, gere um histograma de cada uma delas e verifique as distribuição dos dados."
   ]
  },
  {
   "cell_type": "code",
   "execution_count": null,
   "metadata": {},
   "outputs": [],
   "source": [
    "A = [9,4,14,11,10,10,8,12,5,11,11,9,9,7,10,9,9,10,9,10,6,8,6,8,10,9,12,6,10,10,7,11,8,10,8,8,10,8,14,10,7,6,9,11,11,7,14,12,13,9,7,10,9,7,6,14,8,10,12,12,9,12,8,13,6,9,11,10,11,7,9,11,6,10,10,11,8,8,8,9,10,7,7,6,9,12,10,10,13,8,12,9,6,10,7,10,11,12,11,6]\n",
    "B = [1,2,2,13,15,3,4,2,4,10,2,3,4,1,3,6,3,3,5,2,3,2,1,5,64,11,4,6,36,11,8,2,1,3,5,21,2,1,12,4,9,1,1,6,3,3,7,3,2,4,2,3,1,2,1,2,1,5,2,3,1,1,3,3,6,2,6,7,4,2,4,25,2,4,4,4,5,2,9,4,1,15,2,3,6,25,3,7,2,11,1,5,1,5,5,4,4,8,2,5]\n",
    "C = [1,2,2,13,15,3,4,2,4,10,2,3,4,1,3,6,3,3,5,2,3,2,1,5,64,11,4,6,36,11,8,2,1,3,5,21,2,1,12,4,9,1,1,6,3,3,7,3,2,4,2,3,1,2,1,2,1,5,2,3,1,1,3,3,6,2,6,7,4,2,4,25,2,4,4,4,5,2,9,4,1,15,2,3,6,25,3,7,2,11,1,5,1,5,5,4,4,8,2,5,100]\n",
    "\n",
    "bins = range(0,101)\n",
    "histA = plt\n",
    "histA.hist(A, bins, rwidth=0.9)\n",
    "histA.plot()\n",
    "\n"
   ]
  },
  {
   "cell_type": "code",
   "execution_count": null,
   "metadata": {},
   "outputs": [],
   "source": [
    "bins = range(0,101)\n",
    "histB = plt\n",
    "histB.hist(B, bins, rwidth=0.9)\n",
    "histB.plot()\n",
    "\n"
   ]
  },
  {
   "cell_type": "code",
   "execution_count": null,
   "metadata": {},
   "outputs": [],
   "source": [
    "histC = plt\n",
    "histC.hist(C, bins, rwidth=0.9)\n",
    "histC.plot()"
   ]
  },
  {
   "cell_type": "markdown",
   "metadata": {},
   "source": [
    "#### Exercício 4\n",
    "\n",
    "Agora, calcule a moda, mediana e média aritmética de cada uma delas e compare os seus resultados. O que podemos dizer a respeito de cada uma das medidas?"
   ]
  },
  {
   "cell_type": "code",
   "execution_count": null,
   "metadata": {},
   "outputs": [],
   "source": []
  },
  {
   "cell_type": "markdown",
   "metadata": {},
   "source": [
    "### Média ponderada\n",
    "\n",
    "#### Exercício 5\n",
    "Crie uma função que recebe duas listas (valor e peso) e calcule a média ponderada."
   ]
  },
  {
   "cell_type": "code",
   "execution_count": null,
   "metadata": {},
   "outputs": [],
   "source": []
  },
  {
   "cell_type": "markdown",
   "metadata": {},
   "source": [
    "#### Exercício 6\n",
    "Uma classe de 30 estudantes realizaram uma prova. 26 estudantes compareceram e tiveram uma média de 65%. O restante dos alunos que não compareceram, fizeram a prova depois, e tiveram uma média de 77%. Qual foi a média da classe?"
   ]
  },
  {
   "cell_type": "code",
   "execution_count": null,
   "metadata": {},
   "outputs": [],
   "source": []
  },
  {
   "cell_type": "markdown",
   "metadata": {},
   "source": [
    "### Média geométrica\n",
    "\n",
    "A média geométrica é utilizada em dados que possuem uma relação multiplicativa. Em um conjunto de n dados, a média geométrica define-se como a raiz n-ésima da multiplicação desses dados.\n",
    "\n",
    "#### Exercício 7\n",
    "\n",
    "Crie uma função que calcule a média geométrica de uma lista de números\n"
   ]
  },
  {
   "cell_type": "code",
   "execution_count": null,
   "metadata": {},
   "outputs": [],
   "source": []
  },
  {
   "cell_type": "markdown",
   "metadata": {},
   "source": [
    "#### Exercício 8\n",
    "Suponhamos que você tenha R$100.000,00 que, aplicado durante 5 anos, sofreu os seguintes rendimentos anuais: 1%, 9%, 6%, 2%, 15%. Qual foi o rendimento médio?\n"
   ]
  },
  {
   "cell_type": "code",
   "execution_count": null,
   "metadata": {},
   "outputs": [],
   "source": []
  },
  {
   "cell_type": "markdown",
   "metadata": {},
   "source": [
    "#### Exercício 9\n",
    "\n",
    "Quatro empresas foram avaliadas em relação a sustentabilidade e viabilidade financeira como descrito no código a seguir. Quais destas empresas possuem a maior média geométrica?"
   ]
  },
  {
   "cell_type": "code",
   "execution_count": null,
   "metadata": {},
   "outputs": [],
   "source": [
    "company = { \"W\": {\"sust\":6, \"vf\":45},\n",
    "            \"X\": {\"sust\":2, \"vf\":50},\n",
    "            \"Y\": {\"sust\":3, \"vf\":81},\n",
    "            \"Z\": {\"sust\":5, \"vf\":65}}"
   ]
  },
  {
   "cell_type": "markdown",
   "metadata": {},
   "source": [
    "### Média harmônica\n",
    "\n",
    "A média harmônica de um conjunto de n dados é obtida dividindo a quantidade de dados pela soma dos inversos dos dados. Crie uma função que calcule a média harmônica."
   ]
  },
  {
   "cell_type": "code",
   "execution_count": null,
   "metadata": {},
   "outputs": [],
   "source": []
  },
  {
   "cell_type": "markdown",
   "metadata": {},
   "source": [
    "#### Exercício 9\n",
    "Considere que você saiu de casa e veio para o IMD a uma velocidade de 40km/h e voltou para casa a uma velocidade de 60km/h. Qual foi a velocidade média neste trajeto?"
   ]
  },
  {
   "cell_type": "code",
   "execution_count": null,
   "metadata": {},
   "outputs": [],
   "source": []
  }
 ],
 "metadata": {
  "kernelspec": {
   "display_name": "Python 3",
   "language": "python",
   "name": "python3"
  },
  "language_info": {
   "codemirror_mode": {
    "name": "ipython",
    "version": 3
   },
   "file_extension": ".py",
   "mimetype": "text/x-python",
   "name": "python",
   "nbconvert_exporter": "python",
   "pygments_lexer": "ipython3",
   "version": "3.6.5"
  }
 },
 "nbformat": 4,
 "nbformat_minor": 2
}
