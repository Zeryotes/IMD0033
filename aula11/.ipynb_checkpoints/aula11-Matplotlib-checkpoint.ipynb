{
 "cells": [
  {
   "cell_type": "markdown",
   "metadata": {},
   "source": [
    "# Matplotlib\n",
    "\n",
    "\"Uma imagem vale mais do que 1000 palavras\"\n",
    "\n",
    "A visualização de dados é uma área da ciência da computação que têm sido muito requisitada frente ao Big Data. Isto se dá devido a facilidade que o cérebro humano possui de processar uma figura, seja imagens ou gráficos, em relação aos dados textuais, como tabela.\n",
    "\n",
    "Neste notebook, exploraremos algumas funções do Matplotlib, um módulo do Python dedicado para geração de gráficos em 2D.\n",
    "\n",
    "A escolha desta biblioteca se dá pelo seu amplo uso dentro da comunidade de desenvolvedores em Python. A sua popularidade reflete no seu uso como base de outras bibliotecas de geração de imagem, como o Seaborn.\n",
    "\n",
    "Esta biblioteca vem junto com o pacote Anaconda. Se você não utiliza o Anaconda, ele pode ser instalado usando o seguinte comando:\n",
    "\n",
    "```\n",
    "python -mpip install -U matplotlib\n",
    "```\n",
    "\n",
    "Mais informação no site oficial: https://matplotlib.org/\n",
    "\n",
    "## Importando a biblioteca"
   ]
  },
  {
   "cell_type": "code",
   "execution_count": 1,
   "metadata": {},
   "outputs": [],
   "source": [
    "import matplotlib.pyplot as plt\n",
    "import numpy as np\n",
    "import pandas as pd"
   ]
  },
  {
   "cell_type": "markdown",
   "metadata": {},
   "source": [
    "## Importância da visualização de dados\n",
    "\n",
    "A importância de se visualizar os seus dados pode ser deduzida utilizando estes quatro pares de conjunto de dados. Calcule primeiramente a média e o desvio padrão de cada conjunto de dados, o que podemos dizer sobre estes dados?"
   ]
  },
  {
   "cell_type": "code",
   "execution_count": 3,
   "metadata": {},
   "outputs": [
    {
     "name": "stdout",
     "output_type": "stream",
     "text": [
      "9.0\n"
     ]
    }
   ],
   "source": [
    "x = np.array([10.0,8.0,13.0,9.0,11.0,14.0,6.0,4.0,12.0,7.0,5.0])\n",
    "y = np.array([8.04,6.95,7.58,8.81,8.33,9.96,7.24,4.26,10.84,4.82,5.68])\n",
    "\n",
    "print(x.mean())"
   ]
  },
  {
   "cell_type": "code",
   "execution_count": null,
   "metadata": {},
   "outputs": [],
   "source": [
    "x = np.array([10.0,8.0,13.0,9.0,11.0,14.0,6.0,4.0,12.0,7.0,5.0])\n",
    "y = np.array([9.14,8.14,8.74,8.77,9.26,8.10,6.13,3.10,9.13,7.26,4.74])"
   ]
  },
  {
   "cell_type": "code",
   "execution_count": null,
   "metadata": {},
   "outputs": [],
   "source": [
    "x = np.array([10.0,8.0,13.0,9.0,11.0,14.0,6.0,4.0,12.0,7.0,5.0])\n",
    "y = np.array([7.46,6.77,12.74,7.11,7.81,8.84,6.08,5.39,8.15,6.42,5.73])"
   ]
  },
  {
   "cell_type": "code",
   "execution_count": null,
   "metadata": {},
   "outputs": [],
   "source": [
    "x = np.array([8.0,8.0,8.0,8.0,8.0,8.0,8.0,19.0,8.0,8.0,8.0])\n",
    "y = np.array([6.58,5.76,7.71,8.84,8.47,7.04,5.25,12.50,5.56,7.91,6.89])"
   ]
  },
  {
   "cell_type": "markdown",
   "metadata": {},
   "source": [
    "## Gerando um gráfico de dispersão simples\n"
   ]
  },
  {
   "cell_type": "code",
   "execution_count": null,
   "metadata": {},
   "outputs": [],
   "source": [
    "x = [1,2,3] # valores do eixo X\n",
    "y = [1,4,9] # valores do eixo Y\n",
    "plt.scatter(x,y, label=\"y\")\n",
    "plt.title(\"teste\")\n",
    "plt.xlabel(\"x\")\n",
    "plt.ylabel(\"y\")\n",
    "plt.legend()\n",
    "plt.grid()\n",
    "plt.show()"
   ]
  },
  {
   "cell_type": "markdown",
   "metadata": {},
   "source": [
    "### Exercício\n",
    "Volte para as células contendo os quatro conjuntos de dados e plote um gráfico de dispersão para cada uma delas. "
   ]
  },
  {
   "cell_type": "markdown",
   "metadata": {},
   "source": [
    "## Gerando um gráfico de linha simples"
   ]
  },
  {
   "cell_type": "code",
   "execution_count": null,
   "metadata": {},
   "outputs": [],
   "source": [
    "x = [1,2,3] # valores do eixo X\n",
    "y = [1,4,9] # valores do eixo Y\n",
    "plt.plot(x,y, label=\"y\")\n",
    "plt.title(\"teste\")\n",
    "plt.xlabel(\"x\")\n",
    "plt.ylabel(\"y\")\n",
    "plt.legend()\n",
    "plt.grid()\n",
    "plt.show()"
   ]
  },
  {
   "cell_type": "markdown",
   "metadata": {},
   "source": [
    "## Gerando um gráfico com múltiplas linhas"
   ]
  },
  {
   "cell_type": "code",
   "execution_count": null,
   "metadata": {},
   "outputs": [],
   "source": [
    "x = [1,2,3]\n",
    "y = [1,4,9]\n",
    "z = [5,3,5]\n",
    "plt.plot(x,y, label=\"y\")\n",
    "plt.plot(x,z, label=\"z\")\n",
    "plt.title(\"teste\")\n",
    "plt.xlabel(\"x\")\n",
    "plt.ylabel(\"y e z\")\n",
    "plt.legend()\n",
    "plt.grid()\n",
    "plt.show()"
   ]
  },
  {
   "cell_type": "markdown",
   "metadata": {},
   "source": [
    "## Customizando o gráfico\n",
    "Mais informações [aqui](https://matplotlib.org/2.2.2/api/_as_gen/matplotlib.pyplot.plot.html):"
   ]
  },
  {
   "cell_type": "code",
   "execution_count": null,
   "metadata": {
    "scrolled": false
   },
   "outputs": [],
   "source": [
    "x = [1,2,3]\n",
    "y = [1,4,9]\n",
    "z = [5,3,5]\n",
    "plt.plot(x,y, 'r--o', label=\"y\")\n",
    "plt.plot(x,z, 'd-.g', label=\"z\")\n",
    "plt.title(\"teste\")\n",
    "plt.xlabel(\"x\")\n",
    "plt.ylabel(\"y e z\")\n",
    "plt.legend()\n",
    "plt.show()"
   ]
  },
  {
   "cell_type": "code",
   "execution_count": null,
   "metadata": {},
   "outputs": [],
   "source": [
    "x = [1,2,3]\n",
    "y = [1,4,9]\n",
    "z = [5,3,5]\n",
    "plt.plot(x,y, color=\"red\", linestyle=\"--\", marker=\"o\", label=\"y\")\n",
    "plt.plot(x,z, marker=\"d\", linestyle=\"-.\", color=\"green\", label=\"z\")\n",
    "plt.title(\"teste\")\n",
    "plt.xlabel(\"x\")\n",
    "plt.ylabel(\"y e z\")\n",
    "plt.legend()\n",
    "plt.show()"
   ]
  },
  {
   "cell_type": "markdown",
   "metadata": {},
   "source": [
    "## Gráfico de barras\n",
    "Mais informação [aqui](https://matplotlib.org/2.2.2/api/_as_gen/matplotlib.pyplot.bar.html)."
   ]
  },
  {
   "cell_type": "code",
   "execution_count": null,
   "metadata": {
    "scrolled": true
   },
   "outputs": [],
   "source": [
    "x = np.array([1,2,3,4,5])\n",
    "y = [4,6,2,7,5]\n",
    "plt.bar(x, y, label='bar1')\n",
    "plt.xlabel(\"x\")\n",
    "plt.ylabel(\"y\")\n",
    "plt.title(\"bar test\")\n",
    "plt.legend()\n",
    "plt.show()"
   ]
  },
  {
   "cell_type": "code",
   "execution_count": null,
   "metadata": {},
   "outputs": [],
   "source": [
    "labels = [\"segunda\", \"terça\", \"quarta\", \"quinta\", \"sexta\"]\n",
    "y = [4,6,2,7,5]\n",
    "plt.bar(labels, y, label='bar1')\n",
    "plt.xlabel(\"x\")\n",
    "plt.ylabel(\"y\")\n",
    "plt.title(\"bar test\")\n",
    "plt.legend()\n",
    "plt.show()"
   ]
  },
  {
   "cell_type": "markdown",
   "metadata": {},
   "source": [
    "# Gráfico de barras com dois conjuntos de dados"
   ]
  },
  {
   "cell_type": "code",
   "execution_count": null,
   "metadata": {
    "scrolled": false
   },
   "outputs": [],
   "source": [
    "x = np.array([1,2,3,4,5])\n",
    "y = [4,6,2,7,5]\n",
    "z = [5,8,3,5,4]\n",
    "plt.bar(x*2, y, label='bar1')\n",
    "plt.bar(x*2+0.8, z, label='bar2', color=\"g\")\n",
    "plt.xlabel(\"x\")\n",
    "plt.ylabel(\"y\")\n",
    "plt.title(\"bar test\")\n",
    "plt.legend()\n",
    "plt.show()"
   ]
  },
  {
   "cell_type": "markdown",
   "metadata": {},
   "source": [
    "## Histogramas\n",
    "Mais informação [aqui](https://matplotlib.org/2.2.2/api/_as_gen/matplotlib.pyplot.hist.html)"
   ]
  },
  {
   "cell_type": "code",
   "execution_count": null,
   "metadata": {},
   "outputs": [],
   "source": [
    "x = np.array([1,3,5,1,1,1,2,3,4,5,3,4,3,4,5,3,3,4,2,3,4,5,4,3,4,4,3,3,3,5,5])\n",
    "bins = np.arange(1,7)\n",
    "plt.hist(x, bins, rwidth=0.9) \n",
    "plt.show()"
   ]
  },
  {
   "cell_type": "markdown",
   "metadata": {},
   "source": [
    "Exemplo com simulação de jogadas de dado:"
   ]
  },
  {
   "cell_type": "code",
   "execution_count": null,
   "metadata": {},
   "outputs": [],
   "source": [
    "dice = np.random.randint(1,7,10) # simula jogada de dados\n",
    "bins = [1,2,3,4,5,6,7]\n",
    "\n",
    "plt.hist(dice, bins, rwidth= 0.9)\n",
    "plt.show()"
   ]
  },
  {
   "cell_type": "markdown",
   "metadata": {},
   "source": [
    "## Exercícios\n",
    "\n",
    "### Questão 1 \n",
    "O código abaixo cria duas listas (dice1 e dice2) simulando jogadas de dois dados repetindo 1000 vezes. A partir destes dados, construa um histograma que ilustre o número de vezes que cada valor somado dos dois dados ocorreu nesta simulação."
   ]
  },
  {
   "cell_type": "code",
   "execution_count": null,
   "metadata": {},
   "outputs": [],
   "source": [
    "# Crie o seu código aqui:\n",
    "dice1 = np.random.randint(1,7,1000)\n",
    "dice2 = np.random.randint(1,7,1000)"
   ]
  },
  {
   "cell_type": "markdown",
   "metadata": {},
   "source": [
    "### Questão 2\n",
    "O arquivo \"japan_birth.tab\" contém dados de quantos bebês nasceram no Japão em cada mês ao longo dos anos. A descrição de cada coluna se encontra a seguir:\n",
    "1. ano\n",
    "2. mês\n",
    "3. número de nascimento\n",
    "\n",
    "A partir destes dados, plote um gráfico que permita você conseguir verificar se existe algum mês que nasceram mais bebês no Japão."
   ]
  },
  {
   "cell_type": "code",
   "execution_count": null,
   "metadata": {},
   "outputs": [],
   "source": [
    "# Crie o seu código aqui:"
   ]
  },
  {
   "cell_type": "code",
   "execution_count": null,
   "metadata": {},
   "outputs": [],
   "source": []
  }
 ],
 "metadata": {
  "kernelspec": {
   "display_name": "Python 3",
   "language": "python",
   "name": "python3"
  },
  "language_info": {
   "codemirror_mode": {
    "name": "ipython",
    "version": 3
   },
   "file_extension": ".py",
   "mimetype": "text/x-python",
   "name": "python",
   "nbconvert_exporter": "python",
   "pygments_lexer": "ipython3",
   "version": "3.7.1"
  }
 },
 "nbformat": 4,
 "nbformat_minor": 2
}
