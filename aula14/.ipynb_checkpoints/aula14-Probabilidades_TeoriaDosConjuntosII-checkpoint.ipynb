{
 "cells": [
  {
   "cell_type": "markdown",
   "metadata": {},
   "source": [
    "# Probabilidade\n",
    "\n",
    "## Conjuntos em Python"
   ]
  },
  {
   "cell_type": "markdown",
   "metadata": {},
   "source": [
    "### Definindo os conjuntos em Python\n",
    "\n",
    "No Python existe uma variável especial que pode ser utilizado para definir os conjuntos. Este seria o <i>set</i>, que pode ser declarado colocando os elementos entre chaves ou usando a função set() como abaixo:"
   ]
  },
  {
   "cell_type": "code",
   "execution_count": null,
   "metadata": {},
   "outputs": [],
   "source": [
    "set1 = { 1, 2 }\n",
    "print(set1)\n",
    "\n",
    "set2 = set([\"A\", \"B\"])\n",
    "print(set2)"
   ]
  },
  {
   "cell_type": "markdown",
   "metadata": {},
   "source": [
    "Perceba que em um conjunto em Python nem a ordem e nem a repetição importa."
   ]
  },
  {
   "cell_type": "code",
   "execution_count": null,
   "metadata": {},
   "outputs": [],
   "source": [
    "set3 = { 10, 2, 2, 5, 2, 3 }\n",
    "print(set3)"
   ]
  },
  {
   "cell_type": "markdown",
   "metadata": {},
   "source": [
    "Se, em um experimento, a ordem ou a repetição importa, você pode trabalhar com tuplas ou listas:"
   ]
  },
  {
   "cell_type": "code",
   "execution_count": null,
   "metadata": {},
   "outputs": [],
   "source": [
    "alist = [10, 2, 2, 5, 2, 3]\n",
    "print(alist)\n",
    "atuple = (10, 2, 2, 5, 2, 3)\n",
    "print(atuple)\n",
    "atuple2 = tuple(alist)\n",
    "print(atuple2)"
   ]
  },
  {
   "cell_type": "markdown",
   "metadata": {},
   "source": [
    "#### Conjunto vazio\n",
    "Para definir um conjunto vazio, utilize a função set() como abaixo. \n",
    "\n",
    "Observação: chaves vazios não gera um conjunto vazio, e sim um dicionário vazio."
   ]
  },
  {
   "cell_type": "code",
   "execution_count": null,
   "metadata": {},
   "outputs": [],
   "source": [
    "empty1 = set()\n",
    "print(empty1)\n",
    "\n",
    "empty2 = set([])\n",
    "print(empty2)\n",
    "\n",
    "notAset = {}\n",
    "print(type(notAset))"
   ]
  },
  {
   "cell_type": "markdown",
   "metadata": {},
   "source": [
    "### Relação de pertinência\n",
    "Utilize os operadores lógicos <i>in</i> para verificar se um elemento pertence a um conjunto. "
   ]
  },
  {
   "cell_type": "code",
   "execution_count": null,
   "metadata": {},
   "outputs": [],
   "source": [
    "sala = { \"mesa\", \"cadeira\", \"sofa\" }\n",
    "print(\"mesa\" in sala)\n",
    "print(\"panela\" in sala)\n",
    "print(\"panela\" not in sala)"
   ]
  },
  {
   "cell_type": "markdown",
   "metadata": {},
   "source": [
    "### Testar se o conjunto é vazio\n",
    "Você pode testar se o conjunto é vazio de duas formas, (1) usando o <i>not</i>, (2) verificando o tamanho do conjunto:"
   ]
  },
  {
   "cell_type": "code",
   "execution_count": null,
   "metadata": {},
   "outputs": [],
   "source": [
    "S = set()\n",
    "print(not S)"
   ]
  },
  {
   "cell_type": "code",
   "execution_count": null,
   "metadata": {},
   "outputs": [],
   "source": [
    "S = set()\n",
    "print(len(S) == 0)"
   ]
  },
  {
   "cell_type": "markdown",
   "metadata": {},
   "source": [
    "### Intervalos de inteiros\n",
    "Você pode obter um conjunto de inteiros em um intervalo utilizando a função range().\n",
    "\n",
    "Por exemplo, se quisermos obter $ \\{x \\in \\mathbb{Z}\\ |\\ 0 \\leq x \\leq n \\}$:"
   ]
  },
  {
   "cell_type": "code",
   "execution_count": null,
   "metadata": {},
   "outputs": [],
   "source": [
    "n = 10\n",
    "set(range(n+1))"
   ]
  },
  {
   "cell_type": "markdown",
   "metadata": {},
   "source": [
    "Para $ \\{x \\in \\mathbb{Z}\\ |\\ m \\leq x \\leq n \\}$:"
   ]
  },
  {
   "cell_type": "code",
   "execution_count": null,
   "metadata": {},
   "outputs": [],
   "source": [
    "m = 2\n",
    "n = 10\n",
    "set(range(m,n+1))"
   ]
  },
  {
   "cell_type": "markdown",
   "metadata": {},
   "source": [
    "Para um conjunto contendo elementos múltiplos de 2:"
   ]
  },
  {
   "cell_type": "code",
   "execution_count": null,
   "metadata": {},
   "outputs": [],
   "source": [
    "m = 2\n",
    "n = 10\n",
    "set(range(m,n+1,2))"
   ]
  },
  {
   "cell_type": "markdown",
   "metadata": {},
   "source": [
    "### Visualização de conjuntos\n",
    "A visualização dos conjuntos pode ser realizado através do diagrama de Venn. O matplotlib fornece uma biblioteca para gerar diagramas de Venn como segue abaixo:"
   ]
  },
  {
   "cell_type": "code",
   "execution_count": null,
   "metadata": {},
   "outputs": [],
   "source": [
    "import matplotlib.pyplot as plt\n",
    "import matplotlib_venn as venn\n",
    "\n",
    "A = set({0,1,2})\n",
    "B = set({1,2,3})\n",
    "venn.venn2([A, B], set_labels=(\"A\",\"B\"))\n",
    "plt.show()"
   ]
  },
  {
   "cell_type": "markdown",
   "metadata": {},
   "source": [
    "Pode ser que o matplotlib_venn não esteja instalado no seu computador. Para instalar, utilize os seguintes comandos no seu terminal:\n",
    "```\n",
    "conda config --add channels conda-forge\n",
    "conda config --add channels defaults\n",
    "conda config --add channels r\n",
    "conda config --add channels bioconda\n",
    "\n",
    "conda install matplotlib-venn\n",
    "```"
   ]
  },
  {
   "cell_type": "markdown",
   "metadata": {},
   "source": [
    "#### Exercício 1\n",
    "Crie um conjunto A que contenha múltiplos de 3 e um conjunto B que contenha múltiplos de 5 em um intervalo de 0 a 100.\n",
    "\n",
    " "
   ]
  },
  {
   "cell_type": "code",
   "execution_count": null,
   "metadata": {},
   "outputs": [],
   "source": []
  },
  {
   "cell_type": "markdown",
   "metadata": {},
   "source": [
    "### Relação entre dois conjuntos\n",
    "Considere os seguintes conjuntos:\n"
   ]
  },
  {
   "cell_type": "code",
   "execution_count": null,
   "metadata": {},
   "outputs": [],
   "source": [
    "set1 = { 0, 1 }\n",
    "set2 = { 1, 0, 1 }\n",
    "set3 = { 4, 2 }\n",
    "set4 = {0, 1, 2}\n"
   ]
  },
  {
   "cell_type": "markdown",
   "metadata": {},
   "source": [
    "#### Igualdade (==)"
   ]
  },
  {
   "cell_type": "code",
   "execution_count": null,
   "metadata": {},
   "outputs": [],
   "source": [
    "print(set1 == set2)\n",
    "print(set1 == set3)\n",
    "print(set1 == set4)"
   ]
  },
  {
   "cell_type": "markdown",
   "metadata": {},
   "source": [
    "#### Desigualdade (!=)"
   ]
  },
  {
   "cell_type": "code",
   "execution_count": null,
   "metadata": {},
   "outputs": [],
   "source": [
    "print(set1 != set2)\n",
    "print(set1 != set3)\n",
    "print(set1 != set4)"
   ]
  },
  {
   "cell_type": "markdown",
   "metadata": {},
   "source": [
    "#### Conjuntos disjuntos (isdisjoint())\n",
    "Ou mutuamente exclusivo."
   ]
  },
  {
   "cell_type": "code",
   "execution_count": null,
   "metadata": {},
   "outputs": [],
   "source": [
    "print(set1.isdisjoint(set2))\n",
    "print(set1.isdisjoint(set3))"
   ]
  },
  {
   "cell_type": "markdown",
   "metadata": {},
   "source": [
    "#### Subconjunto (<=)"
   ]
  },
  {
   "cell_type": "code",
   "execution_count": null,
   "metadata": {},
   "outputs": [],
   "source": [
    "print(set1 <= set2)\n",
    "print(set1 <= set3)\n",
    "print(set1 <= set4)"
   ]
  },
  {
   "cell_type": "markdown",
   "metadata": {},
   "source": [
    "#### Superconjunto (>=)"
   ]
  },
  {
   "cell_type": "code",
   "execution_count": null,
   "metadata": {},
   "outputs": [],
   "source": [
    "print(set1 >= set2)\n",
    "print(set1 >= set3)\n",
    "print(set1 >= set4)"
   ]
  },
  {
   "cell_type": "markdown",
   "metadata": {},
   "source": [
    "#### Subconjunto estrito (<)"
   ]
  },
  {
   "cell_type": "code",
   "execution_count": null,
   "metadata": {},
   "outputs": [],
   "source": [
    "print(set1 < set2)\n",
    "print(set1 < set3)\n",
    "print(set1 < set4)"
   ]
  },
  {
   "cell_type": "markdown",
   "metadata": {},
   "source": [
    "#### Superconjunto estrito (>)"
   ]
  },
  {
   "cell_type": "code",
   "execution_count": null,
   "metadata": {},
   "outputs": [],
   "source": [
    "print(set1 > set2)\n",
    "print(set1 > set3)\n",
    "print(set1 > set4)\n",
    "print(set4 > set1)"
   ]
  },
  {
   "cell_type": "markdown",
   "metadata": {},
   "source": [
    "### Operações aplicadas em um conjunto\n",
    "Considere os seguintes conjuntos:"
   ]
  },
  {
   "cell_type": "code",
   "execution_count": null,
   "metadata": {},
   "outputs": [],
   "source": [
    "A = { 1, 2 }\n",
    "B = { 2, 3 }"
   ]
  },
  {
   "cell_type": "markdown",
   "metadata": {},
   "source": [
    "#### União (|)"
   ]
  },
  {
   "cell_type": "code",
   "execution_count": null,
   "metadata": {},
   "outputs": [],
   "source": [
    "print(A | B)\n",
    "\n",
    "print(A.union(B))"
   ]
  },
  {
   "cell_type": "markdown",
   "metadata": {},
   "source": [
    "#### Interseção (&)"
   ]
  },
  {
   "cell_type": "code",
   "execution_count": null,
   "metadata": {},
   "outputs": [],
   "source": [
    "print(A & B)\n",
    "\n",
    "print(A.intersection(B))"
   ]
  },
  {
   "cell_type": "markdown",
   "metadata": {},
   "source": [
    "#### Diferença (-)"
   ]
  },
  {
   "cell_type": "code",
   "execution_count": null,
   "metadata": {},
   "outputs": [],
   "source": [
    "print(A - B)\n",
    "\n",
    "print(A.difference(B))"
   ]
  },
  {
   "cell_type": "markdown",
   "metadata": {},
   "source": [
    "#### Subtração simétrica (^)"
   ]
  },
  {
   "cell_type": "code",
   "execution_count": null,
   "metadata": {},
   "outputs": [],
   "source": [
    "print(A ^ B)\n",
    "\n",
    "print(A.symmetric_difference(B))"
   ]
  },
  {
   "cell_type": "markdown",
   "metadata": {},
   "source": [
    "#### Exercício 2\n",
    "\n",
    "Utilize os conjuntos gerados no exercício 1 e verifique quantos são múltiplos de 3 e 5."
   ]
  },
  {
   "cell_type": "code",
   "execution_count": null,
   "metadata": {},
   "outputs": [],
   "source": []
  },
  {
   "cell_type": "markdown",
   "metadata": {},
   "source": [
    "#### Exercício 3\n",
    "\n",
    "Considere os seguintes conjuntos:"
   ]
  },
  {
   "cell_type": "code",
   "execution_count": null,
   "metadata": {},
   "outputs": [],
   "source": [
    "# conjunto universo\n",
    "O = set(range(100))\n",
    "\n",
    "# conjunto A e B\n",
    "setA = set({3,62,91,47,21,28,88,98,57,32,89,17,92})\n",
    "setB = set({3,75,44,46,91,63,62,91,47,21,28,88,98,57,98,98,32,89,17,92,49,8,73,4,48,3,15,69,53,14,90,83,23,17,95,67,28,29,48,5})"
   ]
  },
  {
   "cell_type": "markdown",
   "metadata": {},
   "source": [
    "Responda:\n",
    "\n",
    "a) A é um subconjunto de B?"
   ]
  },
  {
   "cell_type": "code",
   "execution_count": null,
   "metadata": {},
   "outputs": [],
   "source": []
  },
  {
   "cell_type": "markdown",
   "metadata": {},
   "source": [
    "b) Qual é o complemento de A?"
   ]
  },
  {
   "cell_type": "code",
   "execution_count": null,
   "metadata": {},
   "outputs": [],
   "source": []
  },
  {
   "cell_type": "markdown",
   "metadata": {},
   "source": [
    "c) Verifique se a seguinte expressão está correta: se $A \\subseteq B$, então $A^c \\supseteq B^c$"
   ]
  },
  {
   "cell_type": "code",
   "execution_count": null,
   "metadata": {},
   "outputs": [],
   "source": []
  },
  {
   "cell_type": "markdown",
   "metadata": {},
   "source": [
    "#### Exercício 4\n",
    "\n",
    "Considere os seguintes conjuntos:"
   ]
  },
  {
   "cell_type": "code",
   "execution_count": null,
   "metadata": {},
   "outputs": [],
   "source": [
    "# conjunto universo\n",
    "O = set(range(100))\n",
    "\n",
    "# conjuntos A, B e C\n",
    "A = set({35,62,8,65,86,40,11,90,48,41,23,23,5,50,50,19,2,81,91,80,14,93,25,85,19,8,44,95,32,10,22,98,51,12,77,53,49,5,58,49})\n",
    "B = set({16,77,6,93,45,71,96,48,55,99,74,50,22,62,98,78,85,88,18,34,96,20,12,50,78})\n",
    "C = set({20,66,17,58,90,44,71,31,19,56,86,28,61,82,91,26,43,44,49,82,31,15,5,89,77,52,47,65,18,84,39,42,29,9})\n",
    "\n",
    "venn.venn3([A,B,C])\n",
    "plt.plot()"
   ]
  },
  {
   "cell_type": "markdown",
   "metadata": {},
   "source": [
    "Determine:\n",
    "\n",
    "a) $A \\cup B \\cup C$"
   ]
  },
  {
   "cell_type": "code",
   "execution_count": null,
   "metadata": {},
   "outputs": [],
   "source": []
  },
  {
   "cell_type": "markdown",
   "metadata": {},
   "source": [
    "b) $A \\cap B \\cap C$"
   ]
  },
  {
   "cell_type": "code",
   "execution_count": null,
   "metadata": {},
   "outputs": [],
   "source": []
  },
  {
   "cell_type": "markdown",
   "metadata": {},
   "source": [
    "c) $A^c \\cap B^c \\cap C^c$"
   ]
  },
  {
   "cell_type": "code",
   "execution_count": null,
   "metadata": {},
   "outputs": [],
   "source": []
  },
  {
   "cell_type": "markdown",
   "metadata": {},
   "source": [
    "d) se existe algum par de conjuntos que sejam disjuntos"
   ]
  },
  {
   "cell_type": "code",
   "execution_count": null,
   "metadata": {},
   "outputs": [],
   "source": []
  },
  {
   "cell_type": "markdown",
   "metadata": {},
   "source": [
    "e) a subtração simétrica dos três conjuntos."
   ]
  },
  {
   "cell_type": "code",
   "execution_count": null,
   "metadata": {},
   "outputs": [],
   "source": []
  },
  {
   "cell_type": "markdown",
   "metadata": {},
   "source": [
    "#### Exercício 5\n",
    "\n",
    "Considerando os mesmos conjuntos do exercício 3, determine os seguintes conjuntos:\n",
    "\n",
    "a) $A \\cap B$"
   ]
  },
  {
   "cell_type": "code",
   "execution_count": null,
   "metadata": {},
   "outputs": [],
   "source": []
  },
  {
   "cell_type": "markdown",
   "metadata": {},
   "source": [
    "b) $(A \\cap B) \\cap C$"
   ]
  },
  {
   "cell_type": "code",
   "execution_count": null,
   "metadata": {},
   "outputs": [],
   "source": []
  },
  {
   "cell_type": "markdown",
   "metadata": {},
   "source": [
    "c) $A \\cap (B \\cup C)$"
   ]
  },
  {
   "cell_type": "code",
   "execution_count": null,
   "metadata": {},
   "outputs": [],
   "source": []
  },
  {
   "cell_type": "markdown",
   "metadata": {},
   "source": [
    "d) $(A \\cap B)^c$"
   ]
  },
  {
   "cell_type": "code",
   "execution_count": null,
   "metadata": {},
   "outputs": [],
   "source": []
  },
  {
   "cell_type": "markdown",
   "metadata": {},
   "source": [
    "#### Exercício 5\n",
    "\n",
    "Determine a quais conjuntos do exercício anterior correspondem aos seguintes conjuntos:\n",
    "\n",
    "a) $A^c \\cup B^c$"
   ]
  },
  {
   "cell_type": "markdown",
   "metadata": {},
   "source": [
    "Resposta: "
   ]
  },
  {
   "cell_type": "markdown",
   "metadata": {},
   "source": [
    "b) $(B \\cap C) \\cap A$"
   ]
  },
  {
   "cell_type": "markdown",
   "metadata": {},
   "source": [
    "Resposta: "
   ]
  },
  {
   "cell_type": "markdown",
   "metadata": {},
   "source": [
    "c) $B \\cap A$"
   ]
  },
  {
   "cell_type": "markdown",
   "metadata": {},
   "source": [
    "Resposta:"
   ]
  },
  {
   "cell_type": "markdown",
   "metadata": {},
   "source": [
    "d) $(A \\cap B) \\cup (A \\cap C)$"
   ]
  },
  {
   "cell_type": "markdown",
   "metadata": {},
   "source": [
    "Resposta: "
   ]
  },
  {
   "cell_type": "markdown",
   "metadata": {},
   "source": [
    "#### Exercício 6\n",
    "\n",
    "Considere os dados populacionais presentes no arquivo <i>data.csv</i>:"
   ]
  },
  {
   "cell_type": "code",
   "execution_count": null,
   "metadata": {},
   "outputs": [],
   "source": [
    "import pandas as pd\n",
    "\n",
    "data = pd.read_csv('data.csv', thousands = \" \", skiprows = [1])\n",
    "data.columns = ['country', 'popT', 'pop15', 'pop60', 'fert']\n",
    "data.head()"
   ]
  },
  {
   "cell_type": "markdown",
   "metadata": {},
   "source": [
    "a) Se eu pegar um país aleatório desta lista, qual será a probabilidade de eu pegar um país que tenha uma população menor que 800 mil habitantes? Obs.: Os valores da coluna \"popT\" estão em milhares."
   ]
  },
  {
   "cell_type": "code",
   "execution_count": null,
   "metadata": {},
   "outputs": [],
   "source": []
  },
  {
   "cell_type": "markdown",
   "metadata": {},
   "source": [
    "b) Se eu pegar um país aleatório desta lista, qual será a probabilidade de eu pegar um país que tenha uma porcentagem da população abaixo dos 15 anos menor 20%? Obs.: os valores da coluna \"popT15\" estão porcentagem."
   ]
  },
  {
   "cell_type": "code",
   "execution_count": null,
   "metadata": {},
   "outputs": [],
   "source": []
  },
  {
   "cell_type": "markdown",
   "metadata": {},
   "source": [
    "c) Se eu pegar um país aleatório desta lista, qual será a probabilidade de eu pegar um país que tenha uma população menor que 800 mil habitantes <b>ou</b> a porcentagem da população abaixo dos 15 anos menor 20%?"
   ]
  },
  {
   "cell_type": "code",
   "execution_count": null,
   "metadata": {},
   "outputs": [],
   "source": []
  },
  {
   "cell_type": "markdown",
   "metadata": {},
   "source": [
    "d) Se eu pegar um país aleatório desta lista, qual será a probabilidade de eu pegar um país que tenha uma população menor que 800 mil habitantes <b>e</b> a porcentagem da população abaixo dos 15 anos menor 20%?"
   ]
  },
  {
   "cell_type": "code",
   "execution_count": null,
   "metadata": {},
   "outputs": [],
   "source": []
  },
  {
   "cell_type": "code",
   "execution_count": null,
   "metadata": {},
   "outputs": [],
   "source": []
  }
 ],
 "metadata": {
  "kernelspec": {
   "display_name": "Python 3",
   "language": "python",
   "name": "python3"
  },
  "language_info": {
   "codemirror_mode": {
    "name": "ipython",
    "version": 3
   },
   "file_extension": ".py",
   "mimetype": "text/x-python",
   "name": "python",
   "nbconvert_exporter": "python",
   "pygments_lexer": "ipython3",
   "version": "3.7.1"
  }
 },
 "nbformat": 4,
 "nbformat_minor": 2
}
