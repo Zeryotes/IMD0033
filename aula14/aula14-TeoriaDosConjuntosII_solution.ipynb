{
 "cells": [
  {
   "cell_type": "markdown",
   "metadata": {},
   "source": [
    "# Probabilidade\n",
    "\n",
    "## Conjuntos em Python"
   ]
  },
  {
   "cell_type": "markdown",
   "metadata": {},
   "source": [
    "### Definindo os conjuntos em Python\n",
    "\n",
    "No Python existe uma variável especial que pode ser utilizado para definir os conjuntos. Este seria o <i>set</i>, que pode ser declarado colocando os elementos entre chaves ou usando a função set() como abaixo:"
   ]
  },
  {
   "cell_type": "code",
   "execution_count": 1,
   "metadata": {},
   "outputs": [
    {
     "name": "stdout",
     "output_type": "stream",
     "text": [
      "{1, 2}\n",
      "{'A', 'B'}\n"
     ]
    }
   ],
   "source": [
    "set1 = { 1, 2 }\n",
    "print(set1)\n",
    "\n",
    "set2 = set([\"A\", \"B\"])\n",
    "print(set2)"
   ]
  },
  {
   "cell_type": "markdown",
   "metadata": {},
   "source": [
    "Perceba que em um conjunto em Python nem a ordem e nem a repetição importa."
   ]
  },
  {
   "cell_type": "code",
   "execution_count": 2,
   "metadata": {},
   "outputs": [
    {
     "name": "stdout",
     "output_type": "stream",
     "text": [
      "{3, 10, 2, 5}\n"
     ]
    }
   ],
   "source": [
    "set3 = { 10, 2, 2, 5, 2, 3 }\n",
    "print(set3)"
   ]
  },
  {
   "cell_type": "markdown",
   "metadata": {},
   "source": [
    "Se, em um experimento, a ordem ou a repetição importa, você pode trabalhar com tuplas ou listas:"
   ]
  },
  {
   "cell_type": "code",
   "execution_count": 3,
   "metadata": {},
   "outputs": [
    {
     "name": "stdout",
     "output_type": "stream",
     "text": [
      "[10, 2, 2, 5, 2, 3]\n",
      "(10, 2, 2, 5, 2, 3)\n",
      "(10, 2, 2, 5, 2, 3)\n"
     ]
    }
   ],
   "source": [
    "alist = [10, 2, 2, 5, 2, 3]\n",
    "print(alist)\n",
    "atuple = (10, 2, 2, 5, 2, 3)\n",
    "print(atuple)\n",
    "atuple2 = tuple(alist)\n",
    "print(atuple2)"
   ]
  },
  {
   "cell_type": "markdown",
   "metadata": {},
   "source": [
    "#### Conjunto vazio\n",
    "Para definir um conjunto vazio, utilize a função set() como abaixo. \n",
    "\n",
    "Observação: chaves vazios não gera um conjunto vazio, e sim um dicionário vazio."
   ]
  },
  {
   "cell_type": "code",
   "execution_count": 4,
   "metadata": {},
   "outputs": [
    {
     "name": "stdout",
     "output_type": "stream",
     "text": [
      "set()\n",
      "set()\n",
      "<class 'dict'>\n"
     ]
    }
   ],
   "source": [
    "empty1 = set()\n",
    "print(empty1)\n",
    "\n",
    "empty2 = set([])\n",
    "print(empty2)\n",
    "\n",
    "notAset = {}\n",
    "print(type(notAset))"
   ]
  },
  {
   "cell_type": "markdown",
   "metadata": {},
   "source": [
    "### Relação de pertinência\n",
    "Utilize os operadores lógicos <i>in</i> para verificar se um elemento pertence a um conjunto. "
   ]
  },
  {
   "cell_type": "code",
   "execution_count": 5,
   "metadata": {},
   "outputs": [
    {
     "name": "stdout",
     "output_type": "stream",
     "text": [
      "True\n",
      "False\n",
      "True\n"
     ]
    }
   ],
   "source": [
    "sala = { \"mesa\", \"cadeira\", \"sofa\" }\n",
    "print(\"mesa\" in sala)\n",
    "print(\"panela\" in sala)\n",
    "print(\"panela\" not in sala)"
   ]
  },
  {
   "cell_type": "markdown",
   "metadata": {},
   "source": [
    "### Testar se o conjunto é vazio\n",
    "Você pode testar se o conjunto é vazio de duas formas, (1) usando o <i>not</i>, (2) verificando o tamanho do conjunto:"
   ]
  },
  {
   "cell_type": "code",
   "execution_count": 6,
   "metadata": {},
   "outputs": [
    {
     "name": "stdout",
     "output_type": "stream",
     "text": [
      "True\n"
     ]
    }
   ],
   "source": [
    "S = set()\n",
    "print(not S)"
   ]
  },
  {
   "cell_type": "code",
   "execution_count": 7,
   "metadata": {},
   "outputs": [
    {
     "name": "stdout",
     "output_type": "stream",
     "text": [
      "True\n"
     ]
    }
   ],
   "source": [
    "S = set()\n",
    "print(len(S) == 0)"
   ]
  },
  {
   "cell_type": "markdown",
   "metadata": {},
   "source": [
    "### Intervalos de inteiros\n",
    "Você pode obter um conjunto de inteiros em um intervalo utilizando a função range().\n",
    "\n",
    "Por exemplo, se quisermos obter $ \\{x \\in \\mathbb{Z}\\ |\\ 0 \\leq x \\leq n \\}$:"
   ]
  },
  {
   "cell_type": "code",
   "execution_count": 8,
   "metadata": {},
   "outputs": [
    {
     "data": {
      "text/plain": [
       "{0, 1, 2, 3, 4, 5, 6, 7, 8, 9, 10}"
      ]
     },
     "execution_count": 8,
     "metadata": {},
     "output_type": "execute_result"
    }
   ],
   "source": [
    "n = 10\n",
    "set(range(n+1))"
   ]
  },
  {
   "cell_type": "markdown",
   "metadata": {},
   "source": [
    "Para $ \\{x \\in \\mathbb{Z}\\ |\\ m \\leq x \\leq n \\}$:"
   ]
  },
  {
   "cell_type": "code",
   "execution_count": 9,
   "metadata": {},
   "outputs": [
    {
     "data": {
      "text/plain": [
       "{2, 3, 4, 5, 6, 7, 8, 9, 10}"
      ]
     },
     "execution_count": 9,
     "metadata": {},
     "output_type": "execute_result"
    }
   ],
   "source": [
    "m = 2\n",
    "n = 10\n",
    "set(range(m,n+1))"
   ]
  },
  {
   "cell_type": "markdown",
   "metadata": {},
   "source": [
    "Para um conjunto contendo elementos múltiplos de 2:"
   ]
  },
  {
   "cell_type": "code",
   "execution_count": 10,
   "metadata": {},
   "outputs": [
    {
     "data": {
      "text/plain": [
       "{2, 4, 6, 8, 10}"
      ]
     },
     "execution_count": 10,
     "metadata": {},
     "output_type": "execute_result"
    }
   ],
   "source": [
    "m = 2\n",
    "n = 10\n",
    "set(range(m,n+1,2))"
   ]
  },
  {
   "cell_type": "markdown",
   "metadata": {},
   "source": [
    "### Visualização de conjuntos\n",
    "A visualização dos conjuntos pode ser realizado através do diagrama de Venn. O matplotlib fornece uma biblioteca para gerar diagramas de Venn como segue abaixo:"
   ]
  },
  {
   "cell_type": "code",
   "execution_count": 11,
   "metadata": {},
   "outputs": [
    {
     "data": {
      "text/plain": [
       "<Figure size 640x480 with 1 Axes>"
      ]
     },
     "metadata": {},
     "output_type": "display_data"
    }
   ],
   "source": [
    "import matplotlib.pyplot as plt\n",
    "import matplotlib_venn as venn\n",
    "\n",
    "A = set({0,1,2})\n",
    "B = set({1,2,3})\n",
    "venn.venn2([A, B], set_labels=(\"A\",\"B\"))\n",
    "plt.show()"
   ]
  },
  {
   "cell_type": "markdown",
   "metadata": {},
   "source": [
    "Pode ser que o matplotlib_venn não esteja instalado no seu computador. Para instalar, utilize os seguintes comandos no seu terminal:\n",
    "```\n",
    "conda config --add channels conda-forge\n",
    "conda config --add channels defaults\n",
    "conda config --add channels r\n",
    "conda config --add channels bioconda\n",
    "\n",
    "conda install matplotlib-venn\n",
    "```"
   ]
  },
  {
   "cell_type": "markdown",
   "metadata": {},
   "source": [
    "#### Exercício 1\n",
    "Crie um conjunto A que contenha múltiplos de 3 e um conjunto B que contenha múltiplos de 5 em um intervalo de 0 a 100.\n",
    "Verifique quantos são múltiplos de 3 e 5 plotando um diagrama de Venn.\n",
    " "
   ]
  },
  {
   "cell_type": "code",
   "execution_count": 12,
   "metadata": {},
   "outputs": [
    {
     "data": {
      "image/png": "[encoded data removed]",
      "text/plain": [
       "<Figure size 432x288 with 1 Axes>"
      ]
     },
     "metadata": {},
     "output_type": "display_data"
    }
   ],
   "source": [
    "A = set(range(3,101,3))\n",
    "B = set(range(5,101,5))\n",
    "\n",
    "venn.venn2([A, B], set_labels=(\"A\",\"B\"))\n",
    "plt.show()"
   ]
  },
  {
   "cell_type": "markdown",
   "metadata": {},
   "source": [
    "### Relação entre dois conjuntos\n",
    "Considere os seguintes conjuntos:\n"
   ]
  },
  {
   "cell_type": "code",
   "execution_count": 13,
   "metadata": {},
   "outputs": [],
   "source": [
    "set1 = { 0, 1 }\n",
    "set2 = { 1, 0, 1 }\n",
    "set3 = { 4, 2 }\n",
    "set4 = {0, 1, 2}\n"
   ]
  },
  {
   "cell_type": "markdown",
   "metadata": {},
   "source": [
    "#### Igualdade (==)"
   ]
  },
  {
   "cell_type": "code",
   "execution_count": 14,
   "metadata": {},
   "outputs": [
    {
     "name": "stdout",
     "output_type": "stream",
     "text": [
      "True\n",
      "False\n",
      "False\n"
     ]
    }
   ],
   "source": [
    "print(set1 == set2)\n",
    "print(set1 == set3)\n",
    "print(set1 == set4)"
   ]
  },
  {
   "cell_type": "markdown",
   "metadata": {},
   "source": [
    "#### Desigualdade (!=)"
   ]
  },
  {
   "cell_type": "code",
   "execution_count": 15,
   "metadata": {},
   "outputs": [
    {
     "name": "stdout",
     "output_type": "stream",
     "text": [
      "False\n",
      "True\n",
      "True\n"
     ]
    }
   ],
   "source": [
    "print(set1 != set2)\n",
    "print(set1 != set3)\n",
    "print(set1 != set4)"
   ]
  },
  {
   "cell_type": "markdown",
   "metadata": {},
   "source": [
    "#### Conjuntos disjuntos (isdisjoint())\n",
    "Ou mutuamente exclusivo."
   ]
  },
  {
   "cell_type": "code",
   "execution_count": 16,
   "metadata": {},
   "outputs": [
    {
     "name": "stdout",
     "output_type": "stream",
     "text": [
      "False\n",
      "True\n"
     ]
    }
   ],
   "source": [
    "print(set1.isdisjoint(set2))\n",
    "print(set1.isdisjoint(set3))"
   ]
  },
  {
   "cell_type": "markdown",
   "metadata": {},
   "source": [
    "#### Subconjunto (<=)"
   ]
  },
  {
   "cell_type": "code",
   "execution_count": 17,
   "metadata": {},
   "outputs": [
    {
     "name": "stdout",
     "output_type": "stream",
     "text": [
      "True\n",
      "False\n",
      "True\n"
     ]
    }
   ],
   "source": [
    "print(set1 <= set2)\n",
    "print(set1 <= set3)\n",
    "print(set1 <= set4)"
   ]
  },
  {
   "cell_type": "markdown",
   "metadata": {},
   "source": [
    "#### Superconjunto (>=)"
   ]
  },
  {
   "cell_type": "code",
   "execution_count": 18,
   "metadata": {},
   "outputs": [
    {
     "name": "stdout",
     "output_type": "stream",
     "text": [
      "True\n",
      "False\n",
      "False\n"
     ]
    }
   ],
   "source": [
    "print(set1 >= set2)\n",
    "print(set1 >= set3)\n",
    "print(set1 >= set4)"
   ]
  },
  {
   "cell_type": "markdown",
   "metadata": {},
   "source": [
    "#### Subconjunto estrito (<)"
   ]
  },
  {
   "cell_type": "code",
   "execution_count": 19,
   "metadata": {},
   "outputs": [
    {
     "name": "stdout",
     "output_type": "stream",
     "text": [
      "False\n",
      "False\n",
      "True\n"
     ]
    }
   ],
   "source": [
    "print(set1 < set2)\n",
    "print(set1 < set3)\n",
    "print(set1 < set4)"
   ]
  },
  {
   "cell_type": "markdown",
   "metadata": {},
   "source": [
    "#### Superconjunto estrito (>)"
   ]
  },
  {
   "cell_type": "code",
   "execution_count": 20,
   "metadata": {},
   "outputs": [
    {
     "name": "stdout",
     "output_type": "stream",
     "text": [
      "False\n",
      "False\n",
      "False\n",
      "True\n"
     ]
    }
   ],
   "source": [
    "print(set1 > set2)\n",
    "print(set1 > set3)\n",
    "print(set1 > set4)\n",
    "print(set4 > set1)"
   ]
  },
  {
   "cell_type": "markdown",
   "metadata": {},
   "source": [
    "### Operações aplicadas em um conjunto\n",
    "Considere os seguintes conjuntos:"
   ]
  },
  {
   "cell_type": "code",
   "execution_count": 21,
   "metadata": {},
   "outputs": [],
   "source": [
    "A = { 1, 2 }\n",
    "B = { 2, 3 }"
   ]
  },
  {
   "cell_type": "markdown",
   "metadata": {},
   "source": [
    "#### União (|)"
   ]
  },
  {
   "cell_type": "code",
   "execution_count": 22,
   "metadata": {},
   "outputs": [
    {
     "name": "stdout",
     "output_type": "stream",
     "text": [
      "{1, 2, 3}\n",
      "{1, 2, 3}\n"
     ]
    }
   ],
   "source": [
    "print(A | B)\n",
    "\n",
    "print(A.union(B))"
   ]
  },
  {
   "cell_type": "markdown",
   "metadata": {},
   "source": [
    "#### Interseção (&)"
   ]
  },
  {
   "cell_type": "code",
   "execution_count": 23,
   "metadata": {},
   "outputs": [
    {
     "name": "stdout",
     "output_type": "stream",
     "text": [
      "{2}\n",
      "{2}\n"
     ]
    }
   ],
   "source": [
    "print(A & B)\n",
    "\n",
    "print(A.intersection(B))"
   ]
  },
  {
   "cell_type": "markdown",
   "metadata": {},
   "source": [
    "#### Diferença (-)"
   ]
  },
  {
   "cell_type": "code",
   "execution_count": 24,
   "metadata": {},
   "outputs": [
    {
     "name": "stdout",
     "output_type": "stream",
     "text": [
      "{1}\n",
      "{1}\n"
     ]
    }
   ],
   "source": [
    "print(A - B)\n",
    "\n",
    "print(A.difference(B))"
   ]
  },
  {
   "cell_type": "markdown",
   "metadata": {},
   "source": [
    "#### Diferença simétrica (^)"
   ]
  },
  {
   "cell_type": "code",
   "execution_count": 25,
   "metadata": {},
   "outputs": [
    {
     "name": "stdout",
     "output_type": "stream",
     "text": [
      "{1, 3}\n",
      "{1, 3}\n"
     ]
    }
   ],
   "source": [
    "print(A ^ B)\n",
    "\n",
    "print(A.symmetric_difference(B))"
   ]
  },
  {
   "cell_type": "markdown",
   "metadata": {},
   "source": [
    "#### Exercício 2\n",
    "\n",
    "Considere os seguintes conjuntos:"
   ]
  },
  {
   "cell_type": "code",
   "execution_count": 26,
   "metadata": {},
   "outputs": [],
   "source": [
    "# conjunto universo\n",
    "O = set(range(100))\n",
    "\n",
    "# conjunto A e B\n",
    "setA = set({3,62,91,47,21,28,88,98,57,32,89,17,92})\n",
    "setB = set({3,75,44,46,91,63,62,91,47,21,28,88,98,57,98,98,32,89,17,92,49,8,73,4,48,3,15,69,53,14,90,83,23,17,95,67,28,29,48,5})"
   ]
  },
  {
   "cell_type": "markdown",
   "metadata": {},
   "source": [
    "Responda:\n",
    "\n",
    "a) A é um subconjunto de B?"
   ]
  },
  {
   "cell_type": "code",
   "execution_count": 27,
   "metadata": {},
   "outputs": [
    {
     "data": {
      "text/plain": [
       "True"
      ]
     },
     "execution_count": 27,
     "metadata": {},
     "output_type": "execute_result"
    }
   ],
   "source": [
    "setA <= setB"
   ]
  },
  {
   "cell_type": "markdown",
   "metadata": {},
   "source": [
    "b) Qual é o complemento de A?"
   ]
  },
  {
   "cell_type": "code",
   "execution_count": 28,
   "metadata": {},
   "outputs": [
    {
     "name": "stdout",
     "output_type": "stream",
     "text": [
      "{0, 1, 2, 4, 5, 6, 7, 8, 9, 10, 11, 12, 13, 14, 15, 16, 18, 19, 20, 22, 23, 24, 25, 26, 27, 29, 30, 31, 33, 34, 35, 36, 37, 38, 39, 40, 41, 42, 43, 44, 45, 46, 48, 49, 50, 51, 52, 53, 54, 55, 56, 58, 59, 60, 61, 63, 64, 65, 66, 67, 68, 69, 70, 71, 72, 73, 74, 75, 76, 77, 78, 79, 80, 81, 82, 83, 84, 85, 86, 87, 90, 93, 94, 95, 96, 97, 99}\n"
     ]
    }
   ],
   "source": [
    "print(O - setA)"
   ]
  },
  {
   "cell_type": "markdown",
   "metadata": {},
   "source": [
    "c) Verifique se a seguinte expressão está correta: se $A \\subseteq B$, então $A^c \\supseteq B^c$"
   ]
  },
  {
   "cell_type": "code",
   "execution_count": 29,
   "metadata": {},
   "outputs": [
    {
     "name": "stdout",
     "output_type": "stream",
     "text": [
      "True\n",
      "True\n"
     ]
    }
   ],
   "source": [
    "print(setA <= setB)\n",
    "print(O - setA >= O - setB)"
   ]
  },
  {
   "cell_type": "markdown",
   "metadata": {},
   "source": [
    "#### Exercício 3\n",
    "\n",
    "Considere os seguintes conjuntos:"
   ]
  },
  {
   "cell_type": "code",
   "execution_count": 30,
   "metadata": {},
   "outputs": [
    {
     "data": {
      "text/plain": [
       "[]"
      ]
     },
     "execution_count": 30,
     "metadata": {},
     "output_type": "execute_result"
    },
    {
     "data": {
      "image/png": "[encoded data removed]",
      "text/plain": [
       "<Figure size 432x288 with 1 Axes>"
      ]
     },
     "metadata": {},
     "output_type": "display_data"
    }
   ],
   "source": [
    "# conjunto universo\n",
    "O = set(range(100))\n",
    "\n",
    "# conjuntos A, B e C\n",
    "A = set({35,62,8,65,86,40,11,90,48,41,23,23,5,50,50,19,2,81,91,80,14,93,25,85,19,8,44,95,32,10,22,98,51,12,77,53,49,5,58,49})\n",
    "B = set({16,77,6,93,45,71,96,48,55,99,74,50,22,62,98,78,85,88,18,34,96,20,12,50,78})\n",
    "C = set({20,66,17,58,90,44,71,31,19,56,86,28,61,82,91,26,43,44,49,82,31,15,5,89,77,52,47,65,18,84,39,42,29,9})\n",
    "\n",
    "venn.venn3([A,B,C])\n",
    "plt.plot()"
   ]
  },
  {
   "cell_type": "markdown",
   "metadata": {},
   "source": [
    "Determine:\n",
    "\n",
    "a) $A \\cup B \\cup C$"
   ]
  },
  {
   "cell_type": "code",
   "execution_count": 31,
   "metadata": {},
   "outputs": [
    {
     "name": "stdout",
     "output_type": "stream",
     "text": [
      "{2, 5, 6, 8, 9, 10, 11, 12, 14, 15, 16, 17, 18, 19, 20, 22, 23, 25, 26, 28, 29, 31, 32, 34, 35, 39, 40, 41, 42, 43, 44, 45, 47, 48, 49, 50, 51, 52, 53, 55, 56, 58, 61, 62, 65, 66, 71, 74, 77, 78, 80, 81, 82, 84, 85, 86, 88, 89, 90, 91, 93, 95, 96, 98, 99}\n"
     ]
    }
   ],
   "source": [
    "print(A | B | C)"
   ]
  },
  {
   "cell_type": "markdown",
   "metadata": {},
   "source": [
    "b) $A \\cap B \\cap C$"
   ]
  },
  {
   "cell_type": "code",
   "execution_count": 32,
   "metadata": {},
   "outputs": [
    {
     "name": "stdout",
     "output_type": "stream",
     "text": [
      "{77}\n"
     ]
    }
   ],
   "source": [
    "print(A & B & C)"
   ]
  },
  {
   "cell_type": "markdown",
   "metadata": {},
   "source": [
    "c) $A^c \\cap B^c \\cap C^c$"
   ]
  },
  {
   "cell_type": "code",
   "execution_count": 33,
   "metadata": {},
   "outputs": [
    {
     "name": "stdout",
     "output_type": "stream",
     "text": [
      "{0, 1, 3, 4, 7, 13, 21, 24, 27, 30, 33, 36, 37, 38, 46, 54, 57, 59, 60, 63, 64, 67, 68, 69, 70, 72, 73, 75, 76, 79, 83, 87, 92, 94, 97}\n"
     ]
    }
   ],
   "source": [
    "print(O-A & O-B & O-C)"
   ]
  },
  {
   "cell_type": "markdown",
   "metadata": {},
   "source": [
    "d) se existe algum par de conjuntos que sejam disjuntos"
   ]
  },
  {
   "cell_type": "code",
   "execution_count": 34,
   "metadata": {},
   "outputs": [
    {
     "name": "stdout",
     "output_type": "stream",
     "text": [
      "False\n",
      "False\n",
      "False\n"
     ]
    }
   ],
   "source": [
    "print(A.isdisjoint(B))\n",
    "print(A.isdisjoint(C))\n",
    "print(B.isdisjoint(C))"
   ]
  },
  {
   "cell_type": "markdown",
   "metadata": {},
   "source": [
    "e) a subtração simétrica dos três conjuntos."
   ]
  },
  {
   "cell_type": "code",
   "execution_count": 35,
   "metadata": {},
   "outputs": [
    {
     "name": "stdout",
     "output_type": "stream",
     "text": [
      "{2, 6, 8, 9, 10, 11, 14, 15, 16, 17, 23, 25, 26, 28, 29, 31, 32, 34, 35, 39, 40, 41, 42, 43, 45, 47, 51, 52, 53, 55, 56, 61, 66, 74, 77, 78, 80, 81, 82, 84, 88, 89, 95, 96, 99}\n"
     ]
    }
   ],
   "source": [
    "print(A ^ B ^ C)"
   ]
  },
  {
   "cell_type": "markdown",
   "metadata": {},
   "source": [
    "#### Exercício 4\n",
    "\n",
    "Considerando os mesmos conjuntos do exercício 3, determine os seguintes conjuntos:\n",
    "\n",
    "a) $A \\cap B$"
   ]
  },
  {
   "cell_type": "code",
   "execution_count": 36,
   "metadata": {},
   "outputs": [
    {
     "name": "stdout",
     "output_type": "stream",
     "text": [
      "{98, 12, 77, 48, 50, 85, 22, 93, 62}\n"
     ]
    }
   ],
   "source": [
    "print(A & B)"
   ]
  },
  {
   "cell_type": "markdown",
   "metadata": {},
   "source": [
    "b) $(A \\cap B) \\cap C$"
   ]
  },
  {
   "cell_type": "code",
   "execution_count": 37,
   "metadata": {},
   "outputs": [
    {
     "name": "stdout",
     "output_type": "stream",
     "text": [
      "{77}\n"
     ]
    }
   ],
   "source": [
    "print((A & B) & C)"
   ]
  },
  {
   "cell_type": "markdown",
   "metadata": {},
   "source": [
    "c) $A \\cap (B \\cup C)$"
   ]
  },
  {
   "cell_type": "code",
   "execution_count": 38,
   "metadata": {},
   "outputs": [
    {
     "name": "stdout",
     "output_type": "stream",
     "text": [
      "{65, 98, 5, 90, 12, 44, 77, 48, 49, 50, 19, 85, 22, 86, 58, 91, 93, 62}\n"
     ]
    }
   ],
   "source": [
    "print(A & (B | C))"
   ]
  },
  {
   "cell_type": "markdown",
   "metadata": {},
   "source": [
    "d) $(A \\cap B)^c$"
   ]
  },
  {
   "cell_type": "code",
   "execution_count": 39,
   "metadata": {},
   "outputs": [
    {
     "name": "stdout",
     "output_type": "stream",
     "text": [
      "{0, 1, 2, 3, 4, 5, 6, 7, 8, 9, 10, 11, 13, 14, 15, 16, 17, 18, 19, 20, 21, 23, 24, 25, 26, 27, 28, 29, 30, 31, 32, 33, 34, 35, 36, 37, 38, 39, 40, 41, 42, 43, 44, 45, 46, 47, 49, 51, 52, 53, 54, 55, 56, 57, 58, 59, 60, 61, 63, 64, 65, 66, 67, 68, 69, 70, 71, 72, 73, 74, 75, 76, 78, 79, 80, 81, 82, 83, 84, 86, 87, 88, 89, 90, 91, 92, 94, 95, 96, 97, 99}\n"
     ]
    }
   ],
   "source": [
    "print(O - (A & B))"
   ]
  },
  {
   "cell_type": "markdown",
   "metadata": {},
   "source": [
    "#### Exercício 5\n",
    "\n",
    "Determine a quais conjuntos do exercício anterior correspondem aos seguintes conjuntos:\n",
    "\n",
    "a) $A^c \\cup B^c$"
   ]
  },
  {
   "cell_type": "markdown",
   "metadata": {},
   "source": [
    "Resposta: d"
   ]
  },
  {
   "cell_type": "markdown",
   "metadata": {},
   "source": [
    "b) $(B \\cap C) \\cap A$"
   ]
  },
  {
   "cell_type": "markdown",
   "metadata": {},
   "source": [
    "Resposta: b"
   ]
  },
  {
   "cell_type": "markdown",
   "metadata": {},
   "source": [
    "c) $B \\cap A$"
   ]
  },
  {
   "cell_type": "markdown",
   "metadata": {},
   "source": [
    "Resposta: a"
   ]
  },
  {
   "cell_type": "markdown",
   "metadata": {},
   "source": [
    "d) $(A \\cap B) \\cup (A \\cap C)$"
   ]
  },
  {
   "cell_type": "markdown",
   "metadata": {},
   "source": [
    "Resposta: c"
   ]
  },
  {
   "cell_type": "markdown",
   "metadata": {},
   "source": [
    "#### Exercício 6\n",
    "\n",
    "Considere os dados populacionais presentes no arquivo <i>data.csv</i>:"
   ]
  },
  {
   "cell_type": "code",
   "execution_count": 40,
   "metadata": {},
   "outputs": [
    {
     "data": {
      "text/html": [
       "<div>\n",
       "<style scoped>\n",
       "    .dataframe tbody tr th:only-of-type {\n",
       "        vertical-align: middle;\n",
       "    }\n",
       "\n",
       "    .dataframe tbody tr th {\n",
       "        vertical-align: top;\n",
       "    }\n",
       "\n",
       "    .dataframe thead th {\n",
       "        text-align: right;\n",
       "    }\n",
       "</style>\n",
       "<table border=\"1\" class=\"dataframe\">\n",
       "  <thead>\n",
       "    <tr style=\"text-align: right;\">\n",
       "      <th></th>\n",
       "      <th>country</th>\n",
       "      <th>popT</th>\n",
       "      <th>pop15</th>\n",
       "      <th>pop60</th>\n",
       "      <th>fert</th>\n",
       "    </tr>\n",
       "  </thead>\n",
       "  <tbody>\n",
       "    <tr>\n",
       "      <th>0</th>\n",
       "      <td>Afghanistan</td>\n",
       "      <td>34656</td>\n",
       "      <td>43.9</td>\n",
       "      <td>4.1</td>\n",
       "      <td>4.6</td>\n",
       "    </tr>\n",
       "    <tr>\n",
       "      <th>1</th>\n",
       "      <td>Albania</td>\n",
       "      <td>2926</td>\n",
       "      <td>17.7</td>\n",
       "      <td>1.6</td>\n",
       "      <td>1.7</td>\n",
       "    </tr>\n",
       "    <tr>\n",
       "      <th>2</th>\n",
       "      <td>Algeria</td>\n",
       "      <td>40606</td>\n",
       "      <td>29.0</td>\n",
       "      <td>10.7</td>\n",
       "      <td>2.8</td>\n",
       "    </tr>\n",
       "    <tr>\n",
       "      <th>3</th>\n",
       "      <td>Andorra</td>\n",
       "      <td>77</td>\n",
       "      <td>14.8</td>\n",
       "      <td>0.1</td>\n",
       "      <td>NaN</td>\n",
       "    </tr>\n",
       "    <tr>\n",
       "      <th>4</th>\n",
       "      <td>Angola</td>\n",
       "      <td>28813</td>\n",
       "      <td>47.0</td>\n",
       "      <td>3.3</td>\n",
       "      <td>5.7</td>\n",
       "    </tr>\n",
       "  </tbody>\n",
       "</table>\n",
       "</div>"
      ],
      "text/plain": [
       "       country   popT  pop15  pop60  fert\n",
       "0  Afghanistan  34656   43.9    4.1   4.6\n",
       "1      Albania   2926   17.7    1.6   1.7\n",
       "2      Algeria  40606   29.0   10.7   2.8\n",
       "3      Andorra     77   14.8    0.1   NaN\n",
       "4       Angola  28813   47.0    3.3   5.7"
      ]
     },
     "execution_count": 40,
     "metadata": {},
     "output_type": "execute_result"
    }
   ],
   "source": [
    "import pandas as pd\n",
    "\n",
    "data = pd.read_csv('data.csv', thousands = \" \", skiprows = [1])\n",
    "data.columns = ['country', 'popT', 'pop15', 'pop60', 'fert']\n",
    "data.head()"
   ]
  },
  {
   "cell_type": "markdown",
   "metadata": {},
   "source": [
    "a) Se eu pegar um país aleatório desta lista, qual será a probabilidade de eu pegar um país que tenha uma população menor que 800 mil habitantes? Obs.: Os valores da coluna \"popT\" estão em milhares."
   ]
  },
  {
   "cell_type": "code",
   "execution_count": 41,
   "metadata": {},
   "outputs": [
    {
     "data": {
      "text/plain": [
       "0.19072164948453607"
      ]
     },
     "execution_count": 41,
     "metadata": {},
     "output_type": "execute_result"
    }
   ],
   "source": [
    "len(data[data[\"popT\"] < 800])/len(data)"
   ]
  },
  {
   "cell_type": "markdown",
   "metadata": {},
   "source": [
    "b) Se eu pegar um país aleatório desta lista, qual será a probabilidade de eu pegar um país que tenha uma porcentagem da população abaixo dos 15 anos menor 20%? Obs.: os valores da coluna \"popT15\" estão porcentagem."
   ]
  },
  {
   "cell_type": "code",
   "execution_count": 42,
   "metadata": {},
   "outputs": [
    {
     "data": {
      "text/plain": [
       "0.29896907216494845"
      ]
     },
     "execution_count": 42,
     "metadata": {},
     "output_type": "execute_result"
    }
   ],
   "source": [
    "len(data[data[\"pop15\"] < 20])/len(data)"
   ]
  },
  {
   "cell_type": "markdown",
   "metadata": {},
   "source": [
    "c) Se eu pegar um país aleatório desta lista, qual será a probabilidade de eu pegar um país que tenha uma população menor que 800 mil habitantes <b>ou</b> a porcentagem da população abaixo dos 15 anos menor 20%?"
   ]
  },
  {
   "cell_type": "code",
   "execution_count": 43,
   "metadata": {},
   "outputs": [
    {
     "data": {
      "text/plain": [
       "0.4381443298969072"
      ]
     },
     "execution_count": 43,
     "metadata": {},
     "output_type": "execute_result"
    }
   ],
   "source": [
    "len(set(data[data[\"pop15\"] < 20][\"popT\"]) | set(data[data[\"popT\"] < 800][\"popT\"]))/len(data)"
   ]
  },
  {
   "cell_type": "markdown",
   "metadata": {},
   "source": [
    "d) Se eu pegar um país aleatório desta lista, qual será a probabilidade de eu pegar um país que tenha uma população menor que 800 mil habitantes <b>e</b> a porcentagem da população abaixo dos 15 anos menor 20%?"
   ]
  },
  {
   "cell_type": "code",
   "execution_count": 44,
   "metadata": {},
   "outputs": [
    {
     "data": {
      "text/plain": [
       "0.041237113402061855"
      ]
     },
     "execution_count": 44,
     "metadata": {},
     "output_type": "execute_result"
    }
   ],
   "source": [
    "len(set(data[data[\"pop15\"] < 20][\"popT\"]) & set(data[data[\"popT\"] < 800][\"popT\"]))/len(data)"
   ]
  },
  {
   "cell_type": "code",
   "execution_count": null,
   "metadata": {},
   "outputs": [],
   "source": []
  }
 ],
 "metadata": {
  "kernelspec": {
   "display_name": "Python 3",
   "language": "python",
   "name": "python3"
  },
  "language_info": {
   "codemirror_mode": {
    "name": "ipython",
    "version": 3
   },
   "file_extension": ".py",
   "mimetype": "text/x-python",
   "name": "python",
   "nbconvert_exporter": "python",
   "pygments_lexer": "ipython3",
   "version": "3.6.5"
  }
 },
 "nbformat": 4,
 "nbformat_minor": 2
}
