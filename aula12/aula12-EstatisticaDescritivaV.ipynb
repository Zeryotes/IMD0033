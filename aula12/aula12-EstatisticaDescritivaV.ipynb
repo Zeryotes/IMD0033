{
 "cells": [
  {
   "cell_type": "markdown",
   "metadata": {},
   "source": [
    "# Estatística Descritiva\n",
    "\n",
    "## Covariância e Correlação"
   ]
  },
  {
   "cell_type": "code",
   "execution_count": 1,
   "metadata": {},
   "outputs": [],
   "source": [
    "import numpy as np\n",
    "import matplotlib.pyplot as plt\n",
    "\n",
    "def medArit (listNum):\n",
    "    lenList = float(len(listNum))\n",
    "    soma = 0\n",
    "    for i in listNum:\n",
    "        soma += i\n",
    "    return soma/lenList\n",
    "\n",
    "def sd (listNum):\n",
    "    media = medArit(listNum)\n",
    "    somaDesvioQ = 0;\n",
    "    for i in listNum:\n",
    "        somaDesvioQ += (i - media)**2\n",
    "    desvio = (somaDesvioQ/len(listNum))**0.5\n",
    "    return desvio"
   ]
  },
  {
   "cell_type": "markdown",
   "metadata": {},
   "source": [
    "Nas aulas anteriores, verificamos como podemos descrever estatisticamente os dados sobre a perspectiva de uma variável, por exemplo nota da prova. Mas agora imagine que você tenha para cada instância uma segunda variável, por exemplo altura do aluno. Seguem os dados abaixo:"
   ]
  },
  {
   "cell_type": "code",
   "execution_count": 2,
   "metadata": {},
   "outputs": [],
   "source": [
    "nota = np.array([53.21,62.33,59.35,59.63,94.14,100.00,42.31,71.13,59.06,51.75,67.15,77.79,58.84,51.57,70.35,71.17,73.19,74.10,58.48,64.70,76.97,50.35,46.41,70.91,15.80,45.26,68.52,29.55,64.05,67.23,64.09,72.94,50.75,75.79,32.41,57.60,51.34,53.59,54.37,56.33,55.77,38.17,89.51,29.56,53.50,85.35,73.17,69.80,61.03,66.00,60.82,63.63,57.51,84.47,85.79,67.57,62.00,80.63,68.89,47.20,46.66,55.63,38.38,61.35,46.62,73.03,81.62,93.62,91.72,57.37,32.93,42.61,55.82,55.70,66.59,78.97,26.15,60.16,82.27,75.71,73.45,78.85,71.98,82.73,43.94,84.97,64.69,67.28,68.85,63.14,75.96,58.17,75.45,88.11,74.23,44.49,88.13,68.31,55.54,67.90,57.51,83.11,70.43,56.74,72.62,64.97,83.26,51.64,62.73,54.33,81.34,58.04,59.43,59.89,72.86,61.83,33.94,63.39,48.70,63.37,62.48,54.27,40.84,71.03,83.66,62.02,88.54,57.56,28.69,35.46,95.45,67.11,51.39,87.16,40.47,46.02,49.31,83.14,36.86,62.81,46.93,88.74,58.52,29.37,54.22,50.14,49.66,50.71,54.83,55.06,37.98,64.02,76.33,40.41,33.26,66.61,89.53,54.15,70.54,71.46,61.42,49.85,74.78,51.03,57.33,66.69,65.83,50.08,64.08,95.03,74.06,45.52,70.86,66.32,33.29,74.69,59.32,41.43,65.02,96.21,61.75,62.37,73.07,72.23,87.02,49.52,61.73,68.07,81.19,72.85,35.77,70.95,46.06,45.70,65.76,76.41,76.01,54.19,42.10,42.02])\n",
    "altura = np.array([1.68,1.62,1.37,1.56,1.58,1.92,1.83,1.71,1.34,1.79,1.81,1.59,1.49,1.28,1.66,1.74,1.45,1.68,1.81,1.66,1.61,1.61,1.89,1.62,1.67,1.59,1.60,1.57,1.69,1.62,1.76,1.25,1.77,1.54,1.83,1.69,1.57,1.58,1.40,1.56,1.59,1.93,1.55,1.57,1.75,1.71,1.54,1.65,1.42,1.68,1.69,1.29,1.72,1.73,1.52,1.51,1.78,1.57,1.75,1.52,1.45,1.61,1.51,1.67,1.90,1.73,1.66,1.69,1.65,1.70,1.63,1.30,1.55,1.39,1.37,1.74,1.66,1.53,1.50,1.56,1.75,1.66,1.69,1.64,1.54,1.57,1.60,1.59,1.54,1.37,1.64,1.76,1.71,1.50,1.53,1.41,1.56,1.70,1.36,1.40,1.41,1.47,1.70,1.69,1.58,1.40,1.69,1.59,1.54,1.47,1.60,1.67,1.60,1.65,1.60,1.51,1.73,1.67,1.63,1.56,1.38,1.75,1.56,1.37,1.79,1.78,1.44,1.68,1.76,1.71,1.65,1.78,1.51,1.79,2.07,1.65,1.49,1.56,1.55,1.82,1.71,1.44,1.48,1.54,1.58,1.74,1.58,1.78,1.79,1.66,1.65,1.82,1.32,1.68,1.49,1.77,1.60,1.60,1.78,1.64,1.60,1.44,1.70,1.35,1.77,1.56,1.80,1.55,1.31,1.37,1.79,1.63,1.78,1.66,1.82,1.72,1.90,1.61,1.81,1.34,1.72,1.65,1.55,1.55,1.77,1.71,1.59,1.47,1.41,1.80,1.40,1.72,1.65,1.72,1.77,1.69,1.49,1.74,1.82,1.66])"
   ]
  },
  {
   "cell_type": "markdown",
   "metadata": {},
   "source": [
    "Tendo estas variáveis em mãos, podemos nos perguntar se a altura dos alunos influencia nas suas notas. Para verificar esse comportamento, podemos primeiramente realizar uma análise visual dos dados, construindo um gráfico de dispersão e considerando uma das variáveis no eixo X (nota do aluno) e a segunda variável no eixo Y (altura)."
   ]
  },
  {
   "cell_type": "code",
   "execution_count": null,
   "metadata": {},
   "outputs": [],
   "source": []
  },
  {
   "cell_type": "markdown",
   "metadata": {},
   "source": [
    "O gráfico de dispersão gerado, não indica uma linha de tendência que nos permita dizer a existência de alguma influência da altura sobre as notas dos alunos. Portanto, estas duas variáveis não se relacionam um com o outro. \n",
    "\n",
    "Mas como poderíamos determinar numericamente a relação de duas variáveis? Uma destas formas é através do cálculo da covariância.\n",
    "\n",
    "#### Exercício 1\n",
    "\n",
    "Crie uma função que receba duas listas de números e calcule a covariância."
   ]
  },
  {
   "cell_type": "code",
   "execution_count": null,
   "metadata": {},
   "outputs": [],
   "source": []
  },
  {
   "cell_type": "markdown",
   "metadata": {},
   "source": [
    "#### Exercício 2\n",
    "\n",
    "Calcule a covariância entre as variáveis \"nota do aluno\" e \"altura do aluno\""
   ]
  },
  {
   "cell_type": "code",
   "execution_count": null,
   "metadata": {},
   "outputs": [],
   "source": []
  },
  {
   "cell_type": "markdown",
   "metadata": {},
   "source": [
    "*Resposta*: -0.18770886999999997"
   ]
  },
  {
   "cell_type": "markdown",
   "metadata": {},
   "source": [
    "#### Exercício 3\n",
    "\n",
    "Crie uma função que receba duas listas de números e calcule a correlação."
   ]
  },
  {
   "cell_type": "code",
   "execution_count": null,
   "metadata": {},
   "outputs": [],
   "source": []
  },
  {
   "cell_type": "markdown",
   "metadata": {},
   "source": [
    "#### Exercício 4\n",
    "\n",
    "Calcule a correlação entre as variáveis \"nota do aluno\" e \"altura do aluno\""
   ]
  },
  {
   "cell_type": "code",
   "execution_count": null,
   "metadata": {
    "scrolled": true
   },
   "outputs": [],
   "source": []
  },
  {
   "cell_type": "markdown",
   "metadata": {},
   "source": [
    "*Resposta*: -0.08156828757530664"
   ]
  },
  {
   "cell_type": "markdown",
   "metadata": {},
   "source": [
    "#### Exercício 5\n",
    "\n",
    "Este [arquivo](https://archive.ics.uci.edu/ml/machine-learning-databases/wine-quality/winequality-red.csv) contém dados sobre as características fisico-químicas de variantes do vinho português \"Vinho Verde\" (coluna 1 a 11). Cada uma das variantes de vinho também recebeu uma nota de 0 a 10 considerando a sua qualidade (coluna 12). Utilize o conteúdo aprendido nesta aula e determine:\n",
    "\n",
    "a. Qual das características fisico-químicas influenciam mais na nota da qualidade deste vinho. Plote um gráfico que relacione esta característica com a nota do vinho.\n",
    "\n",
    "b. Qual das características fisico-químicas influenciam menos na nota da qualidade deste vinho. Plote um gráfico que relacione esta característica com a nota do vinho."
   ]
  },
  {
   "cell_type": "code",
   "execution_count": 3,
   "metadata": {},
   "outputs": [],
   "source": [
    "f = open(\"winequality-red.csv\", \"r\")"
   ]
  },
  {
   "cell_type": "code",
   "execution_count": null,
   "metadata": {},
   "outputs": [],
   "source": []
  },
  {
   "cell_type": "code",
   "execution_count": null,
   "metadata": {},
   "outputs": [],
   "source": []
  },
  {
   "cell_type": "markdown",
   "metadata": {},
   "source": [
    "*Resposta*: \n",
    "A. álcool.\n",
    "B. açúcar residual."
   ]
  }
 ],
 "metadata": {
  "kernelspec": {
   "display_name": "Python 3",
   "language": "python",
   "name": "python3"
  },
  "language_info": {
   "codemirror_mode": {
    "name": "ipython",
    "version": 3
   },
   "file_extension": ".py",
   "mimetype": "text/x-python",
   "name": "python",
   "nbconvert_exporter": "python",
   "pygments_lexer": "ipython3",
   "version": "3.6.5"
  }
 },
 "nbformat": 4,
 "nbformat_minor": 2
}
