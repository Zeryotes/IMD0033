{
 "cells": [
  {
   "cell_type": "markdown",
   "metadata": {},
   "source": [
    "## IMD0033 - Probabilidade\n",
    "\n",
    "# Trabalho I \n",
    "\n",
    "Este trabalho servirá como avaliação dos conteúdos relacionados a Estatística Descritiva.\n",
    "\n",
    "Data de entrega: Até 23:59 do dia 17/04\n",
    "\n",
    "Forma de entrega: Via SIGAA na forma de um jupyter notebook ou na forma de um documento em um editor de texto.\n",
    "\n",
    "### Questão 1 (2 pontos)\n",
    "\n",
    "Defina com suas palavras e de forma sucinta os termos abaixo:\n",
    "\n",
    "a) População"
   ]
  },
  {
   "cell_type": "markdown",
   "metadata": {},
   "source": [
    "Respota: Corresponde ao conjunto de TODOS os indivíduos que possuam a característica de interesse para a pesquisa ou estudo."
   ]
  },
  {
   "cell_type": "markdown",
   "metadata": {},
   "source": [
    "b) Amostra"
   ]
  },
  {
   "cell_type": "markdown",
   "metadata": {},
   "source": [
    "Respota: É o subconjunto da população."
   ]
  },
  {
   "cell_type": "markdown",
   "metadata": {},
   "source": [
    "c) Conceito (em um desenho experimental)"
   ]
  },
  {
   "cell_type": "markdown",
   "metadata": {},
   "source": [
    "Resposta: Objeto ideal, ou abstrato na qual deseja-se estudar. Exemplo: Memória."
   ]
  },
  {
   "cell_type": "markdown",
   "metadata": {},
   "source": [
    "d) Definição operacional"
   ]
  },
  {
   "cell_type": "markdown",
   "metadata": {},
   "source": [
    "Resposta: Metodologia utilizada para quantificar ou medir o conceito. Exemplo: Teste de QI para \"medir\" a memória."
   ]
  },
  {
   "cell_type": "markdown",
   "metadata": {},
   "source": [
    "e) Experimento controlado"
   ]
  },
  {
   "cell_type": "markdown",
   "metadata": {},
   "source": [
    "Resposta: Experimento utilizado para comprovar se uma determinada variável é a causa do fenômeno em estudo. Normalmente, as amostras são subdivididas em dois grupos: o grupo experimental, que recebe a ação da variável, e o grupo controle, que não recebe a ação da variável."
   ]
  },
  {
   "cell_type": "markdown",
   "metadata": {},
   "source": [
    "f) Desvio"
   ]
  },
  {
   "cell_type": "markdown",
   "metadata": {},
   "source": [
    "Resposta: Diferença entre o valor de uma amostra com a média."
   ]
  },
  {
   "cell_type": "markdown",
   "metadata": {},
   "source": [
    "g) Correção de Bessel"
   ]
  },
  {
   "cell_type": "markdown",
   "metadata": {},
   "source": [
    "Resposta: Correção utilizada para estimar a variância ou o desvio padrão de uma população a partir de uma amostra."
   ]
  },
  {
   "cell_type": "markdown",
   "metadata": {},
   "source": [
    "h) Outlier"
   ]
  },
  {
   "cell_type": "markdown",
   "metadata": {},
   "source": [
    "Resposta: Uma amostra que possui um valor extremo em relação às outras amostras."
   ]
  },
  {
   "cell_type": "markdown",
   "metadata": {},
   "source": [
    "### Questão 2 (2 pontos)\n",
    "\n",
    "Reflita sobre as seguintes afirmações, indique se é verdadeiro ou falso e justifique:\n",
    "\n",
    "a) Se o desvio padrão de um conjunto de dados é 0, podemos certamente afirmar que os dados encontram-se dispersos próximos da média."
   ]
  },
  {
   "cell_type": "markdown",
   "metadata": {},
   "source": [
    "Resposta: Falso, quando o desvio padrão é 0, significa que estamos lidando com uma constante, portanto não há dispersão dos dados."
   ]
  },
  {
   "cell_type": "markdown",
   "metadata": {},
   "source": [
    "b) A covariância é a média do quadrado dos desvios."
   ]
  },
  {
   "cell_type": "markdown",
   "metadata": {},
   "source": [
    "Resposta: Falso, a covariância é a média do produto dos desvios de duas variáveis (X e Y)."
   ]
  },
  {
   "cell_type": "markdown",
   "metadata": {},
   "source": [
    "c) Quando transformamos os dados através do z-score, a moda dos dados transformados é sempre 0."
   ]
  },
  {
   "cell_type": "markdown",
   "metadata": {},
   "source": [
    "Resposta: Falso, quando transformamos os dados através do z-score, é a média que se torna 0. A moda, como também a mediana, será também 0 apenas se eles tiverem os mesmos valores que a média."
   ]
  },
  {
   "cell_type": "markdown",
   "metadata": {},
   "source": [
    "d) Ao analisar a correlação entre duas variáveis, se verificarmos uma correlação de 0.9, o que é considerada alta, não podemos afirmar que a variável dependente é a causa da variação nos valores da variável independente."
   ]
  },
  {
   "cell_type": "markdown",
   "metadata": {},
   "source": [
    "Resposta: Verdadeiro, mesmo com a correlação alta, a correlação não necessariamente denota a causa do fenômeno. Lembre-se do exemplo da teoria dos arcos dourados. Para testar a causa do fenômeno, é necessário realizar um experimento controlado."
   ]
  },
  {
   "cell_type": "markdown",
   "metadata": {},
   "source": [
    "### Questão 3 (6 pontos)\n",
    "\n",
    "Baixe o arquivo que se encontram neste [link](CO2_emission.txt). Este arquivo contém dados de emissão de CO2 em kT (quilotonelada) emitido pelos países ao longo no período de 2000 a 2014. Desconsiderando aqueles países que apresentam valores faltantes (\"..\"), responda:\n",
    "\n",
    "a) Qual foi o país que mais emitiu CO2 ao longo destes anos?"
   ]
  },
  {
   "cell_type": "code",
   "execution_count": 1,
   "metadata": {},
   "outputs": [],
   "source": [
    "import numpy as np\n",
    "import matplotlib.pyplot as plt\n",
    "import pandas as pd"
   ]
  },
  {
   "cell_type": "code",
   "execution_count": 3,
   "metadata": {
    "collapsed": true
   },
   "outputs": [],
   "source": [
    "def medArit (listNum):\n",
    "    lenList = len(listNum)\n",
    "    soma = 0\n",
    "    for i in listNum:\n",
    "        soma += i\n",
    "    return soma/lenList\n",
    "\n",
    "def sd (listNum):\n",
    "    media = medArit(listNum)\n",
    "    somaDesvioQ = 0;\n",
    "    for i in listNum:\n",
    "        somaDesvioQ += (i - media)**2\n",
    "    desvio = (somaDesvioQ/len(listNum))**0.5\n",
    "    return desvio\n",
    "\n",
    "def cov(numList1, numList2):\n",
    "    media1 = medArit(numList1)\n",
    "    media2 = medArit(numList2)\n",
    "    n = float(len(numList1))\n",
    "    produtoDesvio = 0\n",
    "    for i in range(len(numList1)):\n",
    "        produtoDesvio += (numList1[i] - media1)*(numList2[i] - media2)\n",
    "    return produtoDesvio/n\n",
    "\n",
    "def corr(numList1, numList2):\n",
    "    covar = cov(numList1, numList2)\n",
    "    sd1 = sd(numList1)\n",
    "    sd2 = sd(numList2)\n",
    "    return covar/(sd1*sd2)\n",
    "\n",
    "def zTran(numList):\n",
    "    media1 = medArit(numList)\n",
    "    sd1 = sd(numList)\n",
    "    for i in range(len(numList)):\n",
    "        numList[i] = (numList[i]-media1)/sd1\n",
    "    return numList"
   ]
  },
  {
   "cell_type": "code",
   "execution_count": 4,
   "metadata": {},
   "outputs": [],
   "source": [
    "# Leitura do arquivo\n",
    "f = open(\"CO2_emission.txt\",\"r\")\n",
    "\n",
    "header = f.readline().rstrip()\n",
    "\n",
    "line = f.readline()\n",
    "country = {}\n",
    "while line:\n",
    "    cells = line.split(\"\\t\")\n",
    "    if (not cells[0]):\n",
    "        break\n",
    "    country[cells[2]] = []\n",
    "    for i in range(4,len(cells)):\n",
    "        if (cells[i] == '..'):\n",
    "            del country[cells[2]]\n",
    "            break\n",
    "        country[cells[2]].append(float(cells[i]))\n",
    "    if cells[2] in country:\n",
    "        country[cells[2]] = np.array(country[cells[2]])\n",
    "    line = f.readline().rstrip()\n",
    "f.close()"
   ]
  },
  {
   "cell_type": "code",
   "execution_count": 2,
   "metadata": {
    "scrolled": true
   },
   "outputs": [
    {
     "data": {
      "text/html": [
       "<div>\n",
       "<style scoped>\n",
       "    .dataframe tbody tr th:only-of-type {\n",
       "        vertical-align: middle;\n",
       "    }\n",
       "\n",
       "    .dataframe tbody tr th {\n",
       "        vertical-align: top;\n",
       "    }\n",
       "\n",
       "    .dataframe thead th {\n",
       "        text-align: right;\n",
       "    }\n",
       "</style>\n",
       "<table border=\"1\" class=\"dataframe\">\n",
       "  <thead>\n",
       "    <tr style=\"text-align: right;\">\n",
       "      <th></th>\n",
       "      <th>2000 [YR2000]</th>\n",
       "      <th>2001 [YR2001]</th>\n",
       "      <th>2002 [YR2002]</th>\n",
       "      <th>2003 [YR2003]</th>\n",
       "      <th>2004 [YR2004]</th>\n",
       "      <th>2005 [YR2005]</th>\n",
       "      <th>2006 [YR2006]</th>\n",
       "      <th>2007 [YR2007]</th>\n",
       "      <th>2008 [YR2008]</th>\n",
       "      <th>2009 [YR2009]</th>\n",
       "      <th>2010 [YR2010]</th>\n",
       "      <th>2011 [YR2011]</th>\n",
       "      <th>2012 [YR2012]</th>\n",
       "      <th>2013 [YR2013]</th>\n",
       "      <th>2014 [YR2014]</th>\n",
       "      <th>sum</th>\n",
       "    </tr>\n",
       "    <tr>\n",
       "      <th>Country Name</th>\n",
       "      <th></th>\n",
       "      <th></th>\n",
       "      <th></th>\n",
       "      <th></th>\n",
       "      <th></th>\n",
       "      <th></th>\n",
       "      <th></th>\n",
       "      <th></th>\n",
       "      <th></th>\n",
       "      <th></th>\n",
       "      <th></th>\n",
       "      <th></th>\n",
       "      <th></th>\n",
       "      <th></th>\n",
       "      <th></th>\n",
       "      <th></th>\n",
       "    </tr>\n",
       "  </thead>\n",
       "  <tbody>\n",
       "    <tr>\n",
       "      <th>China</th>\n",
       "      <td>3405179.867</td>\n",
       "      <td>3487566.356</td>\n",
       "      <td>3850269.326</td>\n",
       "      <td>4540417.061</td>\n",
       "      <td>5233538.733</td>\n",
       "      <td>5896957.705</td>\n",
       "      <td>6529291.518</td>\n",
       "      <td>7030797.772</td>\n",
       "      <td>7553070.247</td>\n",
       "      <td>8001008.965</td>\n",
       "      <td>8776040.416</td>\n",
       "      <td>9733538.12</td>\n",
       "      <td>1.002857e+07</td>\n",
       "      <td>1.025801e+07</td>\n",
       "      <td>1.029193e+07</td>\n",
       "      <td>1.046162e+08</td>\n",
       "    </tr>\n",
       "  </tbody>\n",
       "</table>\n",
       "</div>"
      ],
      "text/plain": [
       "              2000 [YR2000]  2001 [YR2001]  2002 [YR2002]  2003 [YR2003]  \\\n",
       "Country Name                                                               \n",
       "China           3405179.867    3487566.356    3850269.326    4540417.061   \n",
       "\n",
       "              2004 [YR2004]  2005 [YR2005]  2006 [YR2006]  2007 [YR2007]  \\\n",
       "Country Name                                                               \n",
       "China           5233538.733    5896957.705    6529291.518    7030797.772   \n",
       "\n",
       "              2008 [YR2008]  2009 [YR2009]  2010 [YR2010]  2011 [YR2011]  \\\n",
       "Country Name                                                               \n",
       "China           7553070.247    8001008.965    8776040.416     9733538.12   \n",
       "\n",
       "              2012 [YR2012]  2013 [YR2013]  2014 [YR2014]           sum  \n",
       "Country Name                                                             \n",
       "China          1.002857e+07   1.025801e+07   1.029193e+07  1.046162e+08  "
      ]
     },
     "execution_count": 2,
     "metadata": {},
     "output_type": "execute_result"
    }
   ],
   "source": [
    "data = pd.read_csv(\"CO2_emission.txt\", sep=\"\\t\", header=0,index_col=2,na_values=\"..\")\n",
    "year = data.filter(regex='YR')\n",
    "year = year.dropna()\n",
    "year[\"sum\"] = year.sum(axis=1)\n",
    "year.sort_values(\"sum\", ascending=False).head(1)"
   ]
  },
  {
   "cell_type": "code",
   "execution_count": 27,
   "metadata": {},
   "outputs": [
    {
     "name": "stdout",
     "output_type": "stream",
     "text": [
      "China\n",
      "[ 13923.599  12596.145  11965.421  10656.302   9486.529  10769.979\n",
      "  10447.283   9886.232   7770.373   5603.176   7777.707   9563.536\n",
      "   7792.375  11675.728  12020.426]\n"
     ]
    }
   ],
   "source": [
    "# Somando os dados\n",
    "sumCo2 = []\n",
    "countryName = []\n",
    "for i in country.keys():\n",
    "    sumCo2.append(country[i].sum())\n",
    "    countryName.append(i)\n",
    "    \n",
    "# Verificando o menor valor da soma\n",
    "sumCo2 = np.array(sumCo2)\n",
    "sortedIndex = sumCo2.argsort()\n",
    "print(countryName[sortedIndex[-1]])\n",
    "print(country[countryName[-1]])"
   ]
  },
  {
   "cell_type": "markdown",
   "metadata": {},
   "source": [
    "b) Qual foi o país que teve a menor média da taxa de emissão de CO2 ao longo destes anos?"
   ]
  },
  {
   "cell_type": "code",
   "execution_count": 3,
   "metadata": {},
   "outputs": [
    {
     "ename": "NameError",
     "evalue": "name 'country' is not defined",
     "output_type": "error",
     "traceback": [
      "\u001b[1;31m---------------------------------------------------------------------------\u001b[0m",
      "\u001b[1;31mNameError\u001b[0m                                 Traceback (most recent call last)",
      "\u001b[1;32m<ipython-input-3-9e7683342410>\u001b[0m in \u001b[0;36m<module>\u001b[1;34m\u001b[0m\n\u001b[0;32m      2\u001b[0m \u001b[1;31m# Calculando a taxa média de cada país:\u001b[0m\u001b[1;33m\u001b[0m\u001b[1;33m\u001b[0m\u001b[1;33m\u001b[0m\u001b[0m\n\u001b[0;32m      3\u001b[0m \u001b[0mtaxCo2\u001b[0m\u001b[1;33m=\u001b[0m \u001b[1;33m[\u001b[0m\u001b[1;33m]\u001b[0m\u001b[1;33m\u001b[0m\u001b[1;33m\u001b[0m\u001b[0m\n\u001b[1;32m----> 4\u001b[1;33m \u001b[1;32mfor\u001b[0m \u001b[0mi\u001b[0m \u001b[1;32min\u001b[0m \u001b[0mcountry\u001b[0m\u001b[1;33m.\u001b[0m\u001b[0mkeys\u001b[0m\u001b[1;33m(\u001b[0m\u001b[1;33m)\u001b[0m\u001b[1;33m:\u001b[0m\u001b[1;33m\u001b[0m\u001b[1;33m\u001b[0m\u001b[0m\n\u001b[0m\u001b[0;32m      5\u001b[0m     \u001b[0mtaxCountry\u001b[0m \u001b[1;33m=\u001b[0m \u001b[1;36m1\u001b[0m\u001b[1;33m\u001b[0m\u001b[1;33m\u001b[0m\u001b[0m\n\u001b[0;32m      6\u001b[0m     \u001b[1;32mfor\u001b[0m \u001b[0mj\u001b[0m \u001b[1;32min\u001b[0m \u001b[0mrange\u001b[0m\u001b[1;33m(\u001b[0m\u001b[1;36m1\u001b[0m\u001b[1;33m,\u001b[0m\u001b[0mlen\u001b[0m\u001b[1;33m(\u001b[0m\u001b[0mcountry\u001b[0m\u001b[1;33m[\u001b[0m\u001b[0mi\u001b[0m\u001b[1;33m]\u001b[0m\u001b[1;33m)\u001b[0m\u001b[1;33m)\u001b[0m\u001b[1;33m:\u001b[0m\u001b[1;33m\u001b[0m\u001b[1;33m\u001b[0m\u001b[0m\n",
      "\u001b[1;31mNameError\u001b[0m: name 'country' is not defined"
     ]
    }
   ],
   "source": [
    "# A taxa média de cada país deve ser calculada utilizando a média geométrica.\n",
    "# Calculando a taxa média de cada país:\n",
    "taxCo2= []\n",
    "for i in country.keys():\n",
    "    taxCountry = 1\n",
    "    for j in range(1,len(country[i])):\n",
    "        taxCountry *= country[i][j]/country[i][j-1]\n",
    "    taxCo2.append(taxCountry**(1/(len(country[i])-1)))\n",
    "taxCo2 = np.array(taxCo2)\n",
    "sortedIndex = taxCo2.argsort()\n",
    "print(countryName[sortedIndex[0]])\n",
    "print(taxCo2[sortedIndex[0]])"
   ]
  },
  {
   "cell_type": "code",
   "execution_count": 4,
   "metadata": {},
   "outputs": [
    {
     "data": {
      "text/html": [
       "<div>\n",
       "<style scoped>\n",
       "    .dataframe tbody tr th:only-of-type {\n",
       "        vertical-align: middle;\n",
       "    }\n",
       "\n",
       "    .dataframe tbody tr th {\n",
       "        vertical-align: top;\n",
       "    }\n",
       "\n",
       "    .dataframe thead th {\n",
       "        text-align: right;\n",
       "    }\n",
       "</style>\n",
       "<table border=\"1\" class=\"dataframe\">\n",
       "  <thead>\n",
       "    <tr style=\"text-align: right;\">\n",
       "      <th></th>\n",
       "      <th>2000 [YR2000]</th>\n",
       "      <th>2001 [YR2001]</th>\n",
       "      <th>2002 [YR2002]</th>\n",
       "      <th>2003 [YR2003]</th>\n",
       "      <th>2004 [YR2004]</th>\n",
       "      <th>2005 [YR2005]</th>\n",
       "      <th>2006 [YR2006]</th>\n",
       "      <th>2007 [YR2007]</th>\n",
       "      <th>2008 [YR2008]</th>\n",
       "      <th>2009 [YR2009]</th>\n",
       "      <th>2010 [YR2010]</th>\n",
       "      <th>2011 [YR2011]</th>\n",
       "      <th>2012 [YR2012]</th>\n",
       "      <th>2013 [YR2013]</th>\n",
       "      <th>2014 [YR2014]</th>\n",
       "      <th>sum</th>\n",
       "      <th>tax</th>\n",
       "    </tr>\n",
       "    <tr>\n",
       "      <th>Country Name</th>\n",
       "      <th></th>\n",
       "      <th></th>\n",
       "      <th></th>\n",
       "      <th></th>\n",
       "      <th></th>\n",
       "      <th></th>\n",
       "      <th></th>\n",
       "      <th></th>\n",
       "      <th></th>\n",
       "      <th></th>\n",
       "      <th></th>\n",
       "      <th></th>\n",
       "      <th></th>\n",
       "      <th></th>\n",
       "      <th></th>\n",
       "      <th></th>\n",
       "      <th></th>\n",
       "    </tr>\n",
       "  </thead>\n",
       "  <tbody>\n",
       "    <tr>\n",
       "      <th>Aruba</th>\n",
       "      <td>2379.883</td>\n",
       "      <td>2409.219</td>\n",
       "      <td>2438.555</td>\n",
       "      <td>2563.233</td>\n",
       "      <td>2618.238</td>\n",
       "      <td>2720.914</td>\n",
       "      <td>2717.247</td>\n",
       "      <td>2823.59</td>\n",
       "      <td>2658.575</td>\n",
       "      <td>2629.239</td>\n",
       "      <td>2508.228</td>\n",
       "      <td>2500.894</td>\n",
       "      <td>1349.456</td>\n",
       "      <td>861.745</td>\n",
       "      <td>872.746</td>\n",
       "      <td>34051.762</td>\n",
       "      <td>0.930853</td>\n",
       "    </tr>\n",
       "  </tbody>\n",
       "</table>\n",
       "</div>"
      ],
      "text/plain": [
       "              2000 [YR2000]  2001 [YR2001]  2002 [YR2002]  2003 [YR2003]  \\\n",
       "Country Name                                                               \n",
       "Aruba              2379.883       2409.219       2438.555       2563.233   \n",
       "\n",
       "              2004 [YR2004]  2005 [YR2005]  2006 [YR2006]  2007 [YR2007]  \\\n",
       "Country Name                                                               \n",
       "Aruba              2618.238       2720.914       2717.247        2823.59   \n",
       "\n",
       "              2008 [YR2008]  2009 [YR2009]  2010 [YR2010]  2011 [YR2011]  \\\n",
       "Country Name                                                               \n",
       "Aruba              2658.575       2629.239       2508.228       2500.894   \n",
       "\n",
       "              2012 [YR2012]  2013 [YR2013]  2014 [YR2014]        sum       tax  \n",
       "Country Name                                                                    \n",
       "Aruba              1349.456        861.745        872.746  34051.762  0.930853  "
      ]
     },
     "execution_count": 4,
     "metadata": {},
     "output_type": "execute_result"
    }
   ],
   "source": [
    "year[\"tax\"] = (year[\"2014 [YR2014]\"]/year[\"2000 [YR2000]\"])**(1/14)\n",
    "year.sort_values(\"tax\", ascending=True).head(1)"
   ]
  },
  {
   "cell_type": "markdown",
   "metadata": {},
   "source": [
    "c) Quantos países conseguiram diminuir a emissão de CO2 durante este período? Em outras palavras, quantos países tiveram sua taxa média de emissão de CO2 menor que 1?"
   ]
  },
  {
   "cell_type": "code",
   "execution_count": 23,
   "metadata": {},
   "outputs": [
    {
     "name": "stdout",
     "output_type": "stream",
     "text": [
      "42\n"
     ]
    }
   ],
   "source": [
    "print(len(taxCo2[taxCo2<1]))"
   ]
  },
  {
   "cell_type": "code",
   "execution_count": 5,
   "metadata": {},
   "outputs": [
    {
     "data": {
      "text/plain": [
       "42"
      ]
     },
     "execution_count": 5,
     "metadata": {},
     "output_type": "execute_result"
    }
   ],
   "source": [
    "len(year[year[\"tax\"] < 1])"
   ]
  },
  {
   "cell_type": "markdown",
   "metadata": {},
   "source": [
    "d) Qual é a taxa média de emissão de CO2 do Brasil ao longo destes anos?"
   ]
  },
  {
   "cell_type": "code",
   "execution_count": 24,
   "metadata": {},
   "outputs": [
    {
     "name": "stdout",
     "output_type": "stream",
     "text": [
      "1.0348470342467841\n"
     ]
    }
   ],
   "source": [
    "taxCountry = 1\n",
    "for j in range(1,len(country[\"Brazil\"])):\n",
    "    taxCountry *= country[\"Brazil\"][j]/country[\"Brazil\"][j-1]\n",
    "taxBrazil = (taxCountry**(1/(len(country[\"Brazil\"])-1)))\n",
    "print(taxBrazil)"
   ]
  },
  {
   "cell_type": "code",
   "execution_count": 6,
   "metadata": {},
   "outputs": [
    {
     "data": {
      "text/html": [
       "<div>\n",
       "<style scoped>\n",
       "    .dataframe tbody tr th:only-of-type {\n",
       "        vertical-align: middle;\n",
       "    }\n",
       "\n",
       "    .dataframe tbody tr th {\n",
       "        vertical-align: top;\n",
       "    }\n",
       "\n",
       "    .dataframe thead th {\n",
       "        text-align: right;\n",
       "    }\n",
       "</style>\n",
       "<table border=\"1\" class=\"dataframe\">\n",
       "  <thead>\n",
       "    <tr style=\"text-align: right;\">\n",
       "      <th></th>\n",
       "      <th>tax</th>\n",
       "    </tr>\n",
       "    <tr>\n",
       "      <th>Country Name</th>\n",
       "      <th></th>\n",
       "    </tr>\n",
       "  </thead>\n",
       "  <tbody>\n",
       "    <tr>\n",
       "      <th>Brazil</th>\n",
       "      <td>1.034847</td>\n",
       "    </tr>\n",
       "  </tbody>\n",
       "</table>\n",
       "</div>"
      ],
      "text/plain": [
       "                   tax\n",
       "Country Name          \n",
       "Brazil        1.034847"
      ]
     },
     "execution_count": 6,
     "metadata": {},
     "output_type": "execute_result"
    }
   ],
   "source": [
    "year.loc[[\"Brazil\"],[\"tax\"]]"
   ]
  },
  {
   "attachments": {
    "image.png": {
     "image/png": "[encoded data removed]"
    }
   },
   "cell_type": "markdown",
   "metadata": {},
   "source": [
    "e) A taxa média de emissão de CO2 entre os países segue aproximadamente uma distribuição normal como mostra o gráfico abaixo. Dos países que estamos analisando, quantos deles possuem a taxa média maior que a taxa média brasileira? \n",
    "\n",
    "![image.png](attachment:image.png)"
   ]
  },
  {
   "cell_type": "code",
   "execution_count": 25,
   "metadata": {},
   "outputs": [
    {
     "data": {
      "image/png": "[encoded data removed]",
      "text/plain": [
       "<Figure size 432x288 with 1 Axes>"
      ]
     },
     "metadata": {},
     "output_type": "display_data"
    }
   ],
   "source": [
    "bins = np.linspace(taxCo2.min(),taxCo2.max(),20)\n",
    "plt.hist(taxCo2, bins, rwidth=0.9)\n",
    "plt.show()"
   ]
  },
  {
   "cell_type": "code",
   "execution_count": 7,
   "metadata": {},
   "outputs": [
    {
     "ename": "NameError",
     "evalue": "name 'taxBrazil' is not defined",
     "output_type": "error",
     "traceback": [
      "\u001b[1;31m---------------------------------------------------------------------------\u001b[0m",
      "\u001b[1;31mNameError\u001b[0m                                 Traceback (most recent call last)",
      "\u001b[1;32m<ipython-input-7-a7d5a799e889>\u001b[0m in \u001b[0;36m<module>\u001b[1;34m\u001b[0m\n\u001b[1;32m----> 1\u001b[1;33m \u001b[0mprint\u001b[0m\u001b[1;33m(\u001b[0m\u001b[0mlen\u001b[0m\u001b[1;33m(\u001b[0m\u001b[0mtaxCo2\u001b[0m\u001b[1;33m[\u001b[0m\u001b[0mtaxCo2\u001b[0m\u001b[1;33m>\u001b[0m\u001b[0mtaxBrazil\u001b[0m\u001b[1;33m]\u001b[0m\u001b[1;33m)\u001b[0m\u001b[1;33m)\u001b[0m\u001b[1;33m\u001b[0m\u001b[1;33m\u001b[0m\u001b[0m\n\u001b[0m",
      "\u001b[1;31mNameError\u001b[0m: name 'taxBrazil' is not defined"
     ]
    }
   ],
   "source": [
    "print(len(taxCo2[taxCo2>taxBrazil]))"
   ]
  },
  {
   "cell_type": "code",
   "execution_count": 10,
   "metadata": {},
   "outputs": [
    {
     "data": {
      "text/plain": [
       "79"
      ]
     },
     "execution_count": 10,
     "metadata": {},
     "output_type": "execute_result"
    }
   ],
   "source": [
    "len(year[year[\"tax\"] > year[\"tax\"][\"Brazil\"]])"
   ]
  },
  {
   "attachments": {
    "image.png": {
     "image/png": "[encoded data removed]"
    }
   },
   "cell_type": "markdown",
   "metadata": {},
   "source": [
    "f) A Noruega é um dos países que vem fazendo esforço para diminuir a emissão de CO2. Abaixo se encontra o gráfico que demonstra a quantidade de CO2 emitido por este país ao longo do período apresentado pelos dados. Tendo em mente este padrão de emissão de CO2 da Noruega, qual o país que possui um padrão de emissão de CO2 mais similar ao padrão da Noruega? Plote um gráfico que consiga demonstrar a semelhança dos padrões de emissão de CO2 entre os dois países. Plote também no mesmo gráfico o padrão de emissão de CO2 do país que seja menos similar ao padrão da Noruega.\n",
    "\n",
    "![image.png](attachment:image.png)"
   ]
  },
  {
   "cell_type": "code",
   "execution_count": 27,
   "metadata": {},
   "outputs": [
    {
     "data": {
      "image/png": "[encoded data removed]",
      "text/plain": [
       "<Figure size 432x288 with 1 Axes>"
      ]
     },
     "metadata": {},
     "output_type": "display_data"
    }
   ],
   "source": [
    "years = range(2000,2015)\n",
    "plt.plot(years, country[\"Norway\"])\n",
    "plt.grid()\n",
    "plt.show()"
   ]
  },
  {
   "cell_type": "code",
   "execution_count": 28,
   "metadata": {},
   "outputs": [
    {
     "data": {
      "image/png": "[encoded data removed]",
      "text/plain": [
       "<Figure size 432x288 with 1 Axes>"
      ]
     },
     "metadata": {},
     "output_type": "display_data"
    }
   ],
   "source": [
    "# para encontrar um país que tenha um padrão similar a Noruega, deve-se realizar \n",
    "# a correlação de Pearson entre os dados de Noruega com os demais países.\n",
    "\n",
    "compCountry = \"Norway\"\n",
    "corrFin = []\n",
    "countryName = []\n",
    "for i in country.keys():\n",
    "    corrFin.append(corr(country[compCountry], country[i]))\n",
    "    countryName.append(i)\n",
    "corrFin = np.array(corrFin)\n",
    "sortedIndex = corrFin.argsort()\n",
    "\n",
    "plt.plot(years, country[compCountry], label=compCountry)\n",
    "plt.plot(years, country[countryName[sortedIndex[-2]]], label=countryName[sortedIndex[-2]])\n",
    "plt.legend()\n",
    "plt.show()\n",
    "\n",
    "# Nesta análise podemos verificar que Grenada é o que possui a correlação mais alta com os dados de Noruega."
   ]
  },
  {
   "cell_type": "code",
   "execution_count": 29,
   "metadata": {},
   "outputs": [
    {
     "data": {
      "image/png": "[encoded data removed]",
      "text/plain": [
       "<Figure size 432x288 with 1 Axes>"
      ]
     },
     "metadata": {},
     "output_type": "display_data"
    }
   ],
   "source": [
    "# No entanto, ao plotar os dois gráficos de forma direta, não é possível verificar claramente\n",
    "# que os dois possuam um padrão similar. Isso se deve ao problema de escala dos valores.\n",
    "# Para comparar os padrões, podemos plotar os dados transformados pelo z-score de \n",
    "# Noruega e Grenada.\n",
    "\n",
    "plt.plot(years, zTran(country[compCountry]), label=compCountry)\n",
    "plt.plot(years, zTran(country[countryName[sortedIndex[-2]]]), label=countryName[sortedIndex[-2]])\n",
    "plt.legend()\n",
    "plt.show()"
   ]
  },
  {
   "cell_type": "code",
   "execution_count": 30,
   "metadata": {},
   "outputs": [
    {
     "data": {
      "image/png": "[encoded data removed]",
      "text/plain": [
       "<Figure size 432x288 with 1 Axes>"
      ]
     },
     "metadata": {},
     "output_type": "display_data"
    }
   ],
   "source": [
    "plt.plot(years, zTran(country[compCountry]), label=compCountry)\n",
    "plt.plot(years, zTran(country[countryName[sortedIndex[0]]]), label=countryName[sortedIndex[0]])\n",
    "plt.legend()\n",
    "plt.show()"
   ]
  },
  {
   "cell_type": "code",
   "execution_count": 147,
   "metadata": {},
   "outputs": [
    {
     "name": "stdout",
     "output_type": "stream",
     "text": [
      "Country Name\n",
      "Norway     1.000000\n",
      "Grenada    0.834282\n",
      "dtype: float64\n",
      "Country Name\n",
      "Macedonia, FYR   -0.764877\n",
      "dtype: float64\n"
     ]
    }
   ],
   "source": [
    "year[\"mean\"] = year.loc[:,'2000 [YR2000]':'2014 [YR2014]'].mean(axis=1)\n",
    "year[\"std\"] = year.loc[:,'2000 [YR2000]':'2014 [YR2014]'].std(ddof=0,axis=1)\n",
    "norwaydata = year.loc[\"Norway\",:]\n",
    "norwaystd = norwaydata[\"std\"]\n",
    "norwaydata = norwaydata['2000 [YR2000]':'2014 [YR2014]'] - norwaydata[\"mean\"]\n",
    "\n",
    "desvio = year\n",
    "desvio = desvio.filter(regex=\"YR\")\n",
    "mean = year[\"mean\"]\n",
    "prodSd = year[\"std\"]*norwaystd\n",
    "\n",
    "desvio = desvio.sub(mean, axis=0)\n",
    "corr = mediaproddesvio/prodSd\n",
    "print(corr.sort_values(ascending=False).head(2))\n",
    "\n",
    "print(corr.sort_values(ascending=False).tail(1))"
   ]
  },
  {
   "cell_type": "code",
   "execution_count": null,
   "metadata": {},
   "outputs": [],
   "source": []
  },
  {
   "cell_type": "code",
   "execution_count": null,
   "metadata": {
    "collapsed": true
   },
   "outputs": [],
   "source": []
  }
 ],
 "metadata": {
  "kernelspec": {
   "display_name": "Python 3",
   "language": "python",
   "name": "python3"
  },
  "language_info": {
   "codemirror_mode": {
    "name": "ipython",
    "version": 3
   },
   "file_extension": ".py",
   "mimetype": "text/x-python",
   "name": "python",
   "nbconvert_exporter": "python",
   "pygments_lexer": "ipython3",
   "version": "3.7.1"
  }
 },
 "nbformat": 4,
 "nbformat_minor": 2
}
