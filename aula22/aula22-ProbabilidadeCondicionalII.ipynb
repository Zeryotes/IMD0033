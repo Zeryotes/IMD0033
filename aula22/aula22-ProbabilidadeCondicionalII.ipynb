{
 "cells": [
  {
   "cell_type": "markdown",
   "metadata": {},
   "source": [
    "# IMD0033 - Probabilidade\n",
    "\n",
    "## Exercícios sobre probabilidade"
   ]
  },
  {
   "cell_type": "markdown",
   "metadata": {},
   "source": [
    "#### Paradoxo da data de aniversário\n",
    "\n",
    "Durante a aula discutimos sobre o paradoxo da data de aniversário, que visa em calcular a probabilidade de você encontrar dois ou mais pessoas que tem o mesmo aniversário (considerando o dia e o mês) em um grupo de n pessoas.\n",
    "\n",
    "Para determinar qual que é o número mínimo de pessoas necessárias para obtermos uma probabilidade acima de 50%, devemos calcular a probabilidade de você encontrar duas pessoas com o mesmo aniversário em um grupo contendo 2, 3, 4, ... até 365 pessoas e verificar em qual delas a probabilidade fica acima dos 50%. Lembre-se que grupos com mais de 365 pessoas, a probabilidade de encontrar duas ou mais pessoas com a mesma data de aniversário é de 100%.\n",
    "\n",
    "1) Determine qual o número mínimo de pessoas que deve se ter um grupo para que a probabilidade de encontrar duas ou mais pessoas com a mesma data de aniversário seja acima de 50%."
   ]
  },
  {
   "cell_type": "code",
   "execution_count": null,
   "metadata": {},
   "outputs": [],
   "source": []
  },
  {
   "cell_type": "markdown",
   "metadata": {},
   "source": [
    "2) Faça um gráfico onde demonstre a relação entre a probabilidade de se encontrar duas pessoas com o mesmo aniversário e o número de pessoas no grupo."
   ]
  },
  {
   "cell_type": "code",
   "execution_count": null,
   "metadata": {
    "scrolled": true
   },
   "outputs": [],
   "source": []
  },
  {
   "cell_type": "markdown",
   "metadata": {},
   "source": [
    "3) O número de pessoas mínimo encontrado no exercício 1 parece ser mais baixo que o esperado. Será que isso está certo? Sugira e execute um experimento de simulação que comprove (ou não) que a probabilidade encontrada esteja certa (ou errada)."
   ]
  },
  {
   "cell_type": "code",
   "execution_count": null,
   "metadata": {},
   "outputs": [],
   "source": []
  }
 ],
 "metadata": {
  "kernelspec": {
   "display_name": "Python 3",
   "language": "python",
   "name": "python3"
  },
  "language_info": {
   "codemirror_mode": {
    "name": "ipython",
    "version": 3
   },
   "file_extension": ".py",
   "mimetype": "text/x-python",
   "name": "python",
   "nbconvert_exporter": "python",
   "pygments_lexer": "ipython3",
   "version": "3.6.5"
  }
 },
 "nbformat": 4,
 "nbformat_minor": 2
}
