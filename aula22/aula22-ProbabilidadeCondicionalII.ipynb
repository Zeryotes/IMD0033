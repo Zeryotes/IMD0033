{
 "cells": [
  {
   "cell_type": "markdown",
   "metadata": {},
   "source": [
    "# IMD0033 - Probabilidade\n",
    "\n",
    "## Exercícios sobre probabilidade"
   ]
  },
  {
   "cell_type": "markdown",
   "metadata": {},
   "source": [
    "#### Paradoxo da data de aniversário\n",
    "\n",
    "Durante a aula discutimos sobre o paradoxo da data de aniversário, que visa em calcular a probabilidade de você encontrar dois ou mais pessoas que tem o mesmo aniversário (considerando o dia e o mês) em um grupo de n pessoas.\n",
    "\n",
    "Para determinar qual que é o número mínimo de pessoas necessárias para obtermos uma probabilidade acima de 50%, devemos calcular a probabilidade de você encontrar duas pessoas com o mesmo aniversário em um grupo contendo 2, 3, 4, ... até 365 pessoas e verificar em qual delas a probabilidade fica acima dos 50%. Lembre-se que grupos com mais de 365 pessoas, a probabilidade de encontrar duas ou mais pessoas com a mesma data de aniversário é de 100%.\n",
    "\n",
    "1) Determine qual o número mínimo de pessoas que deve se ter um grupo para que a probabilidade de encontrar duas ou mais pessoas com a mesma data de aniversário seja acima de 50%."
   ]
  },
  {
   "cell_type": "code",
   "execution_count": 1,
   "metadata": {},
   "outputs": [
    {
     "data": {
      "text/plain": [
       "[0.002739726027397249,\n",
       " 0.008204165884781345,\n",
       " 0.016355912466550215,\n",
       " 0.02713557369979347,\n",
       " 0.040462483649111425,\n",
       " 0.056235703095975365,\n",
       " 0.07433529235166902,\n",
       " 0.09462383388916673,\n",
       " 0.11694817771107768,\n",
       " 0.14114137832173312,\n",
       " 0.1670247888380645,\n",
       " 0.19441027523242949,\n",
       " 0.2231025120049731,\n",
       " 0.25290131976368646,\n",
       " 0.2836040052528501,\n",
       " 0.3150076652965609,\n",
       " 0.3469114178717896,\n",
       " 0.37911852603153695,\n",
       " 0.41143838358058027,\n",
       " 0.443688335165206,\n",
       " 0.4756953076625503,\n",
       " 0.5072972343239857,\n",
       " 0.538344257914529,\n",
       " 0.568699703969464,\n",
       " 0.598240820135939,\n",
       " 0.6268592822632421,\n",
       " 0.6544614723423995,\n",
       " 0.6809685374777771,\n",
       " 0.7063162427192688,\n",
       " 0.7304546337286439,\n",
       " 0.7533475278503208,\n",
       " 0.7749718541757721,\n",
       " 0.7953168646201543,\n",
       " 0.8143832388747153,\n",
       " 0.8321821063798795,\n",
       " 0.8487340082163846,\n",
       " 0.864067821082121,\n",
       " 0.878219664366722,\n",
       " 0.891231809817949,\n",
       " 0.9031516114817354,\n",
       " 0.9140304715618692,\n",
       " 0.9239228556561199,\n",
       " 0.9328853685514263,\n",
       " 0.940975899465775,\n",
       " 0.9482528433672548,\n",
       " 0.9547744028332994,\n",
       " 0.9605979728794225,\n",
       " 0.9657796093226765,\n",
       " 0.9703735795779884,\n",
       " 0.9744319933344283,\n",
       " 0.9780045093342753,\n",
       " 0.9811381134839128,\n",
       " 0.9838769627588515,\n",
       " 0.9862622888164461,\n",
       " 0.9883323548852008,\n",
       " 0.9901224593411699,\n",
       " 0.9916649793892612,\n",
       " 0.992989448417817,\n",
       " 0.994122660865348,\n",
       " 0.9950887988052908,\n",
       " 0.9959095748953655,\n",
       " 0.9966043868309472,\n",
       " 0.9971904789669755,\n",
       " 0.9976831073124921,\n",
       " 0.9980957046404045,\n",
       " 0.9984400429793998,\n",
       " 0.9987263912544141,\n",
       " 0.9989636663083863,\n",
       " 0.9991595759651571,\n",
       " 0.9993207531773187,\n",
       " 0.9994528806414568,\n",
       " 0.9995608055560187,\n",
       " 0.9996486444448149,\n",
       " 0.9997198781738114,\n",
       " 0.9997774374531652,\n",
       " 0.999823779243739,\n",
       " 0.9998609545813611,\n",
       " 0.9998906683968511,\n",
       " 0.9999143319493135,\n",
       " 0.999933108508368,\n",
       " 0.9999479529215796,\n",
       " 0.9999596456898823,\n",
       " 0.9999688221494433,\n",
       " 0.9999759973260097,\n",
       " 0.9999815869898157,\n",
       " 0.9999859253976947,\n",
       " 0.9999892801659155,\n",
       " 0.9999918646738591,\n",
       " 0.9999938483561236,\n",
       " 0.9999953651998191,\n",
       " 0.9999965207253437,\n",
       " 0.9999973976932023,\n",
       " 0.9999980607467152,\n",
       " 0.9999985601708488,\n",
       " 0.9999989349209019,\n",
       " 0.9999992150512947,\n",
       " 0.9999994236541013,\n",
       " 0.9999995783990275]"
      ]
     },
     "execution_count": 1,
     "metadata": {},
     "output_type": "execute_result"
    }
   ],
   "source": [
    "P = list()\n",
    "n = range(2,100)\n",
    "days = 364\n",
    "prod = 1\n",
    "for i in range(2,100):\n",
    "    prod = prod*(days/365)\n",
    "    P.append(1-prod)\n",
    "    days = days-1\n",
    "    \n",
    "P"
   ]
  },
  {
   "cell_type": "markdown",
   "metadata": {},
   "source": [
    "2) Faça um gráfico onde demonstre a relação entre a probabilidade de se encontrar duas pessoas com o mesmo aniversário e o número de pessoas no grupo."
   ]
  },
  {
   "cell_type": "code",
   "execution_count": 2,
   "metadata": {
    "scrolled": true
   },
   "outputs": [
    {
     "data": {
      "text/plain": [
       "<Figure size 640x480 with 1 Axes>"
      ]
     },
     "metadata": {},
     "output_type": "display_data"
    }
   ],
   "source": [
    "import matplotlib.pyplot as plt\n",
    "plt.plot(n,P, marker=\"o\")\n",
    "plt.show()"
   ]
  },
  {
   "cell_type": "markdown",
   "metadata": {},
   "source": [
    "3) O número de pessoas mínimo encontrado no exercício 1 parece ser mais baixo que o esperado. Será que isso está certo? Sugira e execute um experimento de simulação que comprove (ou não) que a probabilidade encontrada esteja certa (ou errada)."
   ]
  },
  {
   "cell_type": "code",
   "execution_count": null,
   "metadata": {},
   "outputs": [],
   "source": [
    "import numpy as np\n",
    "\n",
    "for i in range(1000)\n",
    "    "
   ]
  }
 ],
 "metadata": {
  "kernelspec": {
   "display_name": "Python 3",
   "language": "python",
   "name": "python3"
  },
  "language_info": {
   "codemirror_mode": {
    "name": "ipython",
    "version": 3
   },
   "file_extension": ".py",
   "mimetype": "text/x-python",
   "name": "python",
   "nbconvert_exporter": "python",
   "pygments_lexer": "ipython3",
   "version": "3.6.5"
  }
 },
 "nbformat": 4,
 "nbformat_minor": 2
}
