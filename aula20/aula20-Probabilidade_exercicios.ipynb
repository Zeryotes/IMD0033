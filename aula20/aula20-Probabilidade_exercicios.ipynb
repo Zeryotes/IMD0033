{
 "cells": [
  {
   "cell_type": "markdown",
   "metadata": {},
   "source": [
    "# IMD0033 - Probabilidade\n",
    "\n",
    "## Exercícios sobre probabilidade"
   ]
  },
  {
   "cell_type": "code",
   "execution_count": 2,
   "metadata": {},
   "outputs": [],
   "source": [
    "def perm(n): # calcula o número de permutações do conjunto n\n",
    "    result = 1;\n",
    "    if (n > 0):\n",
    "        for i in range(n):\n",
    "            result *= i+1\n",
    "    return result\n",
    "\n",
    "def pperm(n, k): # calcula o número de permutações parciais do conjunto n de tamanho k\n",
    "    return (perm(n)/perm(n-k))\n",
    "\n",
    "def cb(n,k):\n",
    "    return pperm(n,k)/perm(k)"
   ]
  },
  {
   "cell_type": "markdown",
   "metadata": {},
   "source": [
    "#### Exercício 1 (Roleta)\n",
    "\n",
    "Considere uma roleta de padrão europeu e responda:\n",
    "\n",
    "a) Qual o tamanho do espaço amostral de uma jogada na roleta?"
   ]
  },
  {
   "cell_type": "code",
   "execution_count": null,
   "metadata": {},
   "outputs": [],
   "source": []
  },
  {
   "cell_type": "markdown",
   "metadata": {},
   "source": [
    "b) Qual a probabilidade da bola cair na casa do número 34?"
   ]
  },
  {
   "cell_type": "code",
   "execution_count": null,
   "metadata": {},
   "outputs": [],
   "source": []
  },
  {
   "cell_type": "markdown",
   "metadata": {},
   "source": [
    "c) Qual a probabilidade da bola cair em um número vermelho?"
   ]
  },
  {
   "cell_type": "code",
   "execution_count": null,
   "metadata": {},
   "outputs": [],
   "source": []
  },
  {
   "cell_type": "markdown",
   "metadata": {},
   "source": [
    "d) Qual a probabilidade da bola cair nos primeiros 12 números?"
   ]
  },
  {
   "cell_type": "code",
   "execution_count": null,
   "metadata": {},
   "outputs": [],
   "source": []
  },
  {
   "cell_type": "markdown",
   "metadata": {},
   "source": [
    "e) Suponha que você jogue n jogadas, sempre apostando uma ficha no seu número da sorte. Após n jogadas, quantas fichas você espera ganhar (ou perder) nesse tipo de jogo? Neste caso, considere que se a bolinha cair no seu número, você receberá 36 fichas."
   ]
  },
  {
   "cell_type": "code",
   "execution_count": null,
   "metadata": {},
   "outputs": [],
   "source": []
  },
  {
   "cell_type": "markdown",
   "metadata": {},
   "source": [
    "f) Suponha que você jogue n jogadas, sempre apostando uma ficha nos números vermelhos. Após n jogadas, quantas fichas você espera ganhar (ou perder) nesse tipo de jogo? Neste caso, considere que se a bolinha cair em um número vermelho, você receberá 2 fichas."
   ]
  },
  {
   "cell_type": "code",
   "execution_count": null,
   "metadata": {},
   "outputs": [],
   "source": []
  },
  {
   "cell_type": "markdown",
   "metadata": {},
   "source": [
    "g) Em uma roleta de padrão americano o ganho ou a perda do apostador neste jogo será maior ou menor em relação à roleta de padrão europeu após n jogos?"
   ]
  },
  {
   "cell_type": "code",
   "execution_count": null,
   "metadata": {},
   "outputs": [],
   "source": []
  },
  {
   "cell_type": "markdown",
   "metadata": {},
   "source": [
    "#### Exercício 2 (Dominó)\n",
    "\n",
    "Considere as peças de um jogo de dominó e responda:\n",
    "\n",
    "a) Qual o tamanho do espaço amostral em um experimento onde se pega aleatoriamente uma peça de dominó?"
   ]
  },
  {
   "cell_type": "code",
   "execution_count": null,
   "metadata": {},
   "outputs": [],
   "source": []
  },
  {
   "cell_type": "markdown",
   "metadata": {},
   "source": [
    "b) Caso você pegue uma peça aleatoriamente, qual será a probabilidade dele ser 5:4?"
   ]
  },
  {
   "cell_type": "code",
   "execution_count": null,
   "metadata": {},
   "outputs": [],
   "source": []
  },
  {
   "cell_type": "markdown",
   "metadata": {},
   "source": [
    "c) Caso você pegue uma peça aleatoriamente, qual a probabilidade de você pegar uma peça com número 6?"
   ]
  },
  {
   "cell_type": "code",
   "execution_count": null,
   "metadata": {},
   "outputs": [],
   "source": []
  },
  {
   "cell_type": "markdown",
   "metadata": {},
   "source": [
    "d) Caso você pegue uma peça aleatoriamente, qual a probabilidade de você pegar uma dupla?"
   ]
  },
  {
   "cell_type": "code",
   "execution_count": null,
   "metadata": {},
   "outputs": [],
   "source": []
  },
  {
   "cell_type": "markdown",
   "metadata": {},
   "source": [
    "e) Caso você pegue uma peça aleatoriamente, qual a probabilidade de você pegar uma peça com números diferentes?"
   ]
  },
  {
   "cell_type": "code",
   "execution_count": null,
   "metadata": {},
   "outputs": [],
   "source": []
  },
  {
   "cell_type": "markdown",
   "metadata": {},
   "source": [
    "f) Supondo que um jogador jogou uma dupla (exemplo: 4:4) na mesa. Se você comprar uma peça, qual a probabilidade de você conseguir encaixar a peça no jogo?"
   ]
  },
  {
   "cell_type": "code",
   "execution_count": null,
   "metadata": {},
   "outputs": [],
   "source": []
  },
  {
   "cell_type": "markdown",
   "metadata": {},
   "source": [
    "g) Supondo que um jogador jogou uma peça de números diferentes (exemplo: 1:4) na mesa. Se você comprar uma peça, qual a probabilidade de você conseguir encaixar a peça no jogo?"
   ]
  },
  {
   "cell_type": "markdown",
   "metadata": {},
   "source": []
  },
  {
   "cell_type": "markdown",
   "metadata": {},
   "source": [
    "h) Suponha que você não saiba qual a peça que será colocado na mesa primeiro. Qual a probabilidade de você comprar uma peça que que encaixe no jogo?"
   ]
  },
  {
   "cell_type": "code",
   "execution_count": null,
   "metadata": {},
   "outputs": [],
   "source": []
  }
 ],
 "metadata": {
  "kernelspec": {
   "display_name": "Python 3",
   "language": "python",
   "name": "python3"
  },
  "language_info": {
   "codemirror_mode": {
    "name": "ipython",
    "version": 3
   },
   "file_extension": ".py",
   "mimetype": "text/x-python",
   "name": "python",
   "nbconvert_exporter": "python",
   "pygments_lexer": "ipython3",
   "version": "3.6.5"
  }
 },
 "nbformat": 4,
 "nbformat_minor": 2
}
