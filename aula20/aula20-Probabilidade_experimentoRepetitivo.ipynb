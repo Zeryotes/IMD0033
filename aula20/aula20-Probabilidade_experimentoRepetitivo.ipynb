{
 "cells": [
  {
   "cell_type": "markdown",
   "metadata": {},
   "source": [
    "# IMD0033 - Probabilidade\n",
    "\n",
    "## Experimentos repetitivos"
   ]
  },
  {
   "cell_type": "code",
   "execution_count": 2,
   "metadata": {},
   "outputs": [],
   "source": [
    "def perm(n): # calcula o número de permutações do conjunto n\n",
    "    result = 1;\n",
    "    if (n > 0):\n",
    "        for i in range(n):\n",
    "            result *= i+1\n",
    "    return result\n",
    "\n",
    "def pperm(n, k): # calcula o número de permutações parciais do conjunto n de tamanho k\n",
    "    return (perm(n)/perm(n-k))\n",
    "\n",
    "def cb(n,k):\n",
    "    return pperm(n,k)/perm(k)"
   ]
  },
  {
   "cell_type": "markdown",
   "metadata": {},
   "source": [
    "### Exercícios \n",
    "\n",
    "#### Questão 1\n",
    "\n",
    "Em um jogo de pôquer, o jogador recebe 5 cartas um jogador recebe 5 cartas do baralho para tentar montar uma jogada. Calcule a probabilidade de se conseguir cada uma dessas jogadas.\n",
    "\n",
    "a) Calcule o tamanho do espaço amostral das possíveis combinações de cartas. (Resposta: 2598960)"
   ]
  },
  {
   "cell_type": "code",
   "execution_count": 53,
   "metadata": {},
   "outputs": [
    {
     "name": "stdout",
     "output_type": "stream",
     "text": [
      "2598960.0\n"
     ]
    }
   ],
   "source": []
  },
  {
   "cell_type": "markdown",
   "metadata": {},
   "source": [
    "b) Calcule a probabilidade de se obter um *Royal Straight Flush* (5 cartas seguidas do mesmo naipe do 10 ao às). (Resposta: 1.5390771693292702e-06)"
   ]
  },
  {
   "cell_type": "code",
   "execution_count": 54,
   "metadata": {},
   "outputs": [
    {
     "name": "stdout",
     "output_type": "stream",
     "text": [
      "1.5390771693292702e-06\n"
     ]
    }
   ],
   "source": []
  },
  {
   "cell_type": "markdown",
   "metadata": {},
   "source": [
    "c) Calcule a probabilidade de se obter um *Straight Flush* (5 cartas seguidas do mesmo naipe, sem ser do 10 até ao às). (Resposta: 1.3851694523963431e-05)"
   ]
  },
  {
   "cell_type": "code",
   "execution_count": 55,
   "metadata": {},
   "outputs": [
    {
     "name": "stdout",
     "output_type": "stream",
     "text": [
      "1.3851694523963431e-05\n"
     ]
    }
   ],
   "source": []
  },
  {
   "cell_type": "markdown",
   "metadata": {},
   "source": [
    "d) Calcule a probabilidade de se obter um *Four* (São 4 cartas iguais). (Resposta: 0.00024009603841536616)"
   ]
  },
  {
   "cell_type": "code",
   "execution_count": 56,
   "metadata": {},
   "outputs": [
    {
     "name": "stdout",
     "output_type": "stream",
     "text": [
      "0.00024009603841536616\n"
     ]
    }
   ],
   "source": []
  },
  {
   "cell_type": "markdown",
   "metadata": {},
   "source": [
    "e) Calcule a probabilidade de se obter um *Full house* (Uma trinca e uma dupla). (Resposta: 0.0014405762304921968)"
   ]
  },
  {
   "cell_type": "code",
   "execution_count": 57,
   "metadata": {},
   "outputs": [
    {
     "name": "stdout",
     "output_type": "stream",
     "text": [
      "0.0014405762304921968\n"
     ]
    }
   ],
   "source": []
  },
  {
   "cell_type": "markdown",
   "metadata": {},
   "source": [
    "f) Calcule a probabilidade de se obter um *Flush* (São 5 cartas do mesmo naipe sem serem seguidas). (Resposta: 0.001965401545233478)"
   ]
  },
  {
   "cell_type": "code",
   "execution_count": 58,
   "metadata": {},
   "outputs": [
    {
     "name": "stdout",
     "output_type": "stream",
     "text": [
      "0.001965401545233478\n"
     ]
    }
   ],
   "source": []
  },
  {
   "cell_type": "markdown",
   "metadata": {},
   "source": [
    "g) Calcule a probabilidade de se obter um *Straight* (São 5 cartas seguidas sem importar o naipe). (Resposta: 0.0039246467817896395)"
   ]
  },
  {
   "cell_type": "code",
   "execution_count": 59,
   "metadata": {},
   "outputs": [
    {
     "name": "stdout",
     "output_type": "stream",
     "text": [
      "0.0039246467817896395\n"
     ]
    }
   ],
   "source": []
  },
  {
   "cell_type": "markdown",
   "metadata": {},
   "source": [
    "h) Calcule a probabilidade de se obter um *Three of a kind* (São 3 cartas iguais, mais 2 cartas diferentes). (Resposta: 0.02112845138055222)"
   ]
  },
  {
   "cell_type": "code",
   "execution_count": 60,
   "metadata": {},
   "outputs": [
    {
     "name": "stdout",
     "output_type": "stream",
     "text": [
      "0.02112845138055222\n"
     ]
    }
   ],
   "source": []
  },
  {
   "cell_type": "markdown",
   "metadata": {},
   "source": [
    "i) Calcule a probabilidade de se obter um *Two pairs* (São dois pares de cartas). (Resposta: 0.0475390156062425)"
   ]
  },
  {
   "cell_type": "code",
   "execution_count": 61,
   "metadata": {},
   "outputs": [
    {
     "name": "stdout",
     "output_type": "stream",
     "text": [
      "0.0475390156062425\n"
     ]
    }
   ],
   "source": []
  },
  {
   "cell_type": "markdown",
   "metadata": {},
   "source": [
    "j) Calcule a probabilidade de se obter um *One pair* (São 2 cartas iguais, mais 3 cartas diferentes). (Resposta: 0.4225690276110444)"
   ]
  },
  {
   "cell_type": "code",
   "execution_count": 62,
   "metadata": {},
   "outputs": [
    {
     "name": "stdout",
     "output_type": "stream",
     "text": [
      "0.4225690276110444\n"
     ]
    }
   ],
   "source": []
  },
  {
   "cell_type": "markdown",
   "metadata": {},
   "source": [
    "k) Calcule a probabilidade de se obter um *High card* (Nenhuma das combinações acima). (Resposta: 0.5011773940345369)"
   ]
  },
  {
   "cell_type": "code",
   "execution_count": 63,
   "metadata": {},
   "outputs": [
    {
     "name": "stdout",
     "output_type": "stream",
     "text": [
      "0.5011773940345369\n"
     ]
    }
   ],
   "source": []
  },
  {
   "cell_type": "code",
   "execution_count": null,
   "metadata": {},
   "outputs": [],
   "source": []
  }
 ],
 "metadata": {
  "kernelspec": {
   "display_name": "Python 3",
   "language": "python",
   "name": "python3"
  },
  "language_info": {
   "codemirror_mode": {
    "name": "ipython",
    "version": 3
   },
   "file_extension": ".py",
   "mimetype": "text/x-python",
   "name": "python",
   "nbconvert_exporter": "python",
   "pygments_lexer": "ipython3",
   "version": "3.6.5"
  }
 },
 "nbformat": 4,
 "nbformat_minor": 2
}
